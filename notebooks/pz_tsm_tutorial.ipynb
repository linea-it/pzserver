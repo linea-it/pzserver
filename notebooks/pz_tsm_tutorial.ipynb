{
 "cells": [
  {
   "cell_type": "markdown",
   "metadata": {},
   "source": [
    "\n",
    "<img align=\"left\" src = https://www.linea.org.br/wp-content/themes/LIneA/imagens/logo-header.png width=100 style=\"padding: 30px\"> \n",
    "<img align=\"left\" src = https://cdn2.webdamdb.com/1280_c3PXjCZbPM23.png width=180> <!-- style=\"padding: 20px\"--> \n",
    "\n",
    "# Training Set Maker - Tutorial Notebook\n",
    "\n",
    "**Contact author**: Julia Gschwend ([julia@linea.org.br](mailto:julia@linea.org.br)) \n",
    "\n",
    "**Last verified run**: yyyy-mm-dd <br>\n",
    "\n"
   ]
  },
  {
   "cell_type": "markdown",
   "metadata": {},
   "source": [
    "# Notebook under construction - please wait for the first verified version"
   ]
  },
  {
   "cell_type": "markdown",
   "metadata": {},
   "source": [
    "Photo-z (PZ) Training Set Maker (TSM) - [pz-tsm](https://github.com/linea-it/pz-tsm) - is tool available in the PZ Server library to support the creation of Training Sets for catalog-level machine-learning-based photo-z algorithms using spec-z (or true z, for simulations) catalogs provided by the [PZ Server](https://github.com/linea-it/pz-server) and photometric data from LSST Objects Catalogs. "
   ]
  },
  {
   "cell_type": "markdown",
   "metadata": {},
   "source": [
    "# classes para prod types - specz cat, training set (herda do pd.dataframe) \n",
    "# pz server traz objetos já na classe correspondente\n",
    "### atributos: prod id, metadata\n",
    "# tsm tem funções \n",
    "### combine specz catalogs - recebe lista de objetos specz catalogs ou lista de prod ids e criterios como argumento\n",
    "### matching - recebe 1 specz e 1 photo set (datafranme qualquer local) ou 1 prod id e 1 release tag (job remoto)\n",
    "***\n"
   ]
  }
 ],
 "metadata": {
  "kernelspec": {
   "display_name": "Python 3 (ipykernel)",
   "language": "python",
   "name": "python3"
  },
  "language_info": {
   "codemirror_mode": {
    "name": "ipython",
    "version": 3
   },
   "file_extension": ".py",
   "mimetype": "text/x-python",
   "name": "python",
   "nbconvert_exporter": "python",
   "pygments_lexer": "ipython3",
   "version": "3.9.16"
  },
  "vscode": {
   "interpreter": {
    "hash": "e9b653658693761946b8083bc5972c6593ddffeb81a0a81b81eabc816026cfc3"
   }
  }
 },
 "nbformat": 4,
 "nbformat_minor": 4
}
