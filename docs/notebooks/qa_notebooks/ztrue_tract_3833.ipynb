{
 "cells": [
  {
   "cell_type": "markdown",
   "id": "11118b23-1a05-4398-95e0-5a7172286bae",
   "metadata": {
    "execution": {
     "iopub.execute_input": "2025-01-03T12:38:18.429037Z",
     "iopub.status.busy": "2025-01-03T12:38:18.428743Z",
     "iopub.status.idle": "2025-01-03T12:38:18.433808Z",
     "shell.execute_reply": "2025-01-03T12:38:18.433000Z",
     "shell.execute_reply.started": "2025-01-03T12:38:18.429009Z"
    }
   },
   "source": [
    "## Photo-z Server \n",
    "### True redshift catalog example  \n",
    "\n",
    "Contact author: [Julia Gschwend](mailto:julia@linea.org.br) <br>\n",
    "Last verified run: **2025-Jan-03**"
   ]
  },
  {
   "cell_type": "markdown",
   "id": "9886a4b0-fe60-4eba-a715-582ed8efd329",
   "metadata": {},
   "source": [
    "**Goal**: extract a small sample of true redshifts from DP0.2 using TAP Service on RSP and upload it to the PZ Server as a tutorial example of input for the pipeline *Combine Spec-z Catalogs*. "
   ]
  },
  {
   "cell_type": "markdown",
   "id": "7e2f9d44-8de4-40ff-9fd6-2c496e056f30",
   "metadata": {},
   "source": [
    "Import libraries"
   ]
  },
  {
   "cell_type": "code",
   "execution_count": null,
   "id": "98225e97-6d7b-4712-9816-fe074c94f6af",
   "metadata": {},
   "outputs": [],
   "source": [
    "import pandas as pd\n",
    "import matplotlib.pyplot as plt\n",
    "import os\n",
    "from lsst.rsp import get_tap_service, retrieve_query"
   ]
  },
  {
   "cell_type": "markdown",
   "id": "7a59a5dd-bb3c-48d0-9675-32c2159265fc",
   "metadata": {},
   "source": [
    "Connect to TAP service"
   ]
  },
  {
   "cell_type": "code",
   "execution_count": null,
   "id": "1b47f72e-186d-45d8-808b-118a90d7405a",
   "metadata": {},
   "outputs": [],
   "source": [
    "service = get_tap_service('tap')\n",
    "assert service is not None"
   ]
  },
  {
   "cell_type": "markdown",
   "id": "4338aa8f-c849-47c8-95f0-35744b1d8e30",
   "metadata": {},
   "source": [
    "Define and execute a query to retrieve the sample with specific constraints. E.g., 1000 relatively bright galaxies in a particular tract: "
   ]
  },
  {
   "cell_type": "code",
   "execution_count": null,
   "id": "c23f8b32-8f42-48df-91e7-5e4cab653599",
   "metadata": {},
   "outputs": [],
   "source": [
    "tract = '3833'"
   ]
  },
  {
   "cell_type": "code",
   "execution_count": null,
   "id": "f16aa55e-d11b-429e-8932-bf1e6f88b60d",
   "metadata": {},
   "outputs": [],
   "source": [
    "query = '\\n'.join([\n",
    "        'SELECT TOP 1000 ', \n",
    "        'obj.objectId, ts.ra, ts.dec, ts.redshift ', \n",
    "        'FROM dp02_dc2_catalogs.MatchesTruth AS mt ',\n",
    "        'JOIN dp02_dc2_catalogs.TruthSummary AS ts ',\n",
    "        'ON mt.id_truth_type=ts.id_truth_type ',\n",
    "        'JOIN dp02_dc2_catalogs.Object AS obj ',\n",
    "        'ON mt.match_objectId=obj.objectId ', \n",
    "        f'WHERE obj.tract={tract} '\n",
    "        'AND ts.mag_r<23.0 ',\n",
    "        'AND ts.truth_type=1 ',\n",
    "        'AND obj.detect_isPrimary=1'])"
   ]
  },
  {
   "cell_type": "code",
   "execution_count": null,
   "id": "6ebaad3a-bc11-4597-8148-a5380f434966",
   "metadata": {},
   "outputs": [],
   "source": [
    "job = service.submit_job(query)\n",
    "job.run()"
   ]
  },
  {
   "cell_type": "code",
   "execution_count": null,
   "id": "891ff2bb-7e2a-40c0-a9e9-75dbd39f3caf",
   "metadata": {},
   "outputs": [],
   "source": [
    "job.url"
   ]
  },
  {
   "cell_type": "code",
   "execution_count": null,
   "id": "f17f83c7-14bd-41d2-ab78-17799a873027",
   "metadata": {},
   "outputs": [],
   "source": [
    "job.phase"
   ]
  },
  {
   "cell_type": "code",
   "execution_count": null,
   "id": "a443ba5b-1bd0-43bc-8998-f687d720dbb2",
   "metadata": {},
   "outputs": [],
   "source": [
    "job.wait(phases=['COMPLETED', 'ERROR'])\n",
    "print('Job phase is', job.phase)"
   ]
  },
  {
   "cell_type": "code",
   "execution_count": null,
   "id": "2adf803b-bcb9-4ae5-bd2a-cc80c5198ff3",
   "metadata": {},
   "outputs": [],
   "source": [
    "retrieved_job = retrieve_query(job.url)\n",
    "results = retrieved_job.fetch_result().to_table().to_pandas()\n",
    "results"
   ]
  },
  {
   "cell_type": "markdown",
   "id": "a375f9c8-de2b-401e-94d9-91f6345eb808",
   "metadata": {},
   "source": [
    "Save the results into a parquet file (or FITS, or CSV)"
   ]
  },
  {
   "cell_type": "code",
   "execution_count": null,
   "id": "b40d2e76-e235-4d34-89a8-e59ab84733ad",
   "metadata": {},
   "outputs": [],
   "source": [
    "filename = f'ztrue_tract_{tract}'\n",
    "results.to_parquet(f'{filename}.parquet')"
   ]
  },
  {
   "cell_type": "code",
   "execution_count": null,
   "id": "9e9b9209-8ae4-4aa1-8248-12501bdc2343",
   "metadata": {},
   "outputs": [],
   "source": [
    "plt.figure(figsize=[8,3])\n",
    "plt.subplot(121)\n",
    "plt.scatter(results.ra, results.dec, alpha=0.7)  \n",
    "plt.xlabel('R.A. (degrees)')\n",
    "plt.ylabel('Dec. (degrees)')\n",
    "plt.subplot(122)\n",
    "plt.hist(results.redshift)\n",
    "plt.xlabel('true-z')\n",
    "plt.ylabel('counts')\n",
    "plt.tight_layout()"
   ]
  },
  {
   "cell_type": "markdown",
   "id": "52d0e6c3-189f-4810-95d3-5277e4f82f38",
   "metadata": {},
   "source": [
    "Export this notebook as HTML with the outputs up to this point to serve as description file for the sample. "
   ]
  },
  {
   "cell_type": "code",
   "execution_count": null,
   "id": "0dadceb1-4a60-436c-9577-fc5fd5c6ae45",
   "metadata": {},
   "outputs": [],
   "source": [
    "cmd = f'jupyter nbconvert --to html {filename}.ipynb'\n",
    "os.system(cmd)"
   ]
  },
  {
   "cell_type": "markdown",
   "id": "37e8c02e-b830-4b49-8774-d5433aee9ed0",
   "metadata": {},
   "source": [
    "Connect to PZ Server"
   ]
  },
  {
   "cell_type": "code",
   "execution_count": null,
   "id": "121625b1-7fe9-4ddc-a707-0b8d3bf075c2",
   "metadata": {},
   "outputs": [],
   "source": [
    "from pzserver import PzServer \n",
    "with open('token.txt', 'r') as file:\n",
    "    token = file.read()\n",
    "pz_server = PzServer(token=token, host=\"pz-dev\") # \"pz-dev\" is the temporary host during the test phase  "
   ]
  },
  {
   "cell_type": "markdown",
   "id": "304eed78-7d14-4ea6-a52d-ccfeb2cdeb8a",
   "metadata": {},
   "source": [
    "Prepare the upload metadata"
   ]
  },
  {
   "cell_type": "code",
   "execution_count": null,
   "id": "98beb960-2eba-441a-b9b1-9d28fb487a8b",
   "metadata": {},
   "outputs": [],
   "source": [
    "data_to_upload = {\n",
    "    'name':f'ztrue tract {tract}',\n",
    "    'description': f'1000 first galaxies with mag_g < 23.0 from tract {tract}', \n",
    "    'product_type': 'specz_catalog',  # Product type \n",
    "    'release': None, # LSST release, use None if not LSST data \n",
    "    'main_file': f'{filename}.parquet', # full path \n",
    "    'auxiliary_files': [f'{filename}.html']\n",
    "}"
   ]
  },
  {
   "cell_type": "code",
   "execution_count": null,
   "id": "9ec7493e-3e56-499e-aaf1-5e3daeff6ff6",
   "metadata": {},
   "outputs": [],
   "source": [
    "data_to_upload"
   ]
  },
  {
   "cell_type": "code",
   "execution_count": null,
   "id": "017f0f6b-a6b7-4515-a6a0-d1ddd9de164d",
   "metadata": {},
   "outputs": [],
   "source": [
    "upload = pz_server.upload(**data_to_upload)  "
   ]
  },
  {
   "cell_type": "code",
   "execution_count": null,
   "id": "f21b6ab8-94f2-4ceb-a584-a4193015a326",
   "metadata": {},
   "outputs": [],
   "source": [
    "product_id = upload.product_id\n",
    "product_id"
   ]
  },
  {
   "cell_type": "code",
   "execution_count": null,
   "id": "f9aba3b6-9064-424f-9afc-f999b105b7ec",
   "metadata": {},
   "outputs": [],
   "source": [
    "upload.columns"
   ]
  },
  {
   "cell_type": "code",
   "execution_count": null,
   "id": "7da64bbb-e454-4e68-862a-c448d6a741ae",
   "metadata": {},
   "outputs": [],
   "source": [
    "column_association = {\n",
    "    'objectId':'ID', \n",
    "    'ra':'RA',  \n",
    "    'dec':'Dec',  \n",
    "    'redshift':'z'    \n",
    "}\n",
    "upload.make_columns_association(column_association)"
   ]
  },
  {
   "cell_type": "markdown",
   "id": "730caa9a-90db-483e-862f-6f34ed9854e0",
   "metadata": {
    "execution": {
     "iopub.execute_input": "2025-01-03T14:36:23.896056Z",
     "iopub.status.busy": "2025-01-03T14:36:23.895373Z",
     "iopub.status.idle": "2025-01-03T14:36:23.899716Z",
     "shell.execute_reply": "2025-01-03T14:36:23.899059Z",
     "shell.execute_reply.started": "2025-01-03T14:36:23.896025Z"
    }
   },
   "source": [
    "Check uploaded data product"
   ]
  },
  {
   "cell_type": "code",
   "execution_count": null,
   "id": "2be05bc3-fa6a-40d9-995a-9ebeb70c2ff8",
   "metadata": {},
   "outputs": [],
   "source": [
    "pz_server.display_product_metadata(product_id)"
   ]
  }
 ],
 "metadata": {
  "kernelspec": {
   "display_name": "LSST",
   "language": "python",
   "name": "lsst"
  },
  "language_info": {
   "codemirror_mode": {
    "name": "ipython",
    "version": 3
   },
   "file_extension": ".py",
   "mimetype": "text/x-python",
   "name": "python",
   "nbconvert_exporter": "python",
   "pygments_lexer": "ipython3",
   "version": "3.11.9"
  }
 },
 "nbformat": 4,
 "nbformat_minor": 5
}
