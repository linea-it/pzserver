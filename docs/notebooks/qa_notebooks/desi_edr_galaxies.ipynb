{
 "cells": [
  {
   "cell_type": "markdown",
   "id": "9d42adbb-55a5-4edd-aaae-2a5c2279e279",
   "metadata": {},
   "source": [
    "<img align='left' src = https://www.linea.org.br/brand/linea-logo-color.svg width=150 style='padding: 20px'> \n",
    "\n",
    "## DESI EDR Spectroscopic Redshifts\n",
    "\n",
    "Contact: Julia Gschwend ([julia@linea.org.br](mailto:julia@linea.org.br))\n",
    "<br>\n",
    "<br>\n"
   ]
  },
  {
   "cell_type": "markdown",
   "id": "64de3e18-aba4-44d8-83f1-fff40d6fd8a9",
   "metadata": {},
   "source": [
    "<font color='red' SIZE=4> DISCLAIMER: THIS IS NOT AN OFFICIAL DATA RELEASE. <br>\n",
    "This notebook was created to test the PZ Server under development </font>"
   ]
  },
  {
   "cell_type": "markdown",
   "id": "dbbe57a5-fb05-4166-a2c3-dfd2b719f8ec",
   "metadata": {},
   "source": [
    "### Intro \n",
    "\n",
    "This notebook contains a brief characterization of the spectroscopic _redshifts_ (spec-z) measurements in the DESI EDR catalog, which has been publicly distributed and described in detail in scientific literature by DESI project.\n",
    "\n",
    "The data presented here were obtained from the [DESI data release web page](https://data.desi.lbl.gov/doc/releases/edr/vac/zcat/) and filtered to contain only objects classified as **galaxies** and with `ZCAT_PRIMARY = True`. Be aware that not all measurements of the original catalog are present here.\n",
    "\n",
    "|   |Number of redshifts|\n",
    "|---|--:|\n",
    "|this sample|1,591,474|\n",
    "|original catalog | 2,451,325|  \n"
   ]
  },
  {
   "cell_type": "markdown",
   "id": "7748de65-846c-43f4-8343-c80beda8fed6",
   "metadata": {
    "tags": []
   },
   "source": [
    "## Reference paper\n",
    "\n",
    "[DESI Collaboration et al. (2023b), The Early Data Release of the Dark Energy Spectroscopic Instrument](https://arxiv.org/abs/2306.06308)\n",
    "\n",
    "\n",
    "See also the [DESI Data License and Acknowledgments policy on the data release website](https://data.desi.lbl.gov/doc/acknowledgments/).  \n",
    "  "
   ]
  },
  {
   "cell_type": "markdown",
   "id": "4e7ba2d5-4d08-460e-a1fd-c94cab0b1c50",
   "metadata": {},
   "source": [
    "\n",
    "--- \n",
    "\n",
    "## Sample characterization\n",
    "\n"
   ]
  },
  {
   "cell_type": "markdown",
   "id": "5608ae7e-ca24-48dd-9bd3-3aa4b7d14089",
   "metadata": {},
   "source": [
    "Imports and configs"
   ]
  },
  {
   "cell_type": "code",
   "execution_count": null,
   "id": "975a8a9f-f886-4ac0-a322-bb17d5e3a2a9",
   "metadata": {},
   "outputs": [],
   "source": [
    "# PZ Server\n",
    "from pzserver import PzServer"
   ]
  },
  {
   "cell_type": "code",
   "execution_count": null,
   "id": "16cf1c89-b929-4070-8a3e-e6966fd9589d",
   "metadata": {
    "tags": []
   },
   "outputs": [],
   "source": [
    "# General\n",
    "import numpy as np\n",
    "import pandas as pd\n",
    "import matplotlib.pyplot as plt\n",
    "import sys\n",
    "\n",
    "# Astropy\n",
    "from astropy import units as u\n",
    "from astropy.coordinates import SkyCoord\n",
    "\n",
    "\n",
    "# Bokeh, HoloViews\n",
    "import bokeh\n",
    "import holoviews as hv\n",
    "from holoviews import opts\n",
    "\n",
    "# Config\n",
    "import warnings\n",
    "warnings.filterwarnings('ignore')\n",
    "%reload_ext autoreload \n",
    "%autoreload 2 \n",
    "%matplotlib inline \n",
    "plt.rcParams.update({'figure.max_open_warning': 0})\n",
    "hv.extension('bokeh')\n",
    "#output_notebook()"
   ]
  },
  {
   "cell_type": "markdown",
   "id": "4e9de80a-de97-4eb9-a45e-6edc55668a48",
   "metadata": {},
   "source": [
    "Getting authorization for PZ Server via API Token:"
   ]
  },
  {
   "cell_type": "code",
   "execution_count": null,
   "id": "d368233a-416b-4450-a156-aadfd0750bd4",
   "metadata": {
    "tags": []
   },
   "outputs": [],
   "source": [
    "with open('../token.txt', 'r') as file:\n",
    "    token = file.read()\n",
    "pz_server = PzServer(token=token, host=\"pz-dev\") # \"pz-dev\" is the temporary host for test phase  "
   ]
  },
  {
   "cell_type": "markdown",
   "id": "f65dfea7-a9df-4b1e-a67f-d37f427a7e69",
   "metadata": {},
   "source": [
    "Printing the libraries versions:"
   ]
  },
  {
   "cell_type": "code",
   "execution_count": null,
   "id": "a38f3277-6e78-4a01-86a1-4e5545851ca9",
   "metadata": {
    "tags": []
   },
   "outputs": [],
   "source": [
    "print('Python version: ' + sys.version)\n",
    "print('Numpy version: ' + np.__version__)\n",
    "print('HoloViews version: ' + hv.__version__)"
   ]
  },
  {
   "cell_type": "code",
   "execution_count": null,
   "id": "69883b2d-b313-4fe7-8dfd-ab511dc3082a",
   "metadata": {
    "tags": []
   },
   "outputs": [],
   "source": [
    "def fmt(x):\n",
    "    return '{:.1f}%'.format(x)"
   ]
  },
  {
   "cell_type": "markdown",
   "id": "0de5e4d4-eed4-4d3c-8b06-f2175a5d4209",
   "metadata": {},
   "source": [
    "Read spec-z catalog file"
   ]
  },
  {
   "cell_type": "code",
   "execution_count": null,
   "id": "107a8ac3-0e34-48a5-9ac5-744ab6275e88",
   "metadata": {
    "tags": []
   },
   "outputs": [],
   "source": [
    "catalog = pz_server.get_product('148_desi_edr')"
   ]
  },
  {
   "cell_type": "code",
   "execution_count": null,
   "id": "e02b6d2d-359c-4ce6-b8be-13be0c811dc6",
   "metadata": {
    "tags": []
   },
   "outputs": [],
   "source": [
    "catalog"
   ]
  },
  {
   "cell_type": "code",
   "execution_count": null,
   "id": "8848c880-ff8e-4385-9182-541768e3e62c",
   "metadata": {
    "tags": []
   },
   "outputs": [],
   "source": [
    "catalog.display_metadata()"
   ]
  },
  {
   "cell_type": "code",
   "execution_count": null,
   "id": "53455623-7b54-4ad0-a6e7-3149c5751892",
   "metadata": {
    "tags": []
   },
   "outputs": [],
   "source": [
    "specz_catalog = catalog.data"
   ]
  },
  {
   "cell_type": "code",
   "execution_count": null,
   "id": "9b1472ed-265a-4ed2-8f4d-06fd71b57d66",
   "metadata": {
    "tags": []
   },
   "outputs": [],
   "source": [
    "type(specz_catalog)"
   ]
  },
  {
   "cell_type": "code",
   "execution_count": null,
   "id": "c6ba7104-d84a-4a55-a490-3cd84f4d477e",
   "metadata": {
    "tags": []
   },
   "outputs": [],
   "source": [
    "assert len(specz_catalog) == 1_591_474"
   ]
  },
  {
   "cell_type": "code",
   "execution_count": null,
   "id": "7b89c02c-c0eb-4bff-b7f4-169a8d669240",
   "metadata": {
    "tags": []
   },
   "outputs": [],
   "source": [
    "specz_catalog.info(memory_usage=\"deep\")"
   ]
  },
  {
   "cell_type": "code",
   "execution_count": null,
   "id": "9c3c59e6-f135-47be-b6f4-7ff4704e1fc5",
   "metadata": {
    "tags": []
   },
   "outputs": [],
   "source": [
    "specz_catalog.head()"
   ]
  },
  {
   "cell_type": "markdown",
   "id": "696930b8-3a83-4223-bfa5-dec23c4a22b9",
   "metadata": {},
   "source": [
    "Meaning of main columns:\n",
    "\n",
    "| Column name | Meaning |\n",
    "|--:|:--|\n",
    "| **TARGET_RA** | Right Ascension (degrees) |\n",
    "| **TARGET_DEC** | Declination (degrees) |\n",
    "| **Z** | Redshift |\n",
    "| **ZERR** | Redshift error |"
   ]
  },
  {
   "cell_type": "markdown",
   "id": "8319a10c-07e2-4b7d-bde5-5bc72a29948c",
   "metadata": {
    "tags": []
   },
   "source": [
    "Basic statistics"
   ]
  },
  {
   "cell_type": "code",
   "execution_count": null,
   "id": "870c6e04-7014-4749-8535-a3a4ed4036b3",
   "metadata": {
    "tags": []
   },
   "outputs": [],
   "source": [
    "specz_catalog.describe()"
   ]
  },
  {
   "cell_type": "code",
   "execution_count": null,
   "id": "97294cbd-21a6-445d-83e1-5a374693799e",
   "metadata": {
    "tags": []
   },
   "outputs": [],
   "source": [
    "#frac = 0.02\n",
    "#spec_sample_for_plots = specz_catalog.sample(frac=frac, axis='index')\n",
    "#assert len(spec_sample_for_plots) == round(frac * len(specz_catalog))\n",
    "#print(len(spec_sample_for_plots))\n",
    "specz_catalog.rename(columns={\"TARGET_RA\":\"ra\", \"TARGET_DEC\":\"dec\"}, inplace=True) \n",
    "spec_sample_for_plots = specz_catalog # comment this line to use a fraction of the data\n"
   ]
  },
  {
   "cell_type": "code",
   "execution_count": null,
   "id": "03166e06-c8ca-481c-bd79-a3f263b670d9",
   "metadata": {},
   "outputs": [],
   "source": [
    "spec_sample_for_plots"
   ]
  },
  {
   "cell_type": "markdown",
   "id": "6f7edf41-c446-4467-9dbc-6f197d1cd9e0",
   "metadata": {},
   "source": [
    "--- \n",
    "\n",
    "#### Spatial distribution\n"
   ]
  },
  {
   "cell_type": "code",
   "execution_count": null,
   "id": "090f2e91-cc90-475c-9fea-25b4a47d0ec5",
   "metadata": {
    "tags": []
   },
   "outputs": [],
   "source": [
    "coords = SkyCoord(ra=-np.array(spec_sample_for_plots.ra)*u.degree, \n",
    "                  dec=np.array(spec_sample_for_plots.dec)*u.degree, frame='icrs')\n",
    "spec_sample_for_plots.ra = np.array(coords.ra.wrap_at(180*u.degree))\n",
    "spec_sample_for_plots.dec = np.array(coords.dec)"
   ]
  },
  {
   "cell_type": "code",
   "execution_count": null,
   "id": "3ee9976b-e9cc-4009-92f6-c8735cee5921",
   "metadata": {
    "tags": []
   },
   "outputs": [],
   "source": [
    "%%time\n",
    "fig = plt.figure(figsize=[14,6])\n",
    "ax = fig.add_subplot(111, projection='mollweide')   \n",
    "ra_rad = coords.ra.wrap_at(180 * u.deg).radian\n",
    "dec_rad = coords.dec.radian\n",
    "plt.plot(ra_rad, dec_rad, '.', alpha=0.3)\n",
    "org=0.0\n",
    "tick_labels = np.array([150, 120, 90, 60, 30, 0, 330, 300, 270, 240, 210])\n",
    "tick_labels = np.remainder(tick_labels+360+org,360)\n",
    "ax.set_xticklabels(tick_labels)     # we add the scale on the x axis\n",
    "ax.set_xlabel('R.A.')\n",
    "ax.xaxis.label.set_fontsize(14)\n",
    "ax.set_ylabel('Dec.')\n",
    "ax.yaxis.label.set_fontsize(14)\n",
    "ax.grid(True)\n",
    "plt.tight_layout()"
   ]
  },
  {
   "cell_type": "markdown",
   "id": "c586d263-f7ab-445b-a439-79cee7a9d306",
   "metadata": {},
   "source": [
    "Redshift distribution"
   ]
  },
  {
   "cell_type": "code",
   "execution_count": null,
   "id": "c1134f91-42e9-4fd8-99ec-8631c2159ee6",
   "metadata": {
    "tags": []
   },
   "outputs": [],
   "source": [
    "redshift = hv.Dimension('z', label='spec-z')#, range=(0.0, 2.0))\n",
    "(count, z_bin) = np.histogram(spec_sample_for_plots.Z, bins='fd')"
   ]
  },
  {
   "cell_type": "code",
   "execution_count": null,
   "id": "7f41242a-1145-4f6e-a70f-81edb9d394fb",
   "metadata": {
    "tags": []
   },
   "outputs": [],
   "source": [
    "z_distribution = hv.Histogram((count, z_bin), kdims=redshift).opts(\n",
    "    title='Redshift distrbution', xlabel='spec-z', height=400, width=800,  xlim=(0.,2.))   \n",
    "z_distribution"
   ]
  },
  {
   "cell_type": "code",
   "execution_count": null,
   "id": "8c8a51a8-9510-49ce-ac9f-35abdbae9ce3",
   "metadata": {},
   "outputs": [],
   "source": []
  }
 ],
 "metadata": {
  "kernelspec": {
   "display_name": "LSST",
   "language": "python",
   "name": "lsst"
  },
  "language_info": {
   "codemirror_mode": {
    "name": "ipython",
    "version": 3
   },
   "file_extension": ".py",
   "mimetype": "text/x-python",
   "name": "python",
   "nbconvert_exporter": "python",
   "pygments_lexer": "ipython3",
   "version": "3.11.9"
  }
 },
 "nbformat": 4,
 "nbformat_minor": 5
}
