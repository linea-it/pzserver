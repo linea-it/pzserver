{
 "cells": [
  {
   "cell_type": "markdown",
   "id": "6ec88d94-0d19-4448-9ddc-82f5e6814483",
   "metadata": {},
   "source": [
    "# Example file for upload via Python lib \n",
    "\n",
    "10 first rows of the [GAMA DR3](http://www.gama-survey.org/dr3/schema/table.php?id=24) spec-z sample ([Baldry et al. 2018](https://ui.adsabs.harvard.edu/abs/2018MNRAS.474.3875B/abstract)). "
   ]
  },
  {
   "cell_type": "code",
   "execution_count": null,
   "id": "ce9090fa-9bbb-474b-b85a-4ab08b2002a1",
   "metadata": {},
   "outputs": [],
   "source": []
  }
 ],
 "metadata": {
  "kernelspec": {
   "display_name": "Python 3 (ipykernel)",
   "language": "python",
   "name": "python3"
  },
  "language_info": {
   "codemirror_mode": {
    "name": "ipython",
    "version": 3
   },
   "file_extension": ".py",
   "mimetype": "text/x-python",
   "name": "python",
   "nbconvert_exporter": "python",
   "pygments_lexer": "ipython3",
   "version": "3.12.3"
  }
 },
 "nbformat": 4,
 "nbformat_minor": 5
}
