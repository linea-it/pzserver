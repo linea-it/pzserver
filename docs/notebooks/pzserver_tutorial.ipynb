{
 "cells": [
  {
   "cell_type": "markdown",
   "metadata": {},
   "source": [
    "<img align=\"left\" src = \"images/linea.png\" width=140 style=\"padding: 20px\"> \n",
    "<img align=\"left\" src = \"images/rubin.png\" width=180 style=\"padding: 30px\"> \n",
    "\n",
    "<font size=5> **Photo-z Server** Tutorial Notebook\n",
    " </font>\n",
    "\n",
    "Contact author: [Julia Gschwend](mailto:julia@linea.org.br) <br>\n",
    "Contributors: Luigi Silva, Cristiano Singulani <br> \n",
    "Last verified run: **2025-Jul-14**"
   ]
  },
  {
   "cell_type": "markdown",
   "metadata": {},
   "source": [
    "# Introduction\n",
    "\n",
    "The Photo-z (PZ) Server is an online service for the LSST Community to create, host and share lightweight PZ-related data products. The PZ Server is developed and maintained by LIneA as part of the in-kind contribution program (BRA-LIN) to the Rubin Observatory. The service is hosted in the Brazilian IDAC, with access restricted to the LSST Community. The access authorization is granted through [Rubin Science Platform (RSP)](https://data.lsst.cloud/) login credentials. For more information about the PZ Server and pther contribuitions related to photometric redshifts, please visit the [BRA-LIN's description page](https://linea-it.github.io/pz-lsst-inkind-doc/). \n",
    "\n",
    "The PZ Server has two main user interfaces: the website and the API, accessed via the `pzserver` Python library. \n",
    "\n",
    "This notebook contains instructuions for new users on how to use the `pzserver` Python library, with examples for all functions and methods available. The documentation on how to use the website is available on [LIneA's Documentation for Users webpage](https://docs.linea.org.br/en/sci-platforms/pz_server.html).     "
   ]
  },
  {
   "cell_type": "markdown",
   "metadata": {
    "tags": []
   },
   "source": [
    "# Getting Started"
   ]
  },
  {
   "cell_type": "markdown",
   "metadata": {},
   "source": [
    "## Installation\n",
    "\n",
    "The PZ Server's Python library is avalialble on **pip** as `pzserver`.\n",
    "\n",
    "```\n",
    "$ pip install pzserver \n",
    "```\n",
    "OBS 1: Depending on your Jupyter Notebook/Lab version, you might need to restart the kernel to incorporate the new library.\n",
    "\n",
    "OBS 2: If you are installing it on RSP Notebook Aspect on top of the LSST kernel, you might get some warnings regarding dependency versions. They must not affect the library usage. If you have any issues, please contact the [PZ Server team](mailto:julia@linea.org.br).   "
   ]
  },
  {
   "cell_type": "code",
   "execution_count": null,
   "metadata": {
    "scrolled": true
   },
   "outputs": [],
   "source": [
    "! pip install pzserver "
   ]
  },
  {
   "cell_type": "markdown",
   "metadata": {},
   "source": [
    "Imports and Setup"
   ]
  },
  {
   "cell_type": "code",
   "execution_count": null,
   "metadata": {
    "tags": []
   },
   "outputs": [],
   "source": [
    "from pzserver import PzServer "
   ]
  },
  {
   "cell_type": "markdown",
   "metadata": {},
   "source": [
    "## The PzServer class "
   ]
  },
  {
   "cell_type": "markdown",
   "metadata": {},
   "source": [
    "The `PzServer` class object opens the connection with the PZ Server database and allows access to data and metadata. To create a `PzServer` object, users must be authorized by using an API Token which is generated in the menu at the top right corner of the [PZ Server website](https://pzserver.linea.org.br/).  "
   ]
  },
  {
   "cell_type": "markdown",
   "metadata": {},
   "source": [
    "<img src=\"images/ScreenShotTokenMenu.png\" width=150pt align=\"top\"/> <img src=\"images/ScreenShotTokenGenerator.png\" width=350pt />\n",
    "\n",
    "Paste the API Token replacing the placeholder below: "
   ]
  },
  {
   "cell_type": "code",
   "execution_count": null,
   "metadata": {},
   "outputs": [],
   "source": [
    "pz_server = PzServer(token=\"<your token here>\") "
   ]
  },
  {
   "cell_type": "markdown",
   "metadata": {},
   "source": [
    "API tokens can be reused indefinitely. However, an old token automatically expires whenever you create a new one. \n",
    "\n",
    "For convenience, the API token can be saved in a text file, e.g., **token.txt** (already listed in the .gitignore file in this repository). \n",
    "\n",
    "<font color=red> API tokens MUST NOT BE SHARED! Users are responsible for keeping their tokens private. </font> "
   ]
  },
  {
   "cell_type": "code",
   "execution_count": null,
   "metadata": {},
   "outputs": [],
   "source": [
    "# with open('token.txt', 'r') as file:\n",
    "#    token = file.read()\n",
    "# pz_server = PzServer(token=token)"
   ]
  },
  {
   "cell_type": "markdown",
   "metadata": {},
   "source": [
    "--- \n",
    "# Basic methods\n",
    "\n",
    "## Query general info\n",
    "\n",
    "The object `pz_server` created above can provide access to data and metadata stored in the PZ Server. It also brings additional methods for users to navigate through the available content. The methods with the prefix `get_` return the result of a query on the PZ Server database as a Python dictionary and are most useful to be used programmatically (see details on the [API documentation page](https://linea-it.github.io/pzserver/html/index.html)). Alternatively, those with the prefix `display_` show the results as a styled [_Pandas DataFrames_](https://pandas.pydata.org/docs/reference/api/pandas.DataFrame.html), optimized for Jupyter Notebook (note: column names might change in the display version). \n",
    "\n",
    "For instance:\n",
    "\n",
    "display the list of product types supported with a short description (for a complete expanation of the product types with their upload requirements, please see the [product types section](https://docs.linea.org.br/en/sci-platforms/pz_server.html#data-product-types) on the Photo-z Server's documentation page), "
   ]
  },
  {
   "cell_type": "code",
   "execution_count": null,
   "metadata": {},
   "outputs": [],
   "source": [
    "pz_server.display_product_types()"
   ]
  },
  {
   "cell_type": "markdown",
   "metadata": {},
   "source": [
    "display the list of data releases available at the time, "
   ]
  },
  {
   "cell_type": "code",
   "execution_count": null,
   "metadata": {},
   "outputs": [],
   "source": [
    "pz_server.display_releases()"
   ]
  },
  {
   "cell_type": "markdown",
   "metadata": {},
   "source": [
    "and display all available data products. \n",
    "\n",
    "<font color='green'>WARNING: This list can rapidly grow during the survey's operation (cell output scrolling recommended)</a>"
   ]
  },
  {
   "cell_type": "code",
   "execution_count": null,
   "metadata": {
    "scrolled": true,
    "tags": []
   },
   "outputs": [],
   "source": [
    "pz_server.display_products_list() "
   ]
  },
  {
   "cell_type": "markdown",
   "metadata": {},
   "source": [
    "The information about product type, users, and releases shown above can be used to filter the data products of interest for your search. For that, the method `display_products_list` receives as an argument a dictionary mapping the product's attributes to their values. "
   ]
  },
  {
   "cell_type": "code",
   "execution_count": null,
   "metadata": {
    "scrolled": true
   },
   "outputs": [],
   "source": [
    "pz_server.display_products_list(filters={\"release\": \"DP0.2\", \n",
    "                                         \"product_type\": \"Training Set\"})"
   ]
  },
  {
   "cell_type": "markdown",
   "metadata": {},
   "source": [
    "It also works if we type a string pattern that is part of the value."
   ]
  },
  {
   "cell_type": "code",
   "execution_count": null,
   "metadata": {
    "scrolled": true
   },
   "outputs": [],
   "source": [
    "pz_server.display_products_list(filters={\"product_type\": \"estimates\"})"
   ]
  },
  {
   "cell_type": "markdown",
   "metadata": {},
   "source": [
    "To fetch the results of a search and attribute to a variable, just change the prefix `display_` by `get_`:  "
   ]
  },
  {
   "cell_type": "code",
   "execution_count": null,
   "metadata": {
    "scrolled": true,
    "tags": []
   },
   "outputs": [],
   "source": [
    "search_results = pz_server.get_products_list(filters={\"product_type\": \"training results\"}) \n",
    "search_results"
   ]
  },
  {
   "cell_type": "markdown",
   "metadata": {},
   "source": [
    "## Data products metadata\n",
    "\n",
    "<font size=4>**product_id** and **internal_name**</font>\n",
    "\n",
    "All data products stored on PZ Server are identified by its unique **product_id** number or its **internal_name**, which is created automatically at the moment of the upload by concatenating the **product_id** to the name given by its owner (replacing blank spaces by \"_\", lowering cases, and removing special characters) (e.g.: `30_simple_training_set`). \n",
    "\n",
    "<font size=4>Display the metadata of a data product</font>\n",
    "\n",
    "The metadata of a given data product is all the information available about it, including what the user provided on the upload form. \n",
    "\n",
    "The `PzServer`'s method `get_product_metadata()` returns a dictionary with the attibutes stored in the PZ Server about a given data product identified by its **id** or **internal_name**. For use in a Jupyter notebook, the equivalent `display_product_metadata()` shows the results in a formated table."
   ]
  },
  {
   "cell_type": "code",
   "execution_count": null,
   "metadata": {},
   "outputs": [],
   "source": [
    "product_id = 30\n",
    "pz_server.display_product_metadata(product_id)"
   ]
  },
  {
   "cell_type": "markdown",
   "metadata": {},
   "source": [
    "## Download data products \n",
    "\n",
    "To download any data product stored in the PZ Server, use the method `download_product` informing the **product_id** or **internal_name** and the path to where it will be saved (the default is the current folder). This method downloads a compressed .zip file, which contains all the files uploaded by the user, including data, auxiliary files, and description files. Let's try it with a small data product. "
   ]
  },
  {
   "cell_type": "code",
   "execution_count": null,
   "metadata": {},
   "outputs": [],
   "source": [
    "pz_server.download_product(product_id, save_in=\".\")"
   ]
  },
  {
   "cell_type": "markdown",
   "metadata": {},
   "source": [
    "## Retrieve data product contents\n",
    "\n",
    "Instead of downloading the files, the `pzserver` library also allows users to retrieve the contents of a given data product to work on memory using the method `get_product()`. This feature is available only for tabular data, such as redshift catalogs and training sets.\n",
    "\n",
    "By default, the method `get_product` returns an `astropy.Table`, which can be easily converted into a `pandas.DataFrame`. Let's see an example with the data product mentioned above: "
   ]
  },
  {
   "cell_type": "code",
   "execution_count": null,
   "metadata": {},
   "outputs": [],
   "source": [
    "data = pz_server.get_product(30).to_pandas()\n",
    "data"
   ]
  },
  {
   "cell_type": "code",
   "execution_count": null,
   "metadata": {},
   "outputs": [],
   "source": [
    "data.describe()"
   ]
  },
  {
   "cell_type": "markdown",
   "metadata": {},
   "source": [
    "## Share data products\n",
    "\n",
    "All data products uploaded to the PZ Server are immediately available and visible to all PZ Server users (people with RSP credentials) through the PZ Server website or Python library. One way to share a data product is by providing the product's URL, which leads to the product's download page. The URL is composed by the PZ Server website address + **/products/** + **internal_name**:\n",
    "\n",
    "For example, for the data downloaded above:"
   ]
  },
  {
   "cell_type": "code",
   "execution_count": null,
   "metadata": {},
   "outputs": [],
   "source": [
    "internal_name = pz_server.get_product_metadata(product_id)['internal_name']\n",
    "url = f'https://pzserver.linea.org.br/product/{internal_name}'\n",
    "url"
   ]
  },
  {
   "cell_type": "markdown",
   "metadata": {},
   "source": [
    "---\n",
    "# Advanced methods\n",
    "\n",
    "## Upload \n",
    "### How to upload a data product to PZ Server via Python API (alternative method)"
   ]
  },
  {
   "cell_type": "markdown",
   "metadata": {},
   "source": [
    "As shown above, the default method to upload a data product to the PZ Server is the upload form on the PZ Server website. Alternatively, the `pzserver` Python library can send data products to the host service. \n",
    "\n",
    "First, prepare a dictionary with the relevant information about your data product: "
   ]
  },
  {
   "cell_type": "code",
   "execution_count": null,
   "metadata": {},
   "outputs": [],
   "source": [
    "data_to_upload = {\n",
    "    \"name\":\"example upload via lib\",\n",
    "    \"product_type\": \"specz_catalog\",  # Product type \n",
    "    \"release\": None, # LSST release, use None if not LSST data \n",
    "    \"main_file\": \"upload_example.csv\", # full path \n",
    "    \"auxiliary_files\": [\"upload_example.html\", \"upload_example.ipynb\"] # full path\n",
    "    #\"auxiliary_files\": [] # you must give a empty list if you don't have any auxiliary_files\n",
    "}"
   ]
  },
  {
   "cell_type": "code",
   "execution_count": null,
   "metadata": {},
   "outputs": [],
   "source": [
    "upload = pz_server.upload(**data_to_upload)  "
   ]
  },
  {
   "cell_type": "code",
   "execution_count": null,
   "metadata": {},
   "outputs": [],
   "source": [
    "product_id = upload.product_id\n",
    "product_id"
   ]
  },
  {
   "cell_type": "markdown",
   "metadata": {},
   "source": [
    "After an upload object is created, you can also add auxiliary files before saving."
   ]
  },
  {
   "cell_type": "code",
   "execution_count": null,
   "metadata": {},
   "outputs": [],
   "source": [
    "upload.add_auxiliary_file(\"upload_example.txt\")"
   ]
  },
  {
   "cell_type": "markdown",
   "metadata": {},
   "source": [
    "To save your product in PZ Server, you must give the columns names of your data. For a specz catalog, for example:"
   ]
  },
  {
   "cell_type": "code",
   "execution_count": null,
   "metadata": {},
   "outputs": [],
   "source": [
    "columns = {\n",
    "    \"<your-RA-column-name>\": \"RA\",\n",
    "    \"<your-Dec-column-name>\": \"Dec\",\n",
    "    \"<your-z-column-name>\": \"z\"\n",
    "}\n",
    "\n",
    "upload.make_columns_association(columns)"
   ]
  },
  {
   "cell_type": "markdown",
   "metadata": {},
   "source": [
    "Now, you can finally save it."
   ]
  },
  {
   "cell_type": "code",
   "execution_count": null,
   "metadata": {},
   "outputs": [],
   "source": [
    "upload.save()"
   ]
  },
  {
   "cell_type": "markdown",
   "metadata": {},
   "source": [
    "## Update\n",
    "### How to edit an existing product via Python API"
   ]
  },
  {
   "cell_type": "markdown",
   "metadata": {},
   "source": [
    "To do any modification to an existing product, first you need to define the product object."
   ]
  },
  {
   "cell_type": "code",
   "execution_count": null,
   "metadata": {},
   "outputs": [],
   "source": [
    "po = pz_server.get_product_object(product_id)"
   ]
  },
  {
   "cell_type": "markdown",
   "metadata": {},
   "source": [
    "You can see the attributes of this product."
   ]
  },
  {
   "cell_type": "code",
   "execution_count": null,
   "metadata": {},
   "outputs": [],
   "source": [
    "po.attributes"
   ]
  },
  {
   "cell_type": "markdown",
   "metadata": {},
   "source": [
    "#### Adding an auxiliary file"
   ]
  },
  {
   "cell_type": "markdown",
   "metadata": {},
   "source": [
    "You can add an auxiliary file and/or description file, given their paths."
   ]
  },
  {
   "cell_type": "code",
   "execution_count": null,
   "metadata": {},
   "outputs": [],
   "source": [
    "po.attach_auxiliary_file(path_to_auxiliary_file)\n",
    "po.attach_description_file(path_to_description_file)"
   ]
  },
  {
   "cell_type": "markdown",
   "metadata": {},
   "source": [
    "Now, you can check if the uploads were done correctly."
   ]
  },
  {
   "cell_type": "code",
   "execution_count": null,
   "metadata": {},
   "outputs": [],
   "source": [
    "po.get_auxiliary_files()"
   ]
  },
  {
   "cell_type": "code",
   "execution_count": null,
   "metadata": {},
   "outputs": [],
   "source": [
    "po.get_description_files()"
   ]
  },
  {
   "cell_type": "markdown",
   "metadata": {},
   "source": [
    "#### Updating the description"
   ]
  },
  {
   "cell_type": "markdown",
   "metadata": {},
   "source": [
    "You can also upddate the product description as shown in pzserver."
   ]
  },
  {
   "cell_type": "code",
   "execution_count": null,
   "metadata": {},
   "outputs": [],
   "source": [
    "po.update_description(\"test update description\")"
   ]
  },
  {
   "cell_type": "markdown",
   "metadata": {},
   "source": [
    "#### Deleting a single file of the product"
   ]
  },
  {
   "cell_type": "markdown",
   "metadata": {},
   "source": [
    "To delete a single file of the product, you must give the file id to the ```remove_file``` method. Be careful, it is the file id, not the product id."
   ]
  },
  {
   "cell_type": "code",
   "execution_count": null,
   "metadata": {},
   "outputs": [],
   "source": [
    "po.remove_file(file_id)"
   ]
  },
  {
   "cell_type": "markdown",
   "metadata": {},
   "source": [
    "#### Deleting a full product"
   ]
  },
  {
   "cell_type": "markdown",
   "metadata": {},
   "source": [
    "To delete the product with all its files (main and auxiliary), you can use the method ```delete_product```. **BE CAREFUL! THIS CAN'T BE UNDONE!**"
   ]
  },
  {
   "cell_type": "code",
   "execution_count": null,
   "metadata": {},
   "outputs": [],
   "source": [
    "pz_server.delete_product(product_id)"
   ]
  },
  {
   "cell_type": "code",
   "execution_count": null,
   "metadata": {},
   "outputs": [],
   "source": []
  },
  {
   "cell_type": "markdown",
   "metadata": {},
   "source": [
    "\n",
    "## PZ Server Pipelines \n",
    "\n",
    "In addition to PZ-related data hosting and curation services, PZ Server also provides tools to help users prepare training data for PZ algorithms. The pipeline *Training Set Maker* uses the data partitioning method [HATS](https://hats.readthedocs.io/en/stable/) and the Python framework [LSDB](https://docs.lsdb.io/en/stable/) (both developed by [LINCC](https://lsstdiscoveryalliance.org/programs/lincc/)) as cross-matching back-end engine, coupled with a user interface on the PZ Server website plugged to the IDAC-Brazil's high-performance computing infrastructure. With *Training Set Maker*, users can create training sets by matching objects from one given spec-z catalog available in the server with objects from an LSST Object catalog. In a previous step, the spec-z catalog might have been prepared as a combination of spectroscopic redshift measurements from different sources grouped into a single catalog with the pipeline *Combine Spec-z Catalogs*. \n",
    "\n",
    "<img src=\"./images/tsm.png\" width=\"600\" style=\"display: block; margin: auto;\" />\n",
    "\n",
    "Both pipelines are executed as asynchronous processes triggered from the PZ Server website or directly from Python scripts using the `pzserver` library, and the outputs are automatically registered as new data products. See below for an example of how to use them.     "
   ]
  },
  {
   "cell_type": "markdown",
   "metadata": {},
   "source": [
    "### Combine Spec-z Catalogs \n",
    "\n",
    "The pipeline Combine Spec-z Catalogs (CSC) simply concatenates multiple Spec-z catalogs into a single table and registers it as a new data product on the PZ Server. It was designed to help aggregate multiple samples from individual surveys into a single catalog before they are associated with LSST data through spatial cross-matching. \n",
    "\n",
    "On the PZ Server website, go to **PZ Server Pipelines** > **Combine Spec-z Catalogs**, fill in the submission form with relevant metadata, such as the name for the new spec-z catalog to be created and a short description, select the catalogs to include by marking at least two checkboxes, and press the **Run** button. \n",
    "\n",
    "\n",
    "<img src=\"./images/ScreenshotCSC.png\"  width=600 /> \n"
   ]
  },
  {
   "cell_type": "markdown",
   "metadata": {},
   "source": [
    "Alternatively, the pipeline can be submitted using the method `pz_server.combine_specz_catalogs` from the `pzserver` library. \n",
    "\n",
    "Start creating a \"csc\" process object instance by providing a name (string) for the new spec-z catalog to the method."
   ]
  },
  {
   "cell_type": "code",
   "execution_count": null,
   "metadata": {},
   "outputs": [],
   "source": [
    "#csc = pz_server.combine_specz_catalogs(<new product's name>)\n",
    "csc = pz_server.combine_specz_catalogs(\"csc example\")"
   ]
  },
  {
   "cell_type": "code",
   "execution_count": null,
   "metadata": {},
   "outputs": [],
   "source": [
    "type(csc)"
   ]
  },
  {
   "cell_type": "markdown",
   "metadata": {},
   "source": [
    "Check status of the `csc` process "
   ]
  },
  {
   "cell_type": "code",
   "execution_count": null,
   "metadata": {},
   "outputs": [],
   "source": [
    "csc.check_status()"
   ]
  },
  {
   "cell_type": "code",
   "execution_count": null,
   "metadata": {},
   "outputs": [],
   "source": [
    "csc.summary()"
   ]
  },
  {
   "cell_type": "markdown",
   "metadata": {},
   "source": [
    "Then, add at least two individual spec-z catalogs to be included in the sample using the `append_catalog` method. These catalogs must already exist in the PZ Server, and their internal names identify them. Let's browse the spec-z catalogs available and choose from the list: "
   ]
  },
  {
   "cell_type": "code",
   "execution_count": null,
   "metadata": {
    "scrolled": true
   },
   "outputs": [],
   "source": [
    "pz_server.display_products_list(filters={\"product_type\": \"Spec-z Catalog\", 'uploaded_by':'gschwend'})"
   ]
  },
  {
   "cell_type": "markdown",
   "metadata": {},
   "source": [
    "Let's add those six small samples extracted from DP0.2 central tracts arbitrarily selected. "
   ]
  },
  {
   "cell_type": "markdown",
   "metadata": {
    "execution": {
     "iopub.execute_input": "2025-01-03T15:38:18.101784Z",
     "iopub.status.busy": "2025-01-03T15:38:18.101378Z",
     "iopub.status.idle": "2025-01-03T15:38:18.107064Z",
     "shell.execute_reply": "2025-01-03T15:38:18.106024Z",
     "shell.execute_reply.started": "2025-01-03T15:38:18.101751Z"
    }
   },
   "source": [
    "<img src='./images/dpdd_dc2_zoom.png'/>\n",
    "\n",
    "Figure from: https://dp0-2.lsst.io/data-products-dp0-2/index.html "
   ]
  },
  {
   "cell_type": "code",
   "execution_count": null,
   "metadata": {},
   "outputs": [],
   "source": [
    "# csc = append_catalog(specz_id=None, internal_name=None)\n",
    "csc.append_catalog(213) # tract 4029\n",
    "csc.append_catalog(211) # tract 3831\n",
    "csc.append_catalog(210) # tract 4031\n",
    "csc.append_catalog(209) # tract 3448\n",
    "csc.append_catalog(208) # tract 3450\n",
    "csc.append_catalog(207) # tract 3833"
   ]
  },
  {
   "cell_type": "markdown",
   "metadata": {},
   "source": [
    "When data observed with the LSST Camera become available, compilations of real data will be useful, for instance: "
   ]
  },
  {
   "cell_type": "code",
   "execution_count": null,
   "metadata": {},
   "outputs": [],
   "source": [
    "# csc.append_catalog('13_vvds_specz_subsample') \n",
    "# csc.append_catalog('41_deimos_10k_public_specz') \n",
    "# csc.append_catalog('42_3dhst_public_specz') \n",
    "# csc.append_catalog('45_gama_public_specz') \n",
    "# csc.append_catalog('51_zcosmos_public_specz')\n",
    "# csc.append_catalog('52_2dflens_public_specz')   "
   ]
  },
  {
   "cell_type": "markdown",
   "metadata": {},
   "source": [
    "But for now, let's stick with the mock data from DP0.2."
   ]
  },
  {
   "cell_type": "markdown",
   "metadata": {},
   "source": [
    "Let's check the summary of `csc` attributes, now updated with the input catalogs added above:  "
   ]
  },
  {
   "cell_type": "code",
   "execution_count": null,
   "metadata": {},
   "outputs": [],
   "source": [
    "csc.summary()"
   ]
  },
  {
   "cell_type": "markdown",
   "metadata": {},
   "source": [
    "Now, use the method `run` to submitt the process as an asychronous job to the PZ Server's back-end.   "
   ]
  },
  {
   "cell_type": "code",
   "execution_count": null,
   "metadata": {},
   "outputs": [],
   "source": [
    "csc.run()"
   ]
  },
  {
   "cell_type": "markdown",
   "metadata": {
    "execution": {
     "iopub.execute_input": "2025-01-07T20:21:59.499157Z",
     "iopub.status.busy": "2025-01-07T20:21:59.498615Z",
     "iopub.status.idle": "2025-01-07T20:21:59.595637Z",
     "shell.execute_reply": "2025-01-07T20:21:59.594385Z",
     "shell.execute_reply.started": "2025-01-07T20:21:59.499110Z"
    }
   },
   "source": [
    "Still during the process, we can check the `id` and the `internal_name` of the output data product with the `summary` method. "
   ]
  },
  {
   "cell_type": "code",
   "execution_count": null,
   "metadata": {},
   "outputs": [],
   "source": [
    "csc.summary()"
   ]
  },
  {
   "cell_type": "markdown",
   "metadata": {},
   "source": [
    "Or get it from the object `csc`"
   ]
  },
  {
   "cell_type": "code",
   "execution_count": null,
   "metadata": {},
   "outputs": [],
   "source": [
    "catalog_id = csc.output.get('id') \n",
    "catalog_id"
   ]
  },
  {
   "cell_type": "code",
   "execution_count": null,
   "metadata": {},
   "outputs": [],
   "source": [
    "catalog_name = csc.output.get('internal_name') \n",
    "catalog_name"
   ]
  },
  {
   "cell_type": "markdown",
   "metadata": {},
   "source": [
    "Let's check if the process is done, if the status is 'Successful', we can move on to the next cell. "
   ]
  },
  {
   "cell_type": "code",
   "execution_count": null,
   "metadata": {},
   "outputs": [],
   "source": [
    "csc.check_status()"
   ]
  },
  {
   "cell_type": "markdown",
   "metadata": {},
   "source": [
    "Now, the new spec-z catalog named as \"csc example\" is available to be downloaded or retrieved to memory: "
   ]
  },
  {
   "cell_type": "code",
   "execution_count": null,
   "metadata": {},
   "outputs": [],
   "source": [
    "my_new_specz_catalog = pz_server.get_product(catalog_name)"
   ]
  },
  {
   "cell_type": "code",
   "execution_count": null,
   "metadata": {},
   "outputs": [],
   "source": [
    "my_new_specz_catalog.display_metadata()"
   ]
  },
  {
   "cell_type": "code",
   "execution_count": null,
   "metadata": {},
   "outputs": [],
   "source": [
    "my_new_specz_catalog.data "
   ]
  },
  {
   "cell_type": "code",
   "execution_count": null,
   "metadata": {},
   "outputs": [],
   "source": [
    "my_new_specz_catalog.data.plot(x=\"ra\", y=\"dec\", kind=\"scatter\")  \n",
    "plt.xlabel(\"R.A. (degrees)\")\n",
    "plt.ylabel(\"Dec. (degrees)\")\n",
    "plt.tigh_layout()"
   ]
  },
  {
   "cell_type": "markdown",
   "metadata": {},
   "source": [
    "### Training Set Maker \n",
    "\n",
    "Let's add photometric data to our spectroscopic catalog to make a training set. On the PZ Server website, go to PZ Server Pipelines > Training Set Maker, fill in the submission form with relevant metadata, such as the name for the new training set to be created and a short description, select the input data and configuration parameters, and press the Run button. \n",
    "\n",
    "The configuration parameters are inherited from LSDB. For more information, please check the [LSDB documentation website](https://docs.lsdb.io/en/stable/).  \n",
    "\n",
    "\n",
    "For this pipeline, the number of inputs is fixed to two: one spec-z catalog and one LSST Object catalog (identified by the LSST data release tag). \n",
    "\n",
    "\n",
    "<img src=\"./images/ScreenshotTSM.png\" width=600 /> "
   ]
  },
  {
   "cell_type": "markdown",
   "metadata": {},
   "source": [
    "Alternatively, the pipeline can be submitted using the `pz_server.make_training_set` method from the `pzserver` library.\n",
    "\n",
    "While waiting for the first LSST Object catalog with observed data becoming available, let's see how the *Training Set Maker* works with simulated data from DP0.2. Again, let's instantiate an object for the process, a \"tsm\" object, giving a name (string) for the new training set to be created. "
   ]
  },
  {
   "cell_type": "code",
   "execution_count": null,
   "metadata": {},
   "outputs": [],
   "source": [
    "tsm = pz_server.training_set_maker(\"tsm example 2\")                          "
   ]
  },
  {
   "cell_type": "markdown",
   "metadata": {},
   "source": [
    "Let's set our spec-z catalog created above as input data: "
   ]
  },
  {
   "cell_type": "code",
   "execution_count": null,
   "metadata": {},
   "outputs": [],
   "source": [
    "# tsm.set_specz(specz_id=None, internal_name=None)\n",
    "tsm.set_specz(catalog_id)                                    "
   ]
  },
  {
   "cell_type": "code",
   "execution_count": null,
   "metadata": {},
   "outputs": [],
   "source": [
    "tsm.summary()"
   ]
  },
  {
   "cell_type": "code",
   "execution_count": null,
   "metadata": {},
   "outputs": [],
   "source": [
    "pz_server.display_releases()"
   ]
  },
  {
   "cell_type": "markdown",
   "metadata": {
    "execution": {
     "iopub.execute_input": "2025-01-07T20:57:41.713342Z",
     "iopub.status.busy": "2025-01-07T20:57:41.712591Z",
     "iopub.status.idle": "2025-01-07T20:57:41.745481Z",
     "shell.execute_reply": "2025-01-07T20:57:41.744400Z",
     "shell.execute_reply.started": "2025-01-07T20:57:41.713316Z"
    }
   },
   "source": [
    "And the data release for the object catalog. "
   ]
  },
  {
   "cell_type": "code",
   "execution_count": null,
   "metadata": {},
   "outputs": [],
   "source": [
    "tsm.set_release(name='dp02')        "
   ]
  },
  {
   "cell_type": "code",
   "execution_count": null,
   "metadata": {},
   "outputs": [],
   "source": [
    "tsm.summary()"
   ]
  },
  {
   "cell_type": "markdown",
   "metadata": {},
   "source": [
    "Set the configuration parameters `dict`: \n",
    "\n",
    "* The dictionary \"cross-matching\" refers to the LSDB configuration parameters `{'n_neighbors': 1, 'radius_arcsec': 1.0, 'suffixes': ['','']}`; \n",
    "* In addition, there is an extra parameter to define what to do when there are multiple matches for the same spectroscopic object: keep all matches or keep only the closest one (default). \n",
    "to be used by LSDB. \n",
    "\n",
    "```python\n",
    "tsm.set_config(                                             \n",
    "{'crossmatch': {'n_neighbors': 1, 'radius_arcsec': 1.0, 'suffixes': ['_specz','']}, 'duplicate_criteria': 'closest'}    \n",
    ")    \n",
    "```"
   ]
  },
  {
   "cell_type": "code",
   "execution_count": null,
   "metadata": {},
   "outputs": [],
   "source": [
    "#tsm.set_config({'crossmatch': {'n_neighbors': 1, 'radius_arcsec': 1.0, 'suffixes': ['_specz','']}, 'duplicate_criteria': 'closest'}) "
   ]
  },
  {
   "cell_type": "code",
   "execution_count": null,
   "metadata": {},
   "outputs": [],
   "source": [
    "tsm.summary()"
   ]
  },
  {
   "cell_type": "markdown",
   "metadata": {},
   "source": [
    "This pipeline might take longer than the previous one, so letting the notebook cell run until the process is finished is convenient instead of checking the status once in a while. For that, use the method `run_and_wait()`. \n",
    "\n",
    "OBS: the method `run_and_wait()` works if the process is shorter than 30 minutes. If it takes longer, the notebook cell is released and the process switches to the asynchronous mode.     "
   ]
  },
  {
   "cell_type": "code",
   "execution_count": null,
   "metadata": {},
   "outputs": [],
   "source": [
    "pz_server.run_and_wait(tsm)"
   ]
  },
  {
   "cell_type": "code",
   "execution_count": null,
   "metadata": {},
   "outputs": [],
   "source": [
    "tsm.summary()"
   ]
  },
  {
   "cell_type": "code",
   "execution_count": null,
   "metadata": {},
   "outputs": [],
   "source": [
    "training_set_id = tsm.output.get('id') \n",
    "training_set_id"
   ]
  },
  {
   "cell_type": "markdown",
   "metadata": {},
   "source": [
    "Now, the new training set named as \"tsm example\" is available to be downloaded or retrieved to memory: "
   ]
  },
  {
   "cell_type": "code",
   "execution_count": null,
   "metadata": {},
   "outputs": [],
   "source": [
    "my_new_training_set = pz_server.get_product(training_set_id)"
   ]
  },
  {
   "cell_type": "code",
   "execution_count": null,
   "metadata": {},
   "outputs": [],
   "source": [
    "my_new_training_set.display_metadata()"
   ]
  },
  {
   "cell_type": "code",
   "execution_count": null,
   "metadata": {},
   "outputs": [],
   "source": [
    "my_new_training_set.data "
   ]
  },
  {
   "cell_type": "code",
   "execution_count": null,
   "metadata": {},
   "outputs": [],
   "source": [
    "my_new_training_set.data.plot(x=\"coord_ra\", y=\"coord_dec\", kind=\"scatter\")  \n",
    "plt.xlabel(\"R.A. (degrees)\")\n",
    "plt.ylabel(\"Dec. (degrees)\")\n",
    "plt.tight_layout()"
   ]
  },
  {
   "cell_type": "code",
   "execution_count": null,
   "metadata": {},
   "outputs": [],
   "source": [
    "my_new_training_set.data.hist('z_specz')\n",
    "plt.xlabel(\"spec-z\")\n",
    "plt.ylabel(\"counts\")\n",
    "plt.title(None)\n",
    "plt.tight_layout()"
   ]
  },
  {
   "cell_type": "code",
   "execution_count": null,
   "metadata": {},
   "outputs": [],
   "source": [
    "my_new_training_set.data.hist('mag_i')\n",
    "plt.xlabel(\"i-band magnitude\")\n",
    "plt.ylabel(\"counts\")\n",
    "plt.title(None)\n",
    "plt.tight_layout()"
   ]
  },
  {
   "cell_type": "code",
   "execution_count": null,
   "metadata": {},
   "outputs": [],
   "source": []
  },
  {
   "cell_type": "markdown",
   "metadata": {},
   "source": [
    "--- \n",
    "\n",
    "# User feedback \n",
    "\n",
    "Is something important missing? Send your feedback to us or [open an issue in the PZ Server library repository on GitHub](https://github.com/linea-it/pzserver/issues/new).  "
   ]
  },
  {
   "cell_type": "code",
   "execution_count": null,
   "metadata": {},
   "outputs": [],
   "source": []
  }
 ],
 "metadata": {
  "kernelspec": {
   "display_name": "Python 3 (ipykernel)",
   "language": "python",
   "name": "python3"
  },
  "language_info": {
   "codemirror_mode": {
    "name": "ipython",
    "version": 3
   },
   "file_extension": ".py",
   "mimetype": "text/x-python",
   "name": "python",
   "nbconvert_exporter": "python",
   "pygments_lexer": "ipython3",
   "version": "3.12.11"
  },
  "nbsphinx": {
   "execute": "never"
  },
  "vscode": {
   "interpreter": {
    "hash": "e9b653658693761946b8083bc5972c6593ddffeb81a0a81b81eabc816026cfc3"
   }
  }
 },
 "nbformat": 4,
 "nbformat_minor": 4
}
