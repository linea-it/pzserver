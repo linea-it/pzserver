{
 "cells": [
  {
   "cell_type": "code",
   "execution_count": 1,
   "id": "c0e65a7b-2141-414a-adc1-a9f3200f7698",
   "metadata": {
    "execution": {
     "iopub.execute_input": "2025-01-03T15:46:42.011769Z",
     "iopub.status.busy": "2025-01-03T15:46:42.011275Z",
     "iopub.status.idle": "2025-01-03T15:46:42.064965Z",
     "shell.execute_reply": "2025-01-03T15:46:42.064110Z",
     "shell.execute_reply.started": "2025-01-03T15:46:42.011740Z"
    }
   },
   "outputs": [],
   "source": [
    "from lsst.rsp import get_tap_service, retrieve_query\n",
    "service = get_tap_service('tap')"
   ]
  },
  {
   "cell_type": "code",
   "execution_count": 2,
   "id": "9838e72e-acd1-4176-b8d9-54b8bd2882d7",
   "metadata": {
    "execution": {
     "iopub.execute_input": "2025-01-03T15:46:44.023789Z",
     "iopub.status.busy": "2025-01-03T15:46:44.022946Z",
     "iopub.status.idle": "2025-01-03T15:46:44.027068Z",
     "shell.execute_reply": "2025-01-03T15:46:44.026384Z",
     "shell.execute_reply.started": "2025-01-03T15:46:44.023750Z"
    }
   },
   "outputs": [],
   "source": [
    "url='https://data.lsst.cloud/api/tap/async/dq8t822tn89e0lpd'"
   ]
  },
  {
   "cell_type": "code",
   "execution_count": 5,
   "id": "3f822d7a-c49e-4d09-958e-6c9fa3764e30",
   "metadata": {
    "execution": {
     "iopub.execute_input": "2025-01-03T15:49:16.639677Z",
     "iopub.status.busy": "2025-01-03T15:49:16.639235Z",
     "iopub.status.idle": "2025-01-03T15:49:16.760872Z",
     "shell.execute_reply": "2025-01-03T15:49:16.760339Z",
     "shell.execute_reply.started": "2025-01-03T15:49:16.639646Z"
    }
   },
   "outputs": [
    {
     "data": {
      "text/plain": [
       "<pyvo.dal.tap.AsyncTAPJob at 0x7a0708f8a110>"
      ]
     },
     "execution_count": 5,
     "metadata": {},
     "output_type": "execute_result"
    }
   ],
   "source": [
    "retrieved_job = retrieve_query(url)\n",
    "retrieved_job"
   ]
  },
  {
   "cell_type": "code",
   "execution_count": null,
   "id": "44207b24-0e1f-4305-92be-3358cf6eeba8",
   "metadata": {},
   "outputs": [],
   "source": [
    "retrieved_job.phase"
   ]
  },
  {
   "cell_type": "raw",
   "id": "e3eddeab-0eff-4d49-8b0a-a09a874de5ed",
   "metadata": {},
   "source": []
  }
 ],
 "metadata": {
  "kernelspec": {
   "display_name": "LSST",
   "language": "python",
   "name": "lsst"
  },
  "language_info": {
   "codemirror_mode": {
    "name": "ipython",
    "version": 3
   },
   "file_extension": ".py",
   "mimetype": "text/x-python",
   "name": "python",
   "nbconvert_exporter": "python",
   "pygments_lexer": "ipython3",
   "version": "3.11.9"
  }
 },
 "nbformat": 4,
 "nbformat_minor": 5
}
