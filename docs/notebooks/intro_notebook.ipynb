{
 "cells": [
  {
   "attachments": {},
   "cell_type": "markdown",
   "metadata": {},
   "source": [
    "<img align=\"left\" src = \"images/linea.png\" width=120 style=\"padding: 20px\"> \n",
    "<img align=\"left\" src = \"images/rubin.png\" width=180 style=\"padding: 20px\"> \n",
    "\n",
    "# Photo-z Server - Tutorial Notebook\n",
    "\n",
    "Contact author: [Julia Gschwend](mailto:julia@linea.org.br)\n",
    "\n",
    "Last verified run: 2023-May-05<br>"
   ]
  },
  {
   "attachments": {},
   "cell_type": "markdown",
   "metadata": {
    "tags": []
   },
   "source": [
    "<div id=\"notebook-contents\" />\n",
    "\n",
    "# Notebook contents\n",
    "\n",
    "- PZ Server\n",
    "    - [Introduction](#introduction) \n",
    "    - [How to upload a data product to the PZ Server](#how-to-upload-a-data-product-to-the-pz-server)\n",
    "    - [How to download a data product from the PZ Server](#how-to-download-a-data-product-from-the-pz-server)\n",
    "- PZ Server API (Python library pz-server-lib)\n",
    "    - [How to get general info from PZ Server](#how-to-get-general-info-from-pz-server)\n",
    "    - [How to display the metadata of a data product](#how-to-display-the-metadata-of-a-data-product)\n",
    "    - [How to download data products as .zip files](#how-to-download-data-products-as-zip-files)  \n",
    "    - [How to share data products with other RSP users](#how-to-share-data-products-with-other-rsp-users)\n",
    "    - [How to retrieve contents of data products (work on memory)](#how-to-retrieve-contents-of-data-products-work-on-memory)\n",
    "- Product types \n",
    "    - [Spec-z Catalogs](#spec-z-catalog)\n",
    "    - [Training Sets](#training-sets)\n",
    "    - [Photo-z Validation Results](#photo-z-validation-results)\n",
    "    - [Photo-z Tables](#photo-z-tables)"
   ]
  },
  {
   "attachments": {},
   "cell_type": "markdown",
   "metadata": {
    "tags": []
   },
   "source": [
    "# The PZ Server\n",
    "\n",
    "<div id=\"introduction\"></div>\n",
    "\n",
    "## Introduction \n"
   ]
  },
  {
   "attachments": {},
   "cell_type": "markdown",
   "metadata": {
    "tags": []
   },
   "source": [
    "The Photo-z (PZ) Server is an online service available for the LSST Community to host and share lightweight photo-z related data products. The upload and download of data and metadata can be done at the website [pz-server.linea.org.br](https://pz-server.linea.org.br/) (during the development phase, a test environment is available at [pz-server-dev.linea.org.br](https://pz-server-dev.linea.org.br/)). There, you will find two separate pages containing a list of data products each: one for LSST Data Management's oficial data products, and other for user-generated data products. **The registered data products can also be accessed directly from Python code using the PZ Server's data access API, as demonstrated below.**\n",
    "\n",
    "The PZ Server is developed and delivered as part of the in-kind contribution program BRA-LIN, from LIneA to the Rubin Observatory's LSST. The service is hosted in the Brazilian IDAC, not directly connected to the [Rubin Science Platform (RSP)](https://data.lsst.cloud/). However, it requires RSP credentials for user's authentication. For a comprehensive documentation about the PZ Server, please visit the [PZ Server's documentation page](https://linea-it.github.io/pz-lsst-inkind-doc/). There, you will find also an overview of all LIneA's contributions related to Photo-zs. The internal documentation of the API functions is available on the [API's documentation page](https://linea-it.github.io/pz-server-lib/html/index.html).  "
   ]
  },
  {
   "attachments": {},
   "cell_type": "markdown",
   "metadata": {},
   "source": [
    "<div style=\"text-align: right\" id=\"how-to-upload-a-data-product-to-the-pz-server\">\n",
    "\n",
    "[back to the top](#notebook-contents)\n",
    "\n",
    "</div>\n",
    "\n",
    "## How to upload a data product to the PZ Server \n",
    "\n",
    "To upload a data product, click on the button **NEW PRODUCT** on the top left of the **User-generated Data Products** page and fill in the Upload Form with relevant metadata.\n",
    "\n",
    "The photo-z-related products are organized into four categories (product types):\n",
    "\n",
    "- **Spec-z Catalog:** Catalog of spectroscopic redshifts and positions (usually equatorial coordinates).\n",
    "- **Training Set:** Training set for photo-z algorithms (tabular data). It usually contains magnitudes, errors, and true redshifts.\n",
    "- **Photo-z Validation Results:** Results of a photo-z validation procedure (free format). Usually contains photo-z estimates (single estimates and/or pdf) of a validation set, photo-z validation metrics, validation plots, etc.\n",
    "- **Photo-z Table:** Results of a photo-z estimation procedure. Ideally in the same format as the photo-z tables delivered by the DM as part of the LSST data releases. If the data is larger than the file upload limit (200MB), the product entry stores only the metadata (and instructions on accessing the data should be provided in the description field)."
   ]
  },
  {
   "attachments": {},
   "cell_type": "markdown",
   "metadata": {},
   "source": [
    "<div style=\"text-align: right\">\n",
    "\n",
    "[back to the top](#notebook-contents)\n",
    "\n",
    "</div>\n",
    "\n",
    "## How to download a data product from the PZ Server\n",
    "\n",
    "To download a data product available on the Photo-z Server, go to one of the two pages by clicking on the card \"LSST PZ Data Products\" (for official products released by LSST DM Team) or \"User-generated Data Products\" (for products uploaded by the members of LSST community. The download button is on the left side of each data product (each row of the list). "
   ]
  },
  {
   "attachments": {},
   "cell_type": "markdown",
   "metadata": {},
   "source": [
    "<div style=\"text-align: right\" id=\"how-to-download-a-data-product-from-the-pz-server\">\n",
    "\n",
    "[back to the top](#notebook-contents)\n",
    "\n",
    "</div>\n",
    "\n",
    "# The PZ Server API (Python library pz-server-lib)"
   ]
  },
  {
   "attachments": {},
   "cell_type": "markdown",
   "metadata": {},
   "source": [
    "### Installation\n",
    "\n",
    "**Using pip**\n",
    "\n",
    "The PZ Server API is avalialble on **pip** as  `pzserver`. To install the API and its dependencies, type, on the Terminal:  \n",
    "\n",
    "```\n",
    "$ pip install pzserver \n",
    "``` \n",
    "\n",
    "**For developers**  \n",
    "\n",
    "Alternatively, if you have cloned the repository with:\n",
    "\n",
    "```\n",
    "$ git clone https://github.com/linea-it/pzserver.git  \n",
    "``` \n",
    "\n",
    "To install the API and its dependencies, type:\n",
    "\n",
    "```\n",
    "$ pip install -e .\n",
    "$ pip install .[dev]\n",
    "```\n",
    "\n",
    "\n",
    "OBS: You might need to restart the kernel on the notebook to incorporate the new library.\n"
   ]
  },
  {
   "attachments": {},
   "cell_type": "markdown",
   "metadata": {},
   "source": [
    "### Imports and Setup"
   ]
  },
  {
   "cell_type": "code",
   "execution_count": 1,
   "metadata": {},
   "outputs": [],
   "source": [
    "from pzserver import PzServer \n",
    "import matplotlib.pyplot as plt\n",
    "%reload_ext autoreload \n",
    "%autoreload 2"
   ]
  },
  {
   "attachments": {},
   "cell_type": "markdown",
   "metadata": {},
   "source": [
    "The connection with the PZ Server from Python code is done by an object of the class `PzServer`. To get authorization to define an instance of `PzServer`, the users must provide an **API Token** generated on the top right menu on the [PZ Server website](https://pz-server.linea.org.br/) (during the development phase, on the [test environment](https://pz-server-dev.linea.org.br/)). "
   ]
  },
  {
   "attachments": {},
   "cell_type": "markdown",
   "metadata": {},
   "source": [
    "<img src=\"images/ScreenShotTokenMenu.png\" width=150pt align=\"top\"/> <img src=\"images/ScreenShotTokenGenerator.png\" width=300pt />"
   ]
  },
  {
   "cell_type": "code",
   "execution_count": null,
   "metadata": {},
   "outputs": [],
   "source": [
    "pz_server = PzServer(token=\"<your token>\", host=\"pz-dev\") # \"pz-dev\" is the temporary host for test phase  "
   ]
  },
  {
   "attachments": {},
   "cell_type": "markdown",
   "metadata": {},
   "source": [
    "<div style=\"text-align: right\" id=\"how-to-get-general-info-from-pz-server\">\n",
    "\n",
    "[back to the top](#notebook-contents)\n",
    "\n",
    "</div>\n",
    "\n",
    "## How to get general info from PZ Server"
   ]
  },
  {
   "attachments": {},
   "cell_type": "markdown",
   "metadata": {},
   "source": [
    "The object `pz_server` just created above can provide access to data and metadata stored in the PZ Server. It also brings useful methods for users to navigate through the available contents. The methods with the preffix `get_` return the result of a query on the PZ Server database as a Python dictionary, and are most useful to be used programatically (see detaials on the [API documentation page](https://linea-it.github.io/pz-server-lib/html/index.html)). Alternatively, those with the preffix `display_` show the results as a styled [_Pandas DataFrames_](https://pandas.pydata.org/docs/reference/api/pandas.DataFrame.html), optimized for Jupyter Notebook (note: column names might change in the display version). For instance:\n",
    "\n",
    "Display the list of product types supported with a short description;"
   ]
  },
  {
   "cell_type": "code",
   "execution_count": 3,
   "metadata": {},
   "outputs": [
    {
     "data": {
      "text/html": [
       "<style type=\"text/css\">\n",
       "</style>\n",
       "<table id=\"T_edfc7\">\n",
       "  <thead>\n",
       "    <tr>\n",
       "      <th id=\"T_edfc7_level0_col0\" class=\"col_heading level0 col0\" >Product type</th>\n",
       "      <th id=\"T_edfc7_level0_col1\" class=\"col_heading level0 col1\" >Description</th>\n",
       "    </tr>\n",
       "  </thead>\n",
       "  <tbody>\n",
       "    <tr>\n",
       "      <td id=\"T_edfc7_row0_col0\" class=\"data row0 col0\" >Spec-z Catalog</td>\n",
       "      <td id=\"T_edfc7_row0_col1\" class=\"data row0 col1\" >Catalog of spectroscopic redshifts and positions (usually equatorial coordinates).</td>\n",
       "    </tr>\n",
       "    <tr>\n",
       "      <td id=\"T_edfc7_row1_col0\" class=\"data row1 col0\" >Training Set</td>\n",
       "      <td id=\"T_edfc7_row1_col1\" class=\"data row1 col1\" >Training set for photo-z algorithms (tabular data). It usually contains magnitudes, errors, and true redshifts.</td>\n",
       "    </tr>\n",
       "    <tr>\n",
       "      <td id=\"T_edfc7_row2_col0\" class=\"data row2 col0\" >Validation Results</td>\n",
       "      <td id=\"T_edfc7_row2_col1\" class=\"data row2 col1\" >Results of a photo-z validation procedure (free format). Usually contains photo-z estimates (single estimates and/or pdf) of a validation set and photo-z validation metrics.</td>\n",
       "    </tr>\n",
       "    <tr>\n",
       "      <td id=\"T_edfc7_row3_col0\" class=\"data row3 col0\" >Photo-z Table</td>\n",
       "      <td id=\"T_edfc7_row3_col1\" class=\"data row3 col1\" >Results of a photo-z estimation procedure. If the data is larger than the file upload limit (200MB), the product entry stores only the metadata (instructions on accessing the data should be provided in the description field.</td>\n",
       "    </tr>\n",
       "  </tbody>\n",
       "</table>\n"
      ],
      "text/plain": [
       "<pandas.io.formats.style.Styler at 0x7f2fc47ab310>"
      ]
     },
     "metadata": {},
     "output_type": "display_data"
    }
   ],
   "source": [
    "pz_server.display_product_types()"
   ]
  },
  {
   "attachments": {},
   "cell_type": "markdown",
   "metadata": {},
   "source": [
    "Display the list of users who uploaded data products to the server;"
   ]
  },
  {
   "cell_type": "code",
   "execution_count": 4,
   "metadata": {},
   "outputs": [
    {
     "data": {
      "text/html": [
       "<style type=\"text/css\">\n",
       "</style>\n",
       "<table id=\"T_9c142\">\n",
       "  <thead>\n",
       "    <tr>\n",
       "      <th id=\"T_9c142_level0_col0\" class=\"col_heading level0 col0\" >GitHub username</th>\n",
       "      <th id=\"T_9c142_level0_col1\" class=\"col_heading level0 col1\" >name</th>\n",
       "    </tr>\n",
       "  </thead>\n",
       "  <tbody>\n",
       "    <tr>\n",
       "      <td id=\"T_9c142_row0_col0\" class=\"data row0 col0\" >crisingulani</td>\n",
       "      <td id=\"T_9c142_row0_col1\" class=\"data row0 col1\" >Cristiano Singulani</td>\n",
       "    </tr>\n",
       "    <tr>\n",
       "      <td id=\"T_9c142_row1_col0\" class=\"data row1 col0\" >drewoldag</td>\n",
       "      <td id=\"T_9c142_row1_col1\" class=\"data row1 col1\" >Drew Oldag</td>\n",
       "    </tr>\n",
       "    <tr>\n",
       "      <td id=\"T_9c142_row2_col0\" class=\"data row2 col0\" >glaubervila</td>\n",
       "      <td id=\"T_9c142_row2_col1\" class=\"data row2 col1\" >Glauber Costa Vila-Verde</td>\n",
       "    </tr>\n",
       "    <tr>\n",
       "      <td id=\"T_9c142_row3_col0\" class=\"data row3 col0\" >gschwend</td>\n",
       "      <td id=\"T_9c142_row3_col1\" class=\"data row3 col1\" >Julia Gschwend</td>\n",
       "    </tr>\n",
       "    <tr>\n",
       "      <td id=\"T_9c142_row4_col0\" class=\"data row4 col0\" >gverde</td>\n",
       "      <td id=\"T_9c142_row4_col1\" class=\"data row4 col1\" ></td>\n",
       "    </tr>\n",
       "    <tr>\n",
       "      <td id=\"T_9c142_row5_col0\" class=\"data row5 col0\" >singulani</td>\n",
       "      <td id=\"T_9c142_row5_col1\" class=\"data row5 col1\" ></td>\n",
       "    </tr>\n",
       "  </tbody>\n",
       "</table>\n"
      ],
      "text/plain": [
       "<pandas.io.formats.style.Styler at 0x7f2fc47aba90>"
      ]
     },
     "metadata": {},
     "output_type": "display_data"
    }
   ],
   "source": [
    "pz_server.display_users()"
   ]
  },
  {
   "attachments": {},
   "cell_type": "markdown",
   "metadata": {},
   "source": [
    "Display the list of data releases available at the time; "
   ]
  },
  {
   "cell_type": "code",
   "execution_count": 5,
   "metadata": {},
   "outputs": [
    {
     "data": {
      "text/html": [
       "<style type=\"text/css\">\n",
       "</style>\n",
       "<table id=\"T_24dc0\">\n",
       "  <thead>\n",
       "    <tr>\n",
       "      <th id=\"T_24dc0_level0_col0\" class=\"col_heading level0 col0\" >Release</th>\n",
       "      <th id=\"T_24dc0_level0_col1\" class=\"col_heading level0 col1\" >Description</th>\n",
       "    </tr>\n",
       "  </thead>\n",
       "  <tbody>\n",
       "    <tr>\n",
       "      <td id=\"T_24dc0_row0_col0\" class=\"data row0 col0\" >LSST DP0</td>\n",
       "      <td id=\"T_24dc0_row0_col1\" class=\"data row0 col1\" >LSST Data Preview 0</td>\n",
       "    </tr>\n",
       "  </tbody>\n",
       "</table>\n"
      ],
      "text/plain": [
       "<pandas.io.formats.style.Styler at 0x7f2fc47aae90>"
      ]
     },
     "metadata": {},
     "output_type": "display_data"
    }
   ],
   "source": [
    "pz_server.display_releases()"
   ]
  },
  {
   "attachments": {},
   "cell_type": "markdown",
   "metadata": {},
   "source": [
    "---\n",
    "\n",
    "Display all data products available (WARNING: this list can rapdly grow during the survey's operation). "
   ]
  },
  {
   "cell_type": "code",
   "execution_count": 6,
   "metadata": {
    "tags": []
   },
   "outputs": [
    {
     "data": {
      "text/html": [
       "<style type=\"text/css\">\n",
       "</style>\n",
       "<table id=\"T_b5f79\">\n",
       "  <thead>\n",
       "    <tr>\n",
       "      <th id=\"T_b5f79_level0_col0\" class=\"col_heading level0 col0\" >id</th>\n",
       "      <th id=\"T_b5f79_level0_col1\" class=\"col_heading level0 col1\" >internal_name</th>\n",
       "      <th id=\"T_b5f79_level0_col2\" class=\"col_heading level0 col2\" >product_name</th>\n",
       "      <th id=\"T_b5f79_level0_col3\" class=\"col_heading level0 col3\" >product_type</th>\n",
       "      <th id=\"T_b5f79_level0_col4\" class=\"col_heading level0 col4\" >release</th>\n",
       "      <th id=\"T_b5f79_level0_col5\" class=\"col_heading level0 col5\" >uploaded_by</th>\n",
       "      <th id=\"T_b5f79_level0_col6\" class=\"col_heading level0 col6\" >official_product</th>\n",
       "      <th id=\"T_b5f79_level0_col7\" class=\"col_heading level0 col7\" >pz_code</th>\n",
       "      <th id=\"T_b5f79_level0_col8\" class=\"col_heading level0 col8\" >description</th>\n",
       "      <th id=\"T_b5f79_level0_col9\" class=\"col_heading level0 col9\" >created_at</th>\n",
       "    </tr>\n",
       "  </thead>\n",
       "  <tbody>\n",
       "    <tr>\n",
       "      <td id=\"T_b5f79_row0_col0\" class=\"data row0 col0\" >14</td>\n",
       "      <td id=\"T_b5f79_row0_col1\" class=\"data row0 col1\" >14_gama_specz_subsample</td>\n",
       "      <td id=\"T_b5f79_row0_col2\" class=\"data row0 col2\" >GAMA spec-z subsample</td>\n",
       "      <td id=\"T_b5f79_row0_col3\" class=\"data row0 col3\" >Spec-z Catalog</td>\n",
       "      <td id=\"T_b5f79_row0_col4\" class=\"data row0 col4\" >None</td>\n",
       "      <td id=\"T_b5f79_row0_col5\" class=\"data row0 col5\" >gschwend</td>\n",
       "      <td id=\"T_b5f79_row0_col6\" class=\"data row0 col6\" >False</td>\n",
       "      <td id=\"T_b5f79_row0_col7\" class=\"data row0 col7\" ></td>\n",
       "      <td id=\"T_b5f79_row0_col8\" class=\"data row0 col8\" >A small subsample of the GAMA DR3 spec-z catalog (Baldry et al. 2018) as an example of a typical spec-z catalog from the literature.</td>\n",
       "      <td id=\"T_b5f79_row0_col9\" class=\"data row0 col9\" >2023-03-29T20:02:45.223568Z</td>\n",
       "    </tr>\n",
       "    <tr>\n",
       "      <td id=\"T_b5f79_row1_col0\" class=\"data row1 col0\" >13</td>\n",
       "      <td id=\"T_b5f79_row1_col1\" class=\"data row1 col1\" >13_vvds_specz_subsample</td>\n",
       "      <td id=\"T_b5f79_row1_col2\" class=\"data row1 col2\" >VVDS spec-z subsample</td>\n",
       "      <td id=\"T_b5f79_row1_col3\" class=\"data row1 col3\" >Spec-z Catalog</td>\n",
       "      <td id=\"T_b5f79_row1_col4\" class=\"data row1 col4\" >None</td>\n",
       "      <td id=\"T_b5f79_row1_col5\" class=\"data row1 col5\" >gschwend</td>\n",
       "      <td id=\"T_b5f79_row1_col6\" class=\"data row1 col6\" >False</td>\n",
       "      <td id=\"T_b5f79_row1_col7\" class=\"data row1 col7\" ></td>\n",
       "      <td id=\"T_b5f79_row1_col8\" class=\"data row1 col8\" >A small subsample of the VVDS spec-z catalog (Le Fèvre et al. 2004, Garilli et al. 2008) as an example of a typical spec-z catalog from the literature.</td>\n",
       "      <td id=\"T_b5f79_row1_col9\" class=\"data row1 col9\" >2023-03-29T19:50:27.593735Z</td>\n",
       "    </tr>\n",
       "    <tr>\n",
       "      <td id=\"T_b5f79_row2_col0\" class=\"data row2 col0\" >12</td>\n",
       "      <td id=\"T_b5f79_row2_col1\" class=\"data row2 col1\" >12_goldenspike_knn</td>\n",
       "      <td id=\"T_b5f79_row2_col2\" class=\"data row2 col2\" >Goldenspike KNN</td>\n",
       "      <td id=\"T_b5f79_row2_col3\" class=\"data row2 col3\" >Validation Results</td>\n",
       "      <td id=\"T_b5f79_row2_col4\" class=\"data row2 col4\" >None</td>\n",
       "      <td id=\"T_b5f79_row2_col5\" class=\"data row2 col5\" >gschwend</td>\n",
       "      <td id=\"T_b5f79_row2_col6\" class=\"data row2 col6\" >False</td>\n",
       "      <td id=\"T_b5f79_row2_col7\" class=\"data row2 col7\" >KNN</td>\n",
       "      <td id=\"T_b5f79_row2_col8\" class=\"data row2 col8\" >Results of photoz validation using KNN on a mock test set from the example notebook goldenspike.ipynb available in RAIL's repository.</td>\n",
       "      <td id=\"T_b5f79_row2_col9\" class=\"data row2 col9\" >2023-03-29T19:49:35.652295Z</td>\n",
       "    </tr>\n",
       "    <tr>\n",
       "      <td id=\"T_b5f79_row3_col0\" class=\"data row3 col0\" >11</td>\n",
       "      <td id=\"T_b5f79_row3_col1\" class=\"data row3 col1\" >11_goldenspike_flexzboost</td>\n",
       "      <td id=\"T_b5f79_row3_col2\" class=\"data row3 col2\" >Goldenspike FlexZBoost</td>\n",
       "      <td id=\"T_b5f79_row3_col3\" class=\"data row3 col3\" >Validation Results</td>\n",
       "      <td id=\"T_b5f79_row3_col4\" class=\"data row3 col4\" >None</td>\n",
       "      <td id=\"T_b5f79_row3_col5\" class=\"data row3 col5\" >gschwend</td>\n",
       "      <td id=\"T_b5f79_row3_col6\" class=\"data row3 col6\" >False</td>\n",
       "      <td id=\"T_b5f79_row3_col7\" class=\"data row3 col7\" >FlexZBoost</td>\n",
       "      <td id=\"T_b5f79_row3_col8\" class=\"data row3 col8\" >Results of photoz validation using FlexZBoost on a mock test set from the example notebook goldenspike.ipynb available in RAIL's repository.</td>\n",
       "      <td id=\"T_b5f79_row3_col9\" class=\"data row3 col9\" >2023-03-29T19:48:34.864629Z</td>\n",
       "    </tr>\n",
       "    <tr>\n",
       "      <td id=\"T_b5f79_row4_col0\" class=\"data row4 col0\" >10</td>\n",
       "      <td id=\"T_b5f79_row4_col1\" class=\"data row4 col1\" >10_goldenspike_bpz</td>\n",
       "      <td id=\"T_b5f79_row4_col2\" class=\"data row4 col2\" >Goldenspike BPZ</td>\n",
       "      <td id=\"T_b5f79_row4_col3\" class=\"data row4 col3\" >Validation Results</td>\n",
       "      <td id=\"T_b5f79_row4_col4\" class=\"data row4 col4\" >LSST DP0</td>\n",
       "      <td id=\"T_b5f79_row4_col5\" class=\"data row4 col5\" >gschwend</td>\n",
       "      <td id=\"T_b5f79_row4_col6\" class=\"data row4 col6\" >False</td>\n",
       "      <td id=\"T_b5f79_row4_col7\" class=\"data row4 col7\" >BPZ</td>\n",
       "      <td id=\"T_b5f79_row4_col8\" class=\"data row4 col8\" >Results of photoz validation using BPZ on a mock test set from the example notebook goldenspike.ipynb available in RAIL's repository.</td>\n",
       "      <td id=\"T_b5f79_row4_col9\" class=\"data row4 col9\" >2023-03-29T19:42:04.424990Z</td>\n",
       "    </tr>\n",
       "    <tr>\n",
       "      <td id=\"T_b5f79_row5_col0\" class=\"data row5 col0\" >9</td>\n",
       "      <td id=\"T_b5f79_row5_col1\" class=\"data row5 col1\" >9_goldenspike_train_data_hdf5</td>\n",
       "      <td id=\"T_b5f79_row5_col2\" class=\"data row5 col2\" >Goldenspike train data hdf5</td>\n",
       "      <td id=\"T_b5f79_row5_col3\" class=\"data row5 col3\" >Training Set</td>\n",
       "      <td id=\"T_b5f79_row5_col4\" class=\"data row5 col4\" >None</td>\n",
       "      <td id=\"T_b5f79_row5_col5\" class=\"data row5 col5\" >gschwend</td>\n",
       "      <td id=\"T_b5f79_row5_col6\" class=\"data row5 col6\" >False</td>\n",
       "      <td id=\"T_b5f79_row5_col7\" class=\"data row5 col7\" ></td>\n",
       "      <td id=\"T_b5f79_row5_col8\" class=\"data row5 col8\" >A mock training set created using the example notebook goldenspike.ipynb available in RAIL's repository.  \r\n",
       "Test upload of files in hdf5 format.</td>\n",
       "      <td id=\"T_b5f79_row5_col9\" class=\"data row5 col9\" >2023-03-29T19:12:59.746096Z</td>\n",
       "    </tr>\n",
       "    <tr>\n",
       "      <td id=\"T_b5f79_row6_col0\" class=\"data row6 col0\" >8</td>\n",
       "      <td id=\"T_b5f79_row6_col1\" class=\"data row6 col1\" >8_goldenspike_train_data_fits</td>\n",
       "      <td id=\"T_b5f79_row6_col2\" class=\"data row6 col2\" >Goldenspike train data fits</td>\n",
       "      <td id=\"T_b5f79_row6_col3\" class=\"data row6 col3\" >Training Set</td>\n",
       "      <td id=\"T_b5f79_row6_col4\" class=\"data row6 col4\" >None</td>\n",
       "      <td id=\"T_b5f79_row6_col5\" class=\"data row6 col5\" >gschwend</td>\n",
       "      <td id=\"T_b5f79_row6_col6\" class=\"data row6 col6\" >False</td>\n",
       "      <td id=\"T_b5f79_row6_col7\" class=\"data row6 col7\" ></td>\n",
       "      <td id=\"T_b5f79_row6_col8\" class=\"data row6 col8\" >A mock training set created using the example notebook goldenspike.ipynb available in RAIL's repository.  \r\n",
       "Test upload of files in fits format.</td>\n",
       "      <td id=\"T_b5f79_row6_col9\" class=\"data row6 col9\" >2023-03-29T19:09:12.958883Z</td>\n",
       "    </tr>\n",
       "    <tr>\n",
       "      <td id=\"T_b5f79_row7_col0\" class=\"data row7 col0\" >7</td>\n",
       "      <td id=\"T_b5f79_row7_col1\" class=\"data row7 col1\" >7_goldenspike_train_data_parquet</td>\n",
       "      <td id=\"T_b5f79_row7_col2\" class=\"data row7 col2\" >Goldenspike train data parquet</td>\n",
       "      <td id=\"T_b5f79_row7_col3\" class=\"data row7 col3\" >Training Set</td>\n",
       "      <td id=\"T_b5f79_row7_col4\" class=\"data row7 col4\" >None</td>\n",
       "      <td id=\"T_b5f79_row7_col5\" class=\"data row7 col5\" >gschwend</td>\n",
       "      <td id=\"T_b5f79_row7_col6\" class=\"data row7 col6\" >False</td>\n",
       "      <td id=\"T_b5f79_row7_col7\" class=\"data row7 col7\" ></td>\n",
       "      <td id=\"T_b5f79_row7_col8\" class=\"data row7 col8\" >A mock training set created using the example notebook goldenspike.ipynb available in RAIL's repository.  Test upload of files in parquet format.</td>\n",
       "      <td id=\"T_b5f79_row7_col9\" class=\"data row7 col9\" >2023-03-29T19:06:58.473920Z</td>\n",
       "    </tr>\n",
       "    <tr>\n",
       "      <td id=\"T_b5f79_row8_col0\" class=\"data row8 col0\" >6</td>\n",
       "      <td id=\"T_b5f79_row8_col1\" class=\"data row8 col1\" >6_simple_training_set</td>\n",
       "      <td id=\"T_b5f79_row8_col2\" class=\"data row8 col2\" >Simple training set</td>\n",
       "      <td id=\"T_b5f79_row8_col3\" class=\"data row8 col3\" >Training Set</td>\n",
       "      <td id=\"T_b5f79_row8_col4\" class=\"data row8 col4\" >LSST DP0</td>\n",
       "      <td id=\"T_b5f79_row8_col5\" class=\"data row8 col5\" >gschwend</td>\n",
       "      <td id=\"T_b5f79_row8_col6\" class=\"data row8 col6\" >False</td>\n",
       "      <td id=\"T_b5f79_row8_col7\" class=\"data row8 col7\" ></td>\n",
       "      <td id=\"T_b5f79_row8_col8\" class=\"data row8 col8\" >A simple example training set created based on the Jupyter notebook simple_pz_training_set.ipynb created by Melissa Graham, available in the repository delegate-contributions-dp02. The file contains coordinates, redshifts, magnitudes, and errors, as an illustration of a typical training set for photo-z algorithms.</td>\n",
       "      <td id=\"T_b5f79_row8_col9\" class=\"data row8 col9\" >2023-03-23T19:46:48.807872Z</td>\n",
       "    </tr>\n",
       "    <tr>\n",
       "      <td id=\"T_b5f79_row9_col0\" class=\"data row9 col0\" >1</td>\n",
       "      <td id=\"T_b5f79_row9_col1\" class=\"data row9 col1\" >1_simple_true_z_catalog</td>\n",
       "      <td id=\"T_b5f79_row9_col2\" class=\"data row9 col2\" >Simple true z catalog</td>\n",
       "      <td id=\"T_b5f79_row9_col3\" class=\"data row9 col3\" >Spec-z Catalog</td>\n",
       "      <td id=\"T_b5f79_row9_col4\" class=\"data row9 col4\" >None</td>\n",
       "      <td id=\"T_b5f79_row9_col5\" class=\"data row9 col5\" >gschwend</td>\n",
       "      <td id=\"T_b5f79_row9_col6\" class=\"data row9 col6\" >False</td>\n",
       "      <td id=\"T_b5f79_row9_col7\" class=\"data row9 col7\" ></td>\n",
       "      <td id=\"T_b5f79_row9_col8\" class=\"data row9 col8\" >A simple example of a spectroscopic (true) redshifts catalog created based on the Jupyter notebook simple_pz_training_set.ipynb created by Melissa Graham, available in the repository delegate-contributions-dp02. The file contains only coordinates and redshifts, as an illustration of a typical spec-z catalog.</td>\n",
       "      <td id=\"T_b5f79_row9_col9\" class=\"data row9 col9\" >2023-03-23T13:19:32.050795Z</td>\n",
       "    </tr>\n",
       "  </tbody>\n",
       "</table>\n"
      ],
      "text/plain": [
       "<pandas.io.formats.style.Styler at 0x7f2f691f9480>"
      ]
     },
     "metadata": {},
     "output_type": "display_data"
    }
   ],
   "source": [
    "pz_server.display_products_list() "
   ]
  },
  {
   "attachments": {},
   "cell_type": "markdown",
   "metadata": {},
   "source": [
    "The information about product type, users, and releases shown above can be used to filter the data products of interest for your search. For that, the method `list_products` receives as argument a dictionary mapping the products attributes to their values. "
   ]
  },
  {
   "cell_type": "code",
   "execution_count": 7,
   "metadata": {},
   "outputs": [
    {
     "data": {
      "text/html": [
       "<style type=\"text/css\">\n",
       "</style>\n",
       "<table id=\"T_3a24b\">\n",
       "  <thead>\n",
       "    <tr>\n",
       "      <th id=\"T_3a24b_level0_col0\" class=\"col_heading level0 col0\" >id</th>\n",
       "      <th id=\"T_3a24b_level0_col1\" class=\"col_heading level0 col1\" >internal_name</th>\n",
       "      <th id=\"T_3a24b_level0_col2\" class=\"col_heading level0 col2\" >product_name</th>\n",
       "      <th id=\"T_3a24b_level0_col3\" class=\"col_heading level0 col3\" >product_type</th>\n",
       "      <th id=\"T_3a24b_level0_col4\" class=\"col_heading level0 col4\" >release</th>\n",
       "      <th id=\"T_3a24b_level0_col5\" class=\"col_heading level0 col5\" >uploaded_by</th>\n",
       "      <th id=\"T_3a24b_level0_col6\" class=\"col_heading level0 col6\" >official_product</th>\n",
       "      <th id=\"T_3a24b_level0_col7\" class=\"col_heading level0 col7\" >pz_code</th>\n",
       "      <th id=\"T_3a24b_level0_col8\" class=\"col_heading level0 col8\" >description</th>\n",
       "      <th id=\"T_3a24b_level0_col9\" class=\"col_heading level0 col9\" >created_at</th>\n",
       "    </tr>\n",
       "  </thead>\n",
       "  <tbody>\n",
       "    <tr>\n",
       "      <td id=\"T_3a24b_row0_col0\" class=\"data row0 col0\" >6</td>\n",
       "      <td id=\"T_3a24b_row0_col1\" class=\"data row0 col1\" >6_simple_training_set</td>\n",
       "      <td id=\"T_3a24b_row0_col2\" class=\"data row0 col2\" >Simple training set</td>\n",
       "      <td id=\"T_3a24b_row0_col3\" class=\"data row0 col3\" >Training Set</td>\n",
       "      <td id=\"T_3a24b_row0_col4\" class=\"data row0 col4\" >LSST DP0</td>\n",
       "      <td id=\"T_3a24b_row0_col5\" class=\"data row0 col5\" >gschwend</td>\n",
       "      <td id=\"T_3a24b_row0_col6\" class=\"data row0 col6\" >False</td>\n",
       "      <td id=\"T_3a24b_row0_col7\" class=\"data row0 col7\" ></td>\n",
       "      <td id=\"T_3a24b_row0_col8\" class=\"data row0 col8\" >A simple example training set created based on the Jupyter notebook simple_pz_training_set.ipynb created by Melissa Graham, available in the repository delegate-contributions-dp02. The file contains coordinates, redshifts, magnitudes, and errors, as an illustration of a typical training set for photo-z algorithms.</td>\n",
       "      <td id=\"T_3a24b_row0_col9\" class=\"data row0 col9\" >2023-03-23T19:46:48.807872Z</td>\n",
       "    </tr>\n",
       "  </tbody>\n",
       "</table>\n"
      ],
      "text/plain": [
       "<pandas.io.formats.style.Styler at 0x7f2f691f9570>"
      ]
     },
     "metadata": {},
     "output_type": "display_data"
    }
   ],
   "source": [
    "pz_server.display_products_list(filters={\"release\": \"LSST DP0\", \n",
    "                                 \"product_type\": \"Training Set\"})"
   ]
  },
  {
   "attachments": {},
   "cell_type": "markdown",
   "metadata": {},
   "source": [
    "It also works if we type a string pattern that is part of the value. For instance, just \"DP0\" instead of \"LSST DP0\": "
   ]
  },
  {
   "cell_type": "code",
   "execution_count": 8,
   "metadata": {},
   "outputs": [
    {
     "data": {
      "text/html": [
       "<style type=\"text/css\">\n",
       "</style>\n",
       "<table id=\"T_7ebcb\">\n",
       "  <thead>\n",
       "    <tr>\n",
       "      <th id=\"T_7ebcb_level0_col0\" class=\"col_heading level0 col0\" >id</th>\n",
       "      <th id=\"T_7ebcb_level0_col1\" class=\"col_heading level0 col1\" >internal_name</th>\n",
       "      <th id=\"T_7ebcb_level0_col2\" class=\"col_heading level0 col2\" >product_name</th>\n",
       "      <th id=\"T_7ebcb_level0_col3\" class=\"col_heading level0 col3\" >product_type</th>\n",
       "      <th id=\"T_7ebcb_level0_col4\" class=\"col_heading level0 col4\" >release</th>\n",
       "      <th id=\"T_7ebcb_level0_col5\" class=\"col_heading level0 col5\" >uploaded_by</th>\n",
       "      <th id=\"T_7ebcb_level0_col6\" class=\"col_heading level0 col6\" >official_product</th>\n",
       "      <th id=\"T_7ebcb_level0_col7\" class=\"col_heading level0 col7\" >pz_code</th>\n",
       "      <th id=\"T_7ebcb_level0_col8\" class=\"col_heading level0 col8\" >description</th>\n",
       "      <th id=\"T_7ebcb_level0_col9\" class=\"col_heading level0 col9\" >created_at</th>\n",
       "    </tr>\n",
       "  </thead>\n",
       "  <tbody>\n",
       "    <tr>\n",
       "      <td id=\"T_7ebcb_row0_col0\" class=\"data row0 col0\" >10</td>\n",
       "      <td id=\"T_7ebcb_row0_col1\" class=\"data row0 col1\" >10_goldenspike_bpz</td>\n",
       "      <td id=\"T_7ebcb_row0_col2\" class=\"data row0 col2\" >Goldenspike BPZ</td>\n",
       "      <td id=\"T_7ebcb_row0_col3\" class=\"data row0 col3\" >Validation Results</td>\n",
       "      <td id=\"T_7ebcb_row0_col4\" class=\"data row0 col4\" >LSST DP0</td>\n",
       "      <td id=\"T_7ebcb_row0_col5\" class=\"data row0 col5\" >gschwend</td>\n",
       "      <td id=\"T_7ebcb_row0_col6\" class=\"data row0 col6\" >False</td>\n",
       "      <td id=\"T_7ebcb_row0_col7\" class=\"data row0 col7\" >BPZ</td>\n",
       "      <td id=\"T_7ebcb_row0_col8\" class=\"data row0 col8\" >Results of photoz validation using BPZ on a mock test set from the example notebook goldenspike.ipynb available in RAIL's repository.</td>\n",
       "      <td id=\"T_7ebcb_row0_col9\" class=\"data row0 col9\" >2023-03-29T19:42:04.424990Z</td>\n",
       "    </tr>\n",
       "    <tr>\n",
       "      <td id=\"T_7ebcb_row1_col0\" class=\"data row1 col0\" >6</td>\n",
       "      <td id=\"T_7ebcb_row1_col1\" class=\"data row1 col1\" >6_simple_training_set</td>\n",
       "      <td id=\"T_7ebcb_row1_col2\" class=\"data row1 col2\" >Simple training set</td>\n",
       "      <td id=\"T_7ebcb_row1_col3\" class=\"data row1 col3\" >Training Set</td>\n",
       "      <td id=\"T_7ebcb_row1_col4\" class=\"data row1 col4\" >LSST DP0</td>\n",
       "      <td id=\"T_7ebcb_row1_col5\" class=\"data row1 col5\" >gschwend</td>\n",
       "      <td id=\"T_7ebcb_row1_col6\" class=\"data row1 col6\" >False</td>\n",
       "      <td id=\"T_7ebcb_row1_col7\" class=\"data row1 col7\" ></td>\n",
       "      <td id=\"T_7ebcb_row1_col8\" class=\"data row1 col8\" >A simple example training set created based on the Jupyter notebook simple_pz_training_set.ipynb created by Melissa Graham, available in the repository delegate-contributions-dp02. The file contains coordinates, redshifts, magnitudes, and errors, as an illustration of a typical training set for photo-z algorithms.</td>\n",
       "      <td id=\"T_7ebcb_row1_col9\" class=\"data row1 col9\" >2023-03-23T19:46:48.807872Z</td>\n",
       "    </tr>\n",
       "  </tbody>\n",
       "</table>\n"
      ],
      "text/plain": [
       "<pandas.io.formats.style.Styler at 0x7f2fc47abd60>"
      ]
     },
     "metadata": {},
     "output_type": "display_data"
    }
   ],
   "source": [
    "pz_server.display_products_list(filters={\"release\": \"DP0\"})"
   ]
  },
  {
   "attachments": {},
   "cell_type": "markdown",
   "metadata": {},
   "source": [
    "It also allows the search for multiple strings by adding the suffix `__or` (two underscores + \"or\") to the search key. For instance, to get spec-z catalogs and training sets in the same search (notice that filtering is not case sensitive):"
   ]
  },
  {
   "cell_type": "code",
   "execution_count": 9,
   "metadata": {
    "tags": []
   },
   "outputs": [
    {
     "data": {
      "text/html": [
       "<style type=\"text/css\">\n",
       "</style>\n",
       "<table id=\"T_c3f6b\">\n",
       "  <thead>\n",
       "    <tr>\n",
       "      <th id=\"T_c3f6b_level0_col0\" class=\"col_heading level0 col0\" >id</th>\n",
       "      <th id=\"T_c3f6b_level0_col1\" class=\"col_heading level0 col1\" >internal_name</th>\n",
       "      <th id=\"T_c3f6b_level0_col2\" class=\"col_heading level0 col2\" >product_name</th>\n",
       "      <th id=\"T_c3f6b_level0_col3\" class=\"col_heading level0 col3\" >product_type</th>\n",
       "      <th id=\"T_c3f6b_level0_col4\" class=\"col_heading level0 col4\" >release</th>\n",
       "      <th id=\"T_c3f6b_level0_col5\" class=\"col_heading level0 col5\" >uploaded_by</th>\n",
       "      <th id=\"T_c3f6b_level0_col6\" class=\"col_heading level0 col6\" >official_product</th>\n",
       "      <th id=\"T_c3f6b_level0_col7\" class=\"col_heading level0 col7\" >pz_code</th>\n",
       "      <th id=\"T_c3f6b_level0_col8\" class=\"col_heading level0 col8\" >description</th>\n",
       "      <th id=\"T_c3f6b_level0_col9\" class=\"col_heading level0 col9\" >created_at</th>\n",
       "    </tr>\n",
       "  </thead>\n",
       "  <tbody>\n",
       "    <tr>\n",
       "      <td id=\"T_c3f6b_row0_col0\" class=\"data row0 col0\" >14</td>\n",
       "      <td id=\"T_c3f6b_row0_col1\" class=\"data row0 col1\" >14_gama_specz_subsample</td>\n",
       "      <td id=\"T_c3f6b_row0_col2\" class=\"data row0 col2\" >GAMA spec-z subsample</td>\n",
       "      <td id=\"T_c3f6b_row0_col3\" class=\"data row0 col3\" >Spec-z Catalog</td>\n",
       "      <td id=\"T_c3f6b_row0_col4\" class=\"data row0 col4\" >None</td>\n",
       "      <td id=\"T_c3f6b_row0_col5\" class=\"data row0 col5\" >gschwend</td>\n",
       "      <td id=\"T_c3f6b_row0_col6\" class=\"data row0 col6\" >False</td>\n",
       "      <td id=\"T_c3f6b_row0_col7\" class=\"data row0 col7\" ></td>\n",
       "      <td id=\"T_c3f6b_row0_col8\" class=\"data row0 col8\" >A small subsample of the GAMA DR3 spec-z catalog (Baldry et al. 2018) as an example of a typical spec-z catalog from the literature.</td>\n",
       "      <td id=\"T_c3f6b_row0_col9\" class=\"data row0 col9\" >2023-03-29T20:02:45.223568Z</td>\n",
       "    </tr>\n",
       "    <tr>\n",
       "      <td id=\"T_c3f6b_row1_col0\" class=\"data row1 col0\" >13</td>\n",
       "      <td id=\"T_c3f6b_row1_col1\" class=\"data row1 col1\" >13_vvds_specz_subsample</td>\n",
       "      <td id=\"T_c3f6b_row1_col2\" class=\"data row1 col2\" >VVDS spec-z subsample</td>\n",
       "      <td id=\"T_c3f6b_row1_col3\" class=\"data row1 col3\" >Spec-z Catalog</td>\n",
       "      <td id=\"T_c3f6b_row1_col4\" class=\"data row1 col4\" >None</td>\n",
       "      <td id=\"T_c3f6b_row1_col5\" class=\"data row1 col5\" >gschwend</td>\n",
       "      <td id=\"T_c3f6b_row1_col6\" class=\"data row1 col6\" >False</td>\n",
       "      <td id=\"T_c3f6b_row1_col7\" class=\"data row1 col7\" ></td>\n",
       "      <td id=\"T_c3f6b_row1_col8\" class=\"data row1 col8\" >A small subsample of the VVDS spec-z catalog (Le Fèvre et al. 2004, Garilli et al. 2008) as an example of a typical spec-z catalog from the literature.</td>\n",
       "      <td id=\"T_c3f6b_row1_col9\" class=\"data row1 col9\" >2023-03-29T19:50:27.593735Z</td>\n",
       "    </tr>\n",
       "    <tr>\n",
       "      <td id=\"T_c3f6b_row2_col0\" class=\"data row2 col0\" >9</td>\n",
       "      <td id=\"T_c3f6b_row2_col1\" class=\"data row2 col1\" >9_goldenspike_train_data_hdf5</td>\n",
       "      <td id=\"T_c3f6b_row2_col2\" class=\"data row2 col2\" >Goldenspike train data hdf5</td>\n",
       "      <td id=\"T_c3f6b_row2_col3\" class=\"data row2 col3\" >Training Set</td>\n",
       "      <td id=\"T_c3f6b_row2_col4\" class=\"data row2 col4\" >None</td>\n",
       "      <td id=\"T_c3f6b_row2_col5\" class=\"data row2 col5\" >gschwend</td>\n",
       "      <td id=\"T_c3f6b_row2_col6\" class=\"data row2 col6\" >False</td>\n",
       "      <td id=\"T_c3f6b_row2_col7\" class=\"data row2 col7\" ></td>\n",
       "      <td id=\"T_c3f6b_row2_col8\" class=\"data row2 col8\" >A mock training set created using the example notebook goldenspike.ipynb available in RAIL's repository.  \r\n",
       "Test upload of files in hdf5 format.</td>\n",
       "      <td id=\"T_c3f6b_row2_col9\" class=\"data row2 col9\" >2023-03-29T19:12:59.746096Z</td>\n",
       "    </tr>\n",
       "    <tr>\n",
       "      <td id=\"T_c3f6b_row3_col0\" class=\"data row3 col0\" >8</td>\n",
       "      <td id=\"T_c3f6b_row3_col1\" class=\"data row3 col1\" >8_goldenspike_train_data_fits</td>\n",
       "      <td id=\"T_c3f6b_row3_col2\" class=\"data row3 col2\" >Goldenspike train data fits</td>\n",
       "      <td id=\"T_c3f6b_row3_col3\" class=\"data row3 col3\" >Training Set</td>\n",
       "      <td id=\"T_c3f6b_row3_col4\" class=\"data row3 col4\" >None</td>\n",
       "      <td id=\"T_c3f6b_row3_col5\" class=\"data row3 col5\" >gschwend</td>\n",
       "      <td id=\"T_c3f6b_row3_col6\" class=\"data row3 col6\" >False</td>\n",
       "      <td id=\"T_c3f6b_row3_col7\" class=\"data row3 col7\" ></td>\n",
       "      <td id=\"T_c3f6b_row3_col8\" class=\"data row3 col8\" >A mock training set created using the example notebook goldenspike.ipynb available in RAIL's repository.  \r\n",
       "Test upload of files in fits format.</td>\n",
       "      <td id=\"T_c3f6b_row3_col9\" class=\"data row3 col9\" >2023-03-29T19:09:12.958883Z</td>\n",
       "    </tr>\n",
       "    <tr>\n",
       "      <td id=\"T_c3f6b_row4_col0\" class=\"data row4 col0\" >7</td>\n",
       "      <td id=\"T_c3f6b_row4_col1\" class=\"data row4 col1\" >7_goldenspike_train_data_parquet</td>\n",
       "      <td id=\"T_c3f6b_row4_col2\" class=\"data row4 col2\" >Goldenspike train data parquet</td>\n",
       "      <td id=\"T_c3f6b_row4_col3\" class=\"data row4 col3\" >Training Set</td>\n",
       "      <td id=\"T_c3f6b_row4_col4\" class=\"data row4 col4\" >None</td>\n",
       "      <td id=\"T_c3f6b_row4_col5\" class=\"data row4 col5\" >gschwend</td>\n",
       "      <td id=\"T_c3f6b_row4_col6\" class=\"data row4 col6\" >False</td>\n",
       "      <td id=\"T_c3f6b_row4_col7\" class=\"data row4 col7\" ></td>\n",
       "      <td id=\"T_c3f6b_row4_col8\" class=\"data row4 col8\" >A mock training set created using the example notebook goldenspike.ipynb available in RAIL's repository.  Test upload of files in parquet format.</td>\n",
       "      <td id=\"T_c3f6b_row4_col9\" class=\"data row4 col9\" >2023-03-29T19:06:58.473920Z</td>\n",
       "    </tr>\n",
       "    <tr>\n",
       "      <td id=\"T_c3f6b_row5_col0\" class=\"data row5 col0\" >6</td>\n",
       "      <td id=\"T_c3f6b_row5_col1\" class=\"data row5 col1\" >6_simple_training_set</td>\n",
       "      <td id=\"T_c3f6b_row5_col2\" class=\"data row5 col2\" >Simple training set</td>\n",
       "      <td id=\"T_c3f6b_row5_col3\" class=\"data row5 col3\" >Training Set</td>\n",
       "      <td id=\"T_c3f6b_row5_col4\" class=\"data row5 col4\" >LSST DP0</td>\n",
       "      <td id=\"T_c3f6b_row5_col5\" class=\"data row5 col5\" >gschwend</td>\n",
       "      <td id=\"T_c3f6b_row5_col6\" class=\"data row5 col6\" >False</td>\n",
       "      <td id=\"T_c3f6b_row5_col7\" class=\"data row5 col7\" ></td>\n",
       "      <td id=\"T_c3f6b_row5_col8\" class=\"data row5 col8\" >A simple example training set created based on the Jupyter notebook simple_pz_training_set.ipynb created by Melissa Graham, available in the repository delegate-contributions-dp02. The file contains coordinates, redshifts, magnitudes, and errors, as an illustration of a typical training set for photo-z algorithms.</td>\n",
       "      <td id=\"T_c3f6b_row5_col9\" class=\"data row5 col9\" >2023-03-23T19:46:48.807872Z</td>\n",
       "    </tr>\n",
       "    <tr>\n",
       "      <td id=\"T_c3f6b_row6_col0\" class=\"data row6 col0\" >1</td>\n",
       "      <td id=\"T_c3f6b_row6_col1\" class=\"data row6 col1\" >1_simple_true_z_catalog</td>\n",
       "      <td id=\"T_c3f6b_row6_col2\" class=\"data row6 col2\" >Simple true z catalog</td>\n",
       "      <td id=\"T_c3f6b_row6_col3\" class=\"data row6 col3\" >Spec-z Catalog</td>\n",
       "      <td id=\"T_c3f6b_row6_col4\" class=\"data row6 col4\" >None</td>\n",
       "      <td id=\"T_c3f6b_row6_col5\" class=\"data row6 col5\" >gschwend</td>\n",
       "      <td id=\"T_c3f6b_row6_col6\" class=\"data row6 col6\" >False</td>\n",
       "      <td id=\"T_c3f6b_row6_col7\" class=\"data row6 col7\" ></td>\n",
       "      <td id=\"T_c3f6b_row6_col8\" class=\"data row6 col8\" >A simple example of a spectroscopic (true) redshifts catalog created based on the Jupyter notebook simple_pz_training_set.ipynb created by Melissa Graham, available in the repository delegate-contributions-dp02. The file contains only coordinates and redshifts, as an illustration of a typical spec-z catalog.</td>\n",
       "      <td id=\"T_c3f6b_row6_col9\" class=\"data row6 col9\" >2023-03-23T13:19:32.050795Z</td>\n",
       "    </tr>\n",
       "  </tbody>\n",
       "</table>\n"
      ],
      "text/plain": [
       "<pandas.io.formats.style.Styler at 0x7f2fc5f3c6d0>"
      ]
     },
     "metadata": {},
     "output_type": "display_data"
    }
   ],
   "source": [
    "pz_server.display_products_list(filters={\"product_type__or\": [\"Spec-z Catalog\", \"training set\"]})"
   ]
  },
  {
   "attachments": {},
   "cell_type": "markdown",
   "metadata": {},
   "source": [
    "To fetch the results of a search and attribute to a variable, just change the preffix `display_` by `get_`, like this:  "
   ]
  },
  {
   "cell_type": "code",
   "execution_count": 10,
   "metadata": {
    "tags": []
   },
   "outputs": [
    {
     "data": {
      "text/plain": [
       "[{'id': 12,\n",
       "  'release': None,\n",
       "  'release_name': None,\n",
       "  'product_type': 3,\n",
       "  'product_type_name': 'Validation Results',\n",
       "  'uploaded_by': 'gschwend',\n",
       "  'is_owner': False,\n",
       "  'internal_name': '12_goldenspike_knn',\n",
       "  'display_name': 'Goldenspike KNN',\n",
       "  'official_product': False,\n",
       "  'pz_code': 'KNN',\n",
       "  'description': \"Results of photoz validation using KNN on a mock test set from the example notebook goldenspike.ipynb available in RAIL's repository.\",\n",
       "  'created_at': '2023-03-29T19:49:35.652295Z',\n",
       "  'status': 1},\n",
       " {'id': 11,\n",
       "  'release': None,\n",
       "  'release_name': None,\n",
       "  'product_type': 3,\n",
       "  'product_type_name': 'Validation Results',\n",
       "  'uploaded_by': 'gschwend',\n",
       "  'is_owner': False,\n",
       "  'internal_name': '11_goldenspike_flexzboost',\n",
       "  'display_name': 'Goldenspike FlexZBoost',\n",
       "  'official_product': False,\n",
       "  'pz_code': 'FlexZBoost',\n",
       "  'description': \"Results of photoz validation using FlexZBoost on a mock test set from the example notebook goldenspike.ipynb available in RAIL's repository.\",\n",
       "  'created_at': '2023-03-29T19:48:34.864629Z',\n",
       "  'status': 1},\n",
       " {'id': 10,\n",
       "  'release': 1,\n",
       "  'release_name': 'LSST DP0',\n",
       "  'product_type': 3,\n",
       "  'product_type_name': 'Validation Results',\n",
       "  'uploaded_by': 'gschwend',\n",
       "  'is_owner': False,\n",
       "  'internal_name': '10_goldenspike_bpz',\n",
       "  'display_name': 'Goldenspike BPZ',\n",
       "  'official_product': False,\n",
       "  'pz_code': 'BPZ',\n",
       "  'description': \"Results of photoz validation using BPZ on a mock test set from the example notebook goldenspike.ipynb available in RAIL's repository.\",\n",
       "  'created_at': '2023-03-29T19:42:04.424990Z',\n",
       "  'status': 1}]"
      ]
     },
     "execution_count": 10,
     "metadata": {},
     "output_type": "execute_result"
    }
   ],
   "source": [
    "search_results = pz_server.get_products_list(filters={\"product_type\": \"results\"}) # PZ Validation results\n",
    "search_results"
   ]
  },
  {
   "attachments": {},
   "cell_type": "markdown",
   "metadata": {},
   "source": [
    "<div style=\"text-align: right\" id=\"how-to-display-the-metadata-of-a-data-product\">\n",
    "\n",
    "[back to the top](#notebook-contents)\n",
    "\n",
    "</div>\n",
    "\n",
    "## How to display the metadata of a data product    "
   ]
  },
  {
   "attachments": {},
   "cell_type": "markdown",
   "metadata": {},
   "source": [
    "The metadata of a given data product is the information provided by the user on the upload form. This information is attached to the data product contents and is available for consulting on the PZ Server page or using this Python API (`pz-server-lib`).\n",
    "\n",
    "All data products stored on PZ Server are identified by a unique **id** number or an unique name, a _string_ called **internal_name**, which is created automatically at the moment of the upload by concatenating the product **id** to the name given by its owner (replacing blank spaces by \"_\", lowering cases, and removing special characters). "
   ]
  },
  {
   "attachments": {},
   "cell_type": "markdown",
   "metadata": {},
   "source": [
    "The `PzServer`'s method `get_product_metadata()` returns a dictionary with the attibutes stored in the PZ Server about a given data product identified by its **id** or **internal_name**. For use in a Jupyter notebook, the equivalent `display_product_metadata()` shows the results in a formated table."
   ]
  },
  {
   "cell_type": "code",
   "execution_count": 11,
   "metadata": {},
   "outputs": [
    {
     "data": {
      "text/html": [
       "<style type=\"text/css\">\n",
       "</style>\n",
       "<table id=\"T_dfa33\">\n",
       "  <thead>\n",
       "    <tr>\n",
       "      <th id=\"T_dfa33_level0_col0\" class=\"col_heading level0 col0\" >key</th>\n",
       "      <th id=\"T_dfa33_level0_col1\" class=\"col_heading level0 col1\" >value</th>\n",
       "    </tr>\n",
       "  </thead>\n",
       "  <tbody>\n",
       "    <tr>\n",
       "      <td id=\"T_dfa33_row0_col0\" class=\"data row0 col0\" >id</td>\n",
       "      <td id=\"T_dfa33_row0_col1\" class=\"data row0 col1\" >6</td>\n",
       "    </tr>\n",
       "    <tr>\n",
       "      <td id=\"T_dfa33_row1_col0\" class=\"data row1 col0\" >release</td>\n",
       "      <td id=\"T_dfa33_row1_col1\" class=\"data row1 col1\" >LSST DP0</td>\n",
       "    </tr>\n",
       "    <tr>\n",
       "      <td id=\"T_dfa33_row2_col0\" class=\"data row2 col0\" >product_type</td>\n",
       "      <td id=\"T_dfa33_row2_col1\" class=\"data row2 col1\" >Training Set</td>\n",
       "    </tr>\n",
       "    <tr>\n",
       "      <td id=\"T_dfa33_row3_col0\" class=\"data row3 col0\" >uploaded_by</td>\n",
       "      <td id=\"T_dfa33_row3_col1\" class=\"data row3 col1\" >gschwend</td>\n",
       "    </tr>\n",
       "    <tr>\n",
       "      <td id=\"T_dfa33_row4_col0\" class=\"data row4 col0\" >internal_name</td>\n",
       "      <td id=\"T_dfa33_row4_col1\" class=\"data row4 col1\" >6_simple_training_set</td>\n",
       "    </tr>\n",
       "    <tr>\n",
       "      <td id=\"T_dfa33_row5_col0\" class=\"data row5 col0\" >product_name</td>\n",
       "      <td id=\"T_dfa33_row5_col1\" class=\"data row5 col1\" >Simple training set</td>\n",
       "    </tr>\n",
       "    <tr>\n",
       "      <td id=\"T_dfa33_row6_col0\" class=\"data row6 col0\" >official_product</td>\n",
       "      <td id=\"T_dfa33_row6_col1\" class=\"data row6 col1\" >False</td>\n",
       "    </tr>\n",
       "    <tr>\n",
       "      <td id=\"T_dfa33_row7_col0\" class=\"data row7 col0\" >pz_code</td>\n",
       "      <td id=\"T_dfa33_row7_col1\" class=\"data row7 col1\" ></td>\n",
       "    </tr>\n",
       "    <tr>\n",
       "      <td id=\"T_dfa33_row8_col0\" class=\"data row8 col0\" >description</td>\n",
       "      <td id=\"T_dfa33_row8_col1\" class=\"data row8 col1\" >A simple example training set created based on the Jupyter notebook simple_pz_training_set.ipynb created by Melissa Graham, available in the repository delegate-contributions-dp02. The file contains coordinates, redshifts, magnitudes, and errors, as an illustration of a typical training set for photo-z algorithms.</td>\n",
       "    </tr>\n",
       "    <tr>\n",
       "      <td id=\"T_dfa33_row9_col0\" class=\"data row9 col0\" >created_at</td>\n",
       "      <td id=\"T_dfa33_row9_col1\" class=\"data row9 col1\" >2023-03-23T19:46:48.807872Z</td>\n",
       "    </tr>\n",
       "    <tr>\n",
       "      <td id=\"T_dfa33_row10_col0\" class=\"data row10 col0\" >main_file</td>\n",
       "      <td id=\"T_dfa33_row10_col1\" class=\"data row10 col1\" >simple_pz_training_set.csv</td>\n",
       "    </tr>\n",
       "  </tbody>\n",
       "</table>\n"
      ],
      "text/plain": [
       "<pandas.io.formats.style.Styler at 0x7f2f691f9750>"
      ]
     },
     "metadata": {},
     "output_type": "display_data"
    }
   ],
   "source": [
    "# pz_server.display_product_metadata(<id (int or str) or internal_name (str)>) \n",
    "# pz_server.display_product_metadata(6) \n",
    "# pz_server.display_product_metadata(\"6\") \n",
    "pz_server.display_product_metadata(\"6_simple_training_set\") "
   ]
  },
  {
   "attachments": {},
   "cell_type": "markdown",
   "metadata": {},
   "source": [
    "<div style=\"text-align: right\" id=\"how-to-download-data-products-as-zip-files\">\n",
    "\n",
    "[back to the top](#notebook-contents)\n",
    "\n",
    "</div>\n",
    "\n",
    "## How to download data products as .zip files   "
   ]
  },
  {
   "attachments": {},
   "cell_type": "markdown",
   "metadata": {},
   "source": [
    "To download any data product stored in the PZ Server, use the `PzServer`'s method `download_product` informing the product's **internal_name** and the path to where it will be saved (the default is the current folder). This method downloads a compressed .zip file which contais all the files uploaded by the user, including data, anciliary files and description files. The time spent to download a data product depends on the internet connections between the user and the host. Let's try it with a small data product. "
   ]
  },
  {
   "cell_type": "code",
   "execution_count": 12,
   "metadata": {},
   "outputs": [
    {
     "name": "stdout",
     "output_type": "stream",
     "text": [
      "Connecting to PZ Server...\n",
      "File saved as: ./14_gama_specz_subsample_f15c0.zip\n",
      "Done!\n"
     ]
    }
   ],
   "source": [
    "pz_server.download_product(14, save_in=\".\")"
   ]
  },
  {
   "attachments": {},
   "cell_type": "markdown",
   "metadata": {},
   "source": [
    "<div style=\"text-align: right\" id=\"how-to-share-data-products-with-other-rsp-users\">\n",
    "\n",
    "[back to the top](#notebook-contents)\n",
    "\n",
    "</div>\n",
    "\n",
    "## How to share data products with other RSP users\n",
    "\n",
    "All data products uploaded to the PZ Server are imediately available and visible to all PZ Server users (people with RSP credentials) through the PZ Server website or via the API. Besides informing the product **id** or **internal_name** for programatic access, another way to share a data product is providing the product's URL, which leads to the product's download page. The URL is composed by the PZ Server website address + **/products/** + **internal_name**:\n",
    "\n",
    "https://pz-server.linea.org.br/product/ + **internal_name** \n",
    "\n",
    "or, if still in the development phase, \n",
    "\n",
    "https://pz-server-dev.linea.org.br/product/ + **internal_name**\n",
    "\n",
    "\n",
    "For example: \n",
    "\n",
    "https://pz-server-dev.linea.org.br/product/6_simple_training_set\n",
    "\n",
    "<font color=red> WARNING:</font> The URL works only with the internal name, **not** with the **id** number. \n"
   ]
  },
  {
   "attachments": {},
   "cell_type": "markdown",
   "metadata": {},
   "source": [
    "<div style=\"text-align: right\" id=\"how-to-retrieve-contents-of-data-products-work-on-memory\">\n",
    "\n",
    "[back to the top](#notebook-contents)\n",
    "\n",
    "</div>\n",
    "\n",
    "## How to retrieve contents of data products (work on memory)"
   ]
  },
  {
   "attachments": {},
   "cell_type": "markdown",
   "metadata": {},
   "source": [
    "Another feature of the PZ Server API is to let users retrieve the contents of a given data product to work on memory (by atributing the results of the method `get_product()` to a variable in the code). This feature is available only for tabular data (product types: **Spec-z Catalog** and **Training Set**). \n",
    "\n",
    "By default, the method `get_product` returns an object from a particular class, depending on the product's type. The classes `SpeczCatalog` and `TrainingSet` are simple extensions of `pandas.DataFrame` (via class composition) with a couple of additional attributes and methods, such as the attribute `metadata`, and the method `display_metadata()`. Let's see an example: "
   ]
  },
  {
   "cell_type": "code",
   "execution_count": 13,
   "metadata": {},
   "outputs": [
    {
     "name": "stdout",
     "output_type": "stream",
     "text": [
      "Connecting to PZ Server...\n",
      "Done!\n"
     ]
    },
    {
     "data": {
      "text/plain": [
       "<pzserver.catalog.TrainingSet at 0x7f2f6912fc10>"
      ]
     },
     "execution_count": 13,
     "metadata": {},
     "output_type": "execute_result"
    }
   ],
   "source": [
    "catalog = pz_server.get_product(8)\n",
    "catalog"
   ]
  },
  {
   "cell_type": "code",
   "execution_count": 14,
   "metadata": {},
   "outputs": [
    {
     "data": {
      "text/html": [
       "<style type=\"text/css\">\n",
       "</style>\n",
       "<table id=\"T_8fdb2\">\n",
       "  <thead>\n",
       "    <tr>\n",
       "      <th id=\"T_8fdb2_level0_col0\" class=\"col_heading level0 col0\" >key</th>\n",
       "      <th id=\"T_8fdb2_level0_col1\" class=\"col_heading level0 col1\" >value</th>\n",
       "    </tr>\n",
       "  </thead>\n",
       "  <tbody>\n",
       "    <tr>\n",
       "      <td id=\"T_8fdb2_row0_col0\" class=\"data row0 col0\" >id</td>\n",
       "      <td id=\"T_8fdb2_row0_col1\" class=\"data row0 col1\" >8</td>\n",
       "    </tr>\n",
       "    <tr>\n",
       "      <td id=\"T_8fdb2_row1_col0\" class=\"data row1 col0\" >release</td>\n",
       "      <td id=\"T_8fdb2_row1_col1\" class=\"data row1 col1\" >None</td>\n",
       "    </tr>\n",
       "    <tr>\n",
       "      <td id=\"T_8fdb2_row2_col0\" class=\"data row2 col0\" >product_type</td>\n",
       "      <td id=\"T_8fdb2_row2_col1\" class=\"data row2 col1\" >Training Set</td>\n",
       "    </tr>\n",
       "    <tr>\n",
       "      <td id=\"T_8fdb2_row3_col0\" class=\"data row3 col0\" >uploaded_by</td>\n",
       "      <td id=\"T_8fdb2_row3_col1\" class=\"data row3 col1\" >gschwend</td>\n",
       "    </tr>\n",
       "    <tr>\n",
       "      <td id=\"T_8fdb2_row4_col0\" class=\"data row4 col0\" >internal_name</td>\n",
       "      <td id=\"T_8fdb2_row4_col1\" class=\"data row4 col1\" >8_goldenspike_train_data_fits</td>\n",
       "    </tr>\n",
       "    <tr>\n",
       "      <td id=\"T_8fdb2_row5_col0\" class=\"data row5 col0\" >product_name</td>\n",
       "      <td id=\"T_8fdb2_row5_col1\" class=\"data row5 col1\" >Goldenspike train data fits</td>\n",
       "    </tr>\n",
       "    <tr>\n",
       "      <td id=\"T_8fdb2_row6_col0\" class=\"data row6 col0\" >official_product</td>\n",
       "      <td id=\"T_8fdb2_row6_col1\" class=\"data row6 col1\" >False</td>\n",
       "    </tr>\n",
       "    <tr>\n",
       "      <td id=\"T_8fdb2_row7_col0\" class=\"data row7 col0\" >pz_code</td>\n",
       "      <td id=\"T_8fdb2_row7_col1\" class=\"data row7 col1\" ></td>\n",
       "    </tr>\n",
       "    <tr>\n",
       "      <td id=\"T_8fdb2_row8_col0\" class=\"data row8 col0\" >description</td>\n",
       "      <td id=\"T_8fdb2_row8_col1\" class=\"data row8 col1\" >A mock training set created using the example notebook goldenspike.ipynb available in RAIL's repository.  \r\n",
       "Test upload of files in fits format.</td>\n",
       "    </tr>\n",
       "    <tr>\n",
       "      <td id=\"T_8fdb2_row9_col0\" class=\"data row9 col0\" >created_at</td>\n",
       "      <td id=\"T_8fdb2_row9_col1\" class=\"data row9 col1\" >2023-03-29T19:09:12.958883Z</td>\n",
       "    </tr>\n",
       "    <tr>\n",
       "      <td id=\"T_8fdb2_row10_col0\" class=\"data row10 col0\" >main_file</td>\n",
       "      <td id=\"T_8fdb2_row10_col1\" class=\"data row10 col1\" >goldenspike_train_data.fits</td>\n",
       "    </tr>\n",
       "  </tbody>\n",
       "</table>\n"
      ],
      "text/plain": [
       "<pandas.io.formats.style.Styler at 0x7f2fc47aae90>"
      ]
     },
     "metadata": {},
     "output_type": "display_data"
    }
   ],
   "source": [
    "catalog.display_metadata()"
   ]
  },
  {
   "attachments": {},
   "cell_type": "markdown",
   "metadata": {},
   "source": [
    "The tabular data is alocated in the attribute `data`, which is a `pandas.DataFrame`. "
   ]
  },
  {
   "cell_type": "code",
   "execution_count": 15,
   "metadata": {},
   "outputs": [
    {
     "data": {
      "text/html": [
       "<div>\n",
       "<style scoped>\n",
       "    .dataframe tbody tr th:only-of-type {\n",
       "        vertical-align: middle;\n",
       "    }\n",
       "\n",
       "    .dataframe tbody tr th {\n",
       "        vertical-align: top;\n",
       "    }\n",
       "\n",
       "    .dataframe thead th {\n",
       "        text-align: right;\n",
       "    }\n",
       "</style>\n",
       "<table border=\"1\" class=\"dataframe\">\n",
       "  <thead>\n",
       "    <tr style=\"text-align: right;\">\n",
       "      <th></th>\n",
       "      <th>redshift</th>\n",
       "      <th>mag_u_lsst</th>\n",
       "      <th>mag_err_u_lsst</th>\n",
       "      <th>mag_g_lsst</th>\n",
       "      <th>mag_err_g_lsst</th>\n",
       "      <th>mag_r_lsst</th>\n",
       "      <th>mag_err_r_lsst</th>\n",
       "      <th>mag_i_lsst</th>\n",
       "      <th>mag_err_i_lsst</th>\n",
       "      <th>mag_z_lsst</th>\n",
       "      <th>mag_err_z_lsst</th>\n",
       "      <th>mag_y_lsst</th>\n",
       "      <th>mag_err_y_lsst</th>\n",
       "    </tr>\n",
       "  </thead>\n",
       "  <tbody>\n",
       "    <tr>\n",
       "      <th>0</th>\n",
       "      <td>0.769521</td>\n",
       "      <td>26.496852</td>\n",
       "      <td>0.288986</td>\n",
       "      <td>25.863170</td>\n",
       "      <td>0.056997</td>\n",
       "      <td>24.729555</td>\n",
       "      <td>0.020702</td>\n",
       "      <td>23.610683</td>\n",
       "      <td>0.012011</td>\n",
       "      <td>23.143518</td>\n",
       "      <td>0.013714</td>\n",
       "      <td>22.915156</td>\n",
       "      <td>0.024561</td>\n",
       "    </tr>\n",
       "    <tr>\n",
       "      <th>1</th>\n",
       "      <td>1.088857</td>\n",
       "      <td>26.258727</td>\n",
       "      <td>0.237964</td>\n",
       "      <td>25.509524</td>\n",
       "      <td>0.041668</td>\n",
       "      <td>24.469344</td>\n",
       "      <td>0.016648</td>\n",
       "      <td>23.532860</td>\n",
       "      <td>0.011344</td>\n",
       "      <td>22.546680</td>\n",
       "      <td>0.008992</td>\n",
       "      <td>22.070255</td>\n",
       "      <td>0.012282</td>\n",
       "    </tr>\n",
       "    <tr>\n",
       "      <th>2</th>\n",
       "      <td>1.333098</td>\n",
       "      <td>25.373855</td>\n",
       "      <td>0.112257</td>\n",
       "      <td>24.943293</td>\n",
       "      <td>0.025359</td>\n",
       "      <td>24.524998</td>\n",
       "      <td>0.017431</td>\n",
       "      <td>24.013649</td>\n",
       "      <td>0.016486</td>\n",
       "      <td>23.733274</td>\n",
       "      <td>0.022315</td>\n",
       "      <td>23.102123</td>\n",
       "      <td>0.028906</td>\n",
       "    </tr>\n",
       "    <tr>\n",
       "      <th>...</th>\n",
       "      <td>...</td>\n",
       "      <td>...</td>\n",
       "      <td>...</td>\n",
       "      <td>...</td>\n",
       "      <td>...</td>\n",
       "      <td>...</td>\n",
       "      <td>...</td>\n",
       "      <td>...</td>\n",
       "      <td>...</td>\n",
       "      <td>...</td>\n",
       "      <td>...</td>\n",
       "      <td>...</td>\n",
       "      <td>...</td>\n",
       "    </tr>\n",
       "    <tr>\n",
       "      <th>59</th>\n",
       "      <td>0.986374</td>\n",
       "      <td>26.050653</td>\n",
       "      <td>0.200164</td>\n",
       "      <td>25.641624</td>\n",
       "      <td>0.046837</td>\n",
       "      <td>25.161078</td>\n",
       "      <td>0.030090</td>\n",
       "      <td>24.460152</td>\n",
       "      <td>0.024047</td>\n",
       "      <td>23.977239</td>\n",
       "      <td>0.027567</td>\n",
       "      <td>23.831974</td>\n",
       "      <td>0.055121</td>\n",
       "    </tr>\n",
       "    <tr>\n",
       "      <th>60</th>\n",
       "      <td>0.474281</td>\n",
       "      <td>27.048056</td>\n",
       "      <td>0.444683</td>\n",
       "      <td>26.428211</td>\n",
       "      <td>0.093854</td>\n",
       "      <td>24.839984</td>\n",
       "      <td>0.022755</td>\n",
       "      <td>24.209226</td>\n",
       "      <td>0.019403</td>\n",
       "      <td>23.855082</td>\n",
       "      <td>0.024787</td>\n",
       "      <td>23.507456</td>\n",
       "      <td>0.041329</td>\n",
       "    </tr>\n",
       "    <tr>\n",
       "      <th>61</th>\n",
       "      <td>0.561923</td>\n",
       "      <td>24.680480</td>\n",
       "      <td>0.061182</td>\n",
       "      <td>23.958609</td>\n",
       "      <td>0.011430</td>\n",
       "      <td>22.900135</td>\n",
       "      <td>0.006346</td>\n",
       "      <td>22.143581</td>\n",
       "      <td>0.005820</td>\n",
       "      <td>21.867563</td>\n",
       "      <td>0.006465</td>\n",
       "      <td>21.612692</td>\n",
       "      <td>0.008967</td>\n",
       "    </tr>\n",
       "  </tbody>\n",
       "</table>\n",
       "<p>62 rows × 13 columns</p>\n",
       "</div>"
      ],
      "text/plain": [
       "    redshift  mag_u_lsst  mag_err_u_lsst  mag_g_lsst  mag_err_g_lsst   \n",
       "0   0.769521   26.496852        0.288986   25.863170        0.056997  \\\n",
       "1   1.088857   26.258727        0.237964   25.509524        0.041668   \n",
       "2   1.333098   25.373855        0.112257   24.943293        0.025359   \n",
       "..       ...         ...             ...         ...             ...   \n",
       "59  0.986374   26.050653        0.200164   25.641624        0.046837   \n",
       "60  0.474281   27.048056        0.444683   26.428211        0.093854   \n",
       "61  0.561923   24.680480        0.061182   23.958609        0.011430   \n",
       "\n",
       "    mag_r_lsst  mag_err_r_lsst  mag_i_lsst  mag_err_i_lsst  mag_z_lsst   \n",
       "0    24.729555        0.020702   23.610683        0.012011   23.143518  \\\n",
       "1    24.469344        0.016648   23.532860        0.011344   22.546680   \n",
       "2    24.524998        0.017431   24.013649        0.016486   23.733274   \n",
       "..         ...             ...         ...             ...         ...   \n",
       "59   25.161078        0.030090   24.460152        0.024047   23.977239   \n",
       "60   24.839984        0.022755   24.209226        0.019403   23.855082   \n",
       "61   22.900135        0.006346   22.143581        0.005820   21.867563   \n",
       "\n",
       "    mag_err_z_lsst  mag_y_lsst  mag_err_y_lsst  \n",
       "0         0.013714   22.915156        0.024561  \n",
       "1         0.008992   22.070255        0.012282  \n",
       "2         0.022315   23.102123        0.028906  \n",
       "..             ...         ...             ...  \n",
       "59        0.027567   23.831974        0.055121  \n",
       "60        0.024787   23.507456        0.041329  \n",
       "61        0.006465   21.612692        0.008967  \n",
       "\n",
       "[62 rows x 13 columns]"
      ]
     },
     "execution_count": 15,
     "metadata": {},
     "output_type": "execute_result"
    }
   ],
   "source": [
    "catalog.data"
   ]
  },
  {
   "cell_type": "code",
   "execution_count": 16,
   "metadata": {},
   "outputs": [
    {
     "data": {
      "text/plain": [
       "pandas.core.frame.DataFrame"
      ]
     },
     "execution_count": 16,
     "metadata": {},
     "output_type": "execute_result"
    }
   ],
   "source": [
    "type(catalog.data)"
   ]
  },
  {
   "attachments": {},
   "cell_type": "markdown",
   "metadata": {},
   "source": [
    "It preserves the useful methods from `pandas.DataFrame`, such as:  "
   ]
  },
  {
   "cell_type": "code",
   "execution_count": 17,
   "metadata": {},
   "outputs": [
    {
     "name": "stdout",
     "output_type": "stream",
     "text": [
      "<class 'pandas.core.frame.DataFrame'>\n",
      "RangeIndex: 62 entries, 0 to 61\n",
      "Data columns (total 13 columns):\n",
      " #   Column          Non-Null Count  Dtype\n",
      "---  ------          --------------  -----\n",
      " 0   redshift        62 non-null     >f8  \n",
      " 1   mag_u_lsst      61 non-null     >f8  \n",
      " 2   mag_err_u_lsst  61 non-null     >f8  \n",
      " 3   mag_g_lsst      62 non-null     >f8  \n",
      " 4   mag_err_g_lsst  62 non-null     >f8  \n",
      " 5   mag_r_lsst      62 non-null     >f8  \n",
      " 6   mag_err_r_lsst  62 non-null     >f8  \n",
      " 7   mag_i_lsst      62 non-null     >f8  \n",
      " 8   mag_err_i_lsst  62 non-null     >f8  \n",
      " 9   mag_z_lsst      62 non-null     >f8  \n",
      " 10  mag_err_z_lsst  62 non-null     >f8  \n",
      " 11  mag_y_lsst      61 non-null     >f8  \n",
      " 12  mag_err_y_lsst  61 non-null     >f8  \n",
      "dtypes: float64(13)\n",
      "memory usage: 6.4 KB\n"
     ]
    }
   ],
   "source": [
    "catalog.data.info()"
   ]
  },
  {
   "cell_type": "code",
   "execution_count": 18,
   "metadata": {},
   "outputs": [
    {
     "data": {
      "text/html": [
       "<div>\n",
       "<style scoped>\n",
       "    .dataframe tbody tr th:only-of-type {\n",
       "        vertical-align: middle;\n",
       "    }\n",
       "\n",
       "    .dataframe tbody tr th {\n",
       "        vertical-align: top;\n",
       "    }\n",
       "\n",
       "    .dataframe thead th {\n",
       "        text-align: right;\n",
       "    }\n",
       "</style>\n",
       "<table border=\"1\" class=\"dataframe\">\n",
       "  <thead>\n",
       "    <tr style=\"text-align: right;\">\n",
       "      <th></th>\n",
       "      <th>redshift</th>\n",
       "      <th>mag_u_lsst</th>\n",
       "      <th>mag_err_u_lsst</th>\n",
       "      <th>mag_g_lsst</th>\n",
       "      <th>mag_err_g_lsst</th>\n",
       "      <th>mag_r_lsst</th>\n",
       "      <th>mag_err_r_lsst</th>\n",
       "      <th>mag_i_lsst</th>\n",
       "      <th>mag_err_i_lsst</th>\n",
       "      <th>mag_z_lsst</th>\n",
       "      <th>mag_err_z_lsst</th>\n",
       "      <th>mag_y_lsst</th>\n",
       "      <th>mag_err_y_lsst</th>\n",
       "    </tr>\n",
       "  </thead>\n",
       "  <tbody>\n",
       "    <tr>\n",
       "      <th>count</th>\n",
       "      <td>62.000000</td>\n",
       "      <td>61.000000</td>\n",
       "      <td>61.000000</td>\n",
       "      <td>62.000000</td>\n",
       "      <td>62.000000</td>\n",
       "      <td>62.000000</td>\n",
       "      <td>62.000000</td>\n",
       "      <td>62.000000</td>\n",
       "      <td>62.000000</td>\n",
       "      <td>62.000000</td>\n",
       "      <td>62.000000</td>\n",
       "      <td>61.000000</td>\n",
       "      <td>61.000000</td>\n",
       "    </tr>\n",
       "    <tr>\n",
       "      <th>mean</th>\n",
       "      <td>0.780298</td>\n",
       "      <td>25.446008</td>\n",
       "      <td>0.188050</td>\n",
       "      <td>24.820000</td>\n",
       "      <td>0.038182</td>\n",
       "      <td>24.003970</td>\n",
       "      <td>0.018770</td>\n",
       "      <td>23.384804</td>\n",
       "      <td>0.016165</td>\n",
       "      <td>23.074481</td>\n",
       "      <td>0.021478</td>\n",
       "      <td>22.932354</td>\n",
       "      <td>0.054682</td>\n",
       "    </tr>\n",
       "    <tr>\n",
       "      <th>std</th>\n",
       "      <td>0.355365</td>\n",
       "      <td>1.269277</td>\n",
       "      <td>0.193747</td>\n",
       "      <td>1.314112</td>\n",
       "      <td>0.036398</td>\n",
       "      <td>1.387358</td>\n",
       "      <td>0.013750</td>\n",
       "      <td>1.381587</td>\n",
       "      <td>0.010069</td>\n",
       "      <td>1.400673</td>\n",
       "      <td>0.014961</td>\n",
       "      <td>1.540284</td>\n",
       "      <td>0.115875</td>\n",
       "    </tr>\n",
       "    <tr>\n",
       "      <th>...</th>\n",
       "      <td>...</td>\n",
       "      <td>...</td>\n",
       "      <td>...</td>\n",
       "      <td>...</td>\n",
       "      <td>...</td>\n",
       "      <td>...</td>\n",
       "      <td>...</td>\n",
       "      <td>...</td>\n",
       "      <td>...</td>\n",
       "      <td>...</td>\n",
       "      <td>...</td>\n",
       "      <td>...</td>\n",
       "      <td>...</td>\n",
       "    </tr>\n",
       "    <tr>\n",
       "      <th>50%</th>\n",
       "      <td>0.764600</td>\n",
       "      <td>25.577029</td>\n",
       "      <td>0.133815</td>\n",
       "      <td>25.069970</td>\n",
       "      <td>0.028309</td>\n",
       "      <td>24.470215</td>\n",
       "      <td>0.016660</td>\n",
       "      <td>23.748506</td>\n",
       "      <td>0.013390</td>\n",
       "      <td>23.514185</td>\n",
       "      <td>0.018540</td>\n",
       "      <td>23.293384</td>\n",
       "      <td>0.034199</td>\n",
       "    </tr>\n",
       "    <tr>\n",
       "      <th>75%</th>\n",
       "      <td>0.948494</td>\n",
       "      <td>26.263284</td>\n",
       "      <td>0.238859</td>\n",
       "      <td>25.705486</td>\n",
       "      <td>0.049576</td>\n",
       "      <td>24.985225</td>\n",
       "      <td>0.025802</td>\n",
       "      <td>24.488654</td>\n",
       "      <td>0.024650</td>\n",
       "      <td>24.165944</td>\n",
       "      <td>0.032557</td>\n",
       "      <td>23.993010</td>\n",
       "      <td>0.063585</td>\n",
       "    </tr>\n",
       "    <tr>\n",
       "      <th>max</th>\n",
       "      <td>1.755764</td>\n",
       "      <td>28.482391</td>\n",
       "      <td>1.154073</td>\n",
       "      <td>27.296152</td>\n",
       "      <td>0.198195</td>\n",
       "      <td>26.036958</td>\n",
       "      <td>0.065360</td>\n",
       "      <td>24.949645</td>\n",
       "      <td>0.036932</td>\n",
       "      <td>24.693132</td>\n",
       "      <td>0.051883</td>\n",
       "      <td>27.342151</td>\n",
       "      <td>0.909230</td>\n",
       "    </tr>\n",
       "  </tbody>\n",
       "</table>\n",
       "<p>8 rows × 13 columns</p>\n",
       "</div>"
      ],
      "text/plain": [
       "        redshift  mag_u_lsst  mag_err_u_lsst  mag_g_lsst  mag_err_g_lsst   \n",
       "count  62.000000   61.000000       61.000000   62.000000       62.000000  \\\n",
       "mean    0.780298   25.446008        0.188050   24.820000        0.038182   \n",
       "std     0.355365    1.269277        0.193747    1.314112        0.036398   \n",
       "...          ...         ...             ...         ...             ...   \n",
       "50%     0.764600   25.577029        0.133815   25.069970        0.028309   \n",
       "75%     0.948494   26.263284        0.238859   25.705486        0.049576   \n",
       "max     1.755764   28.482391        1.154073   27.296152        0.198195   \n",
       "\n",
       "       mag_r_lsst  mag_err_r_lsst  mag_i_lsst  mag_err_i_lsst  mag_z_lsst   \n",
       "count   62.000000       62.000000   62.000000       62.000000   62.000000  \\\n",
       "mean    24.003970        0.018770   23.384804        0.016165   23.074481   \n",
       "std      1.387358        0.013750    1.381587        0.010069    1.400673   \n",
       "...           ...             ...         ...             ...         ...   \n",
       "50%     24.470215        0.016660   23.748506        0.013390   23.514185   \n",
       "75%     24.985225        0.025802   24.488654        0.024650   24.165944   \n",
       "max     26.036958        0.065360   24.949645        0.036932   24.693132   \n",
       "\n",
       "       mag_err_z_lsst  mag_y_lsst  mag_err_y_lsst  \n",
       "count       62.000000   61.000000       61.000000  \n",
       "mean         0.021478   22.932354        0.054682  \n",
       "std          0.014961    1.540284        0.115875  \n",
       "...               ...         ...             ...  \n",
       "50%          0.018540   23.293384        0.034199  \n",
       "75%          0.032557   23.993010        0.063585  \n",
       "max          0.051883   27.342151        0.909230  \n",
       "\n",
       "[8 rows x 13 columns]"
      ]
     },
     "execution_count": 18,
     "metadata": {},
     "output_type": "execute_result"
    }
   ],
   "source": [
    "catalog.data.describe()"
   ]
  },
  {
   "attachments": {},
   "cell_type": "markdown",
   "metadata": {},
   "source": [
    "In the prod-types you will see more details about these specific classes. For those who prefer working with `astropy.Table` or pure `pandas.DataFrame`, the method `get_product()` gives the flexibility to choose the output format (`fmt=\"pandas\"` or `fmt=\"astropy\"`).     "
   ]
  },
  {
   "cell_type": "code",
   "execution_count": 19,
   "metadata": {},
   "outputs": [
    {
     "name": "stdout",
     "output_type": "stream",
     "text": [
      "Connecting to PZ Server...\n",
      "<class 'pandas.core.frame.DataFrame'>\n"
     ]
    },
    {
     "data": {
      "text/html": [
       "<div>\n",
       "<style scoped>\n",
       "    .dataframe tbody tr th:only-of-type {\n",
       "        vertical-align: middle;\n",
       "    }\n",
       "\n",
       "    .dataframe tbody tr th {\n",
       "        vertical-align: top;\n",
       "    }\n",
       "\n",
       "    .dataframe thead th {\n",
       "        text-align: right;\n",
       "    }\n",
       "</style>\n",
       "<table border=\"1\" class=\"dataframe\">\n",
       "  <thead>\n",
       "    <tr style=\"text-align: right;\">\n",
       "      <th></th>\n",
       "      <th>redshift</th>\n",
       "      <th>mag_u_lsst</th>\n",
       "      <th>mag_err_u_lsst</th>\n",
       "      <th>mag_g_lsst</th>\n",
       "      <th>mag_err_g_lsst</th>\n",
       "      <th>mag_r_lsst</th>\n",
       "      <th>mag_err_r_lsst</th>\n",
       "      <th>mag_i_lsst</th>\n",
       "      <th>mag_err_i_lsst</th>\n",
       "      <th>mag_z_lsst</th>\n",
       "      <th>mag_err_z_lsst</th>\n",
       "      <th>mag_y_lsst</th>\n",
       "      <th>mag_err_y_lsst</th>\n",
       "    </tr>\n",
       "  </thead>\n",
       "  <tbody>\n",
       "    <tr>\n",
       "      <th>0</th>\n",
       "      <td>0.769521</td>\n",
       "      <td>26.496852</td>\n",
       "      <td>0.288986</td>\n",
       "      <td>25.863170</td>\n",
       "      <td>0.056997</td>\n",
       "      <td>24.729555</td>\n",
       "      <td>0.020702</td>\n",
       "      <td>23.610683</td>\n",
       "      <td>0.012011</td>\n",
       "      <td>23.143518</td>\n",
       "      <td>0.013714</td>\n",
       "      <td>22.915156</td>\n",
       "      <td>0.024561</td>\n",
       "    </tr>\n",
       "    <tr>\n",
       "      <th>1</th>\n",
       "      <td>1.088857</td>\n",
       "      <td>26.258727</td>\n",
       "      <td>0.237964</td>\n",
       "      <td>25.509524</td>\n",
       "      <td>0.041668</td>\n",
       "      <td>24.469344</td>\n",
       "      <td>0.016648</td>\n",
       "      <td>23.532860</td>\n",
       "      <td>0.011344</td>\n",
       "      <td>22.546680</td>\n",
       "      <td>0.008992</td>\n",
       "      <td>22.070255</td>\n",
       "      <td>0.012282</td>\n",
       "    </tr>\n",
       "    <tr>\n",
       "      <th>2</th>\n",
       "      <td>1.333098</td>\n",
       "      <td>25.373855</td>\n",
       "      <td>0.112257</td>\n",
       "      <td>24.943293</td>\n",
       "      <td>0.025359</td>\n",
       "      <td>24.524998</td>\n",
       "      <td>0.017431</td>\n",
       "      <td>24.013649</td>\n",
       "      <td>0.016486</td>\n",
       "      <td>23.733274</td>\n",
       "      <td>0.022315</td>\n",
       "      <td>23.102123</td>\n",
       "      <td>0.028906</td>\n",
       "    </tr>\n",
       "    <tr>\n",
       "      <th>...</th>\n",
       "      <td>...</td>\n",
       "      <td>...</td>\n",
       "      <td>...</td>\n",
       "      <td>...</td>\n",
       "      <td>...</td>\n",
       "      <td>...</td>\n",
       "      <td>...</td>\n",
       "      <td>...</td>\n",
       "      <td>...</td>\n",
       "      <td>...</td>\n",
       "      <td>...</td>\n",
       "      <td>...</td>\n",
       "      <td>...</td>\n",
       "    </tr>\n",
       "    <tr>\n",
       "      <th>59</th>\n",
       "      <td>0.986374</td>\n",
       "      <td>26.050653</td>\n",
       "      <td>0.200164</td>\n",
       "      <td>25.641624</td>\n",
       "      <td>0.046837</td>\n",
       "      <td>25.161078</td>\n",
       "      <td>0.030090</td>\n",
       "      <td>24.460152</td>\n",
       "      <td>0.024047</td>\n",
       "      <td>23.977239</td>\n",
       "      <td>0.027567</td>\n",
       "      <td>23.831974</td>\n",
       "      <td>0.055121</td>\n",
       "    </tr>\n",
       "    <tr>\n",
       "      <th>60</th>\n",
       "      <td>0.474281</td>\n",
       "      <td>27.048056</td>\n",
       "      <td>0.444683</td>\n",
       "      <td>26.428211</td>\n",
       "      <td>0.093854</td>\n",
       "      <td>24.839984</td>\n",
       "      <td>0.022755</td>\n",
       "      <td>24.209226</td>\n",
       "      <td>0.019403</td>\n",
       "      <td>23.855082</td>\n",
       "      <td>0.024787</td>\n",
       "      <td>23.507456</td>\n",
       "      <td>0.041329</td>\n",
       "    </tr>\n",
       "    <tr>\n",
       "      <th>61</th>\n",
       "      <td>0.561923</td>\n",
       "      <td>24.680480</td>\n",
       "      <td>0.061182</td>\n",
       "      <td>23.958609</td>\n",
       "      <td>0.011430</td>\n",
       "      <td>22.900135</td>\n",
       "      <td>0.006346</td>\n",
       "      <td>22.143581</td>\n",
       "      <td>0.005820</td>\n",
       "      <td>21.867563</td>\n",
       "      <td>0.006465</td>\n",
       "      <td>21.612692</td>\n",
       "      <td>0.008967</td>\n",
       "    </tr>\n",
       "  </tbody>\n",
       "</table>\n",
       "<p>62 rows × 13 columns</p>\n",
       "</div>"
      ],
      "text/plain": [
       "    redshift  mag_u_lsst  mag_err_u_lsst  mag_g_lsst  mag_err_g_lsst   \n",
       "0   0.769521   26.496852        0.288986   25.863170        0.056997  \\\n",
       "1   1.088857   26.258727        0.237964   25.509524        0.041668   \n",
       "2   1.333098   25.373855        0.112257   24.943293        0.025359   \n",
       "..       ...         ...             ...         ...             ...   \n",
       "59  0.986374   26.050653        0.200164   25.641624        0.046837   \n",
       "60  0.474281   27.048056        0.444683   26.428211        0.093854   \n",
       "61  0.561923   24.680480        0.061182   23.958609        0.011430   \n",
       "\n",
       "    mag_r_lsst  mag_err_r_lsst  mag_i_lsst  mag_err_i_lsst  mag_z_lsst   \n",
       "0    24.729555        0.020702   23.610683        0.012011   23.143518  \\\n",
       "1    24.469344        0.016648   23.532860        0.011344   22.546680   \n",
       "2    24.524998        0.017431   24.013649        0.016486   23.733274   \n",
       "..         ...             ...         ...             ...         ...   \n",
       "59   25.161078        0.030090   24.460152        0.024047   23.977239   \n",
       "60   24.839984        0.022755   24.209226        0.019403   23.855082   \n",
       "61   22.900135        0.006346   22.143581        0.005820   21.867563   \n",
       "\n",
       "    mag_err_z_lsst  mag_y_lsst  mag_err_y_lsst  \n",
       "0         0.013714   22.915156        0.024561  \n",
       "1         0.008992   22.070255        0.012282  \n",
       "2         0.022315   23.102123        0.028906  \n",
       "..             ...         ...             ...  \n",
       "59        0.027567   23.831974        0.055121  \n",
       "60        0.024787   23.507456        0.041329  \n",
       "61        0.006465   21.612692        0.008967  \n",
       "\n",
       "[62 rows x 13 columns]"
      ]
     },
     "execution_count": 19,
     "metadata": {},
     "output_type": "execute_result"
    }
   ],
   "source": [
    "dataframe = pz_server.get_product(8, fmt=\"pandas\")\n",
    "print(type(dataframe))\n",
    "dataframe"
   ]
  },
  {
   "cell_type": "code",
   "execution_count": 20,
   "metadata": {},
   "outputs": [
    {
     "name": "stdout",
     "output_type": "stream",
     "text": [
      "Connecting to PZ Server...\n",
      "<class 'astropy.table.table.Table'>\n"
     ]
    },
    {
     "data": {
      "text/html": [
       "<div><i>Table length=62</i>\n",
       "<table id=\"table139841603280928\" class=\"table-striped table-bordered table-condensed\">\n",
       "<thead><tr><th>redshift</th><th>mag_u_lsst</th><th>mag_err_u_lsst</th><th>mag_g_lsst</th><th>mag_err_g_lsst</th><th>mag_r_lsst</th><th>mag_err_r_lsst</th><th>mag_i_lsst</th><th>mag_err_i_lsst</th><th>mag_z_lsst</th><th>mag_err_z_lsst</th><th>mag_y_lsst</th><th>mag_err_y_lsst</th></tr></thead>\n",
       "<thead><tr><th>float64</th><th>float64</th><th>float64</th><th>float64</th><th>float64</th><th>float64</th><th>float64</th><th>float64</th><th>float64</th><th>float64</th><th>float64</th><th>float64</th><th>float64</th></tr></thead>\n",
       "<tr><td>0.7695210576057434</td><td>26.49685173335998</td><td>0.28898640164514966</td><td>25.863170180148593</td><td>0.0569968492513252</td><td>24.72955523266535</td><td>0.020702469899475762</td><td>23.610683261247523</td><td>0.012011391457007867</td><td>23.14351797933142</td><td>0.013714272888189844</td><td>22.915156068508104</td><td>0.02456124411372624</td></tr>\n",
       "<tr><td>...</td><td>...</td><td>...</td><td>...</td><td>...</td><td>...</td><td>...</td><td>...</td><td>...</td><td>...</td><td>...</td><td>...</td><td>...</td></tr>\n",
       "<tr><td>0.4742807149887085</td><td>27.048056087407986</td><td>0.4446825063577354</td><td>26.428211280519175</td><td>0.09385433945963481</td><td>24.83998360318214</td><td>0.02275493531289512</td><td>24.2092260174936</td><td>0.01940261275081239</td><td>23.855082243159934</td><td>0.02478730171099941</td><td>23.507455929574288</td><td>0.041328512368478044</td></tr>\n",
       "<tr><td>0.5619226694107056</td><td>24.680479530543163</td><td>0.061181531929665633</td><td>23.958608997973702</td><td>0.01142956636817526</td><td>22.900134967933102</td><td>0.006345869773581998</td><td>22.143580633270624</td><td>0.005819630970810428</td><td>21.867562849329406</td><td>0.006465480863342269</td><td>21.61269159453626</td><td>0.008966510628950788</td></tr>\n",
       "</table></div>"
      ],
      "text/plain": [
       "<Table length=62>\n",
       "     redshift          mag_u_lsst        mag_err_u_lsst    ...    mag_err_z_lsst        mag_y_lsst        mag_err_y_lsst   \n",
       "     float64            float64             float64        ...       float64             float64             float64       \n",
       "------------------ ------------------ -------------------- ... -------------------- ------------------ --------------------\n",
       "0.7695210576057434  26.49685173335998  0.28898640164514966 ... 0.013714272888189844 22.915156068508104  0.02456124411372624\n",
       "               ...                ...                  ... ...                  ...                ...                  ...\n",
       "0.4742807149887085 27.048056087407986   0.4446825063577354 ...  0.02478730171099941 23.507455929574288 0.041328512368478044\n",
       "0.5619226694107056 24.680479530543163 0.061181531929665633 ... 0.006465480863342269  21.61269159453626 0.008966510628950788"
      ]
     },
     "execution_count": 20,
     "metadata": {},
     "output_type": "execute_result"
    }
   ],
   "source": [
    "table = pz_server.get_product(8, fmt=\"astropy\")\n",
    "print(type(table))\n",
    "table"
   ]
  },
  {
   "attachments": {},
   "cell_type": "markdown",
   "metadata": {},
   "source": [
    "--- \n",
    "Clean up"
   ]
  },
  {
   "cell_type": "code",
   "execution_count": 21,
   "metadata": {},
   "outputs": [],
   "source": [
    "del search_results, catalog, dataframe, table "
   ]
  },
  {
   "attachments": {},
   "cell_type": "markdown",
   "metadata": {},
   "source": [
    "--- "
   ]
  },
  {
   "attachments": {},
   "cell_type": "markdown",
   "metadata": {},
   "source": [
    "<div style=\"text-align: right\">\n",
    "\n",
    "[back to the top](#notebook-contents)\n",
    "\n",
    "</div>\n",
    "\n",
    "# Product types "
   ]
  },
  {
   "attachments": {},
   "cell_type": "markdown",
   "metadata": {},
   "source": [
    "The PZ Server API provides Python classes with useful methods to handle particular product types. Let's recap the product types available:   "
   ]
  },
  {
   "cell_type": "code",
   "execution_count": 22,
   "metadata": {},
   "outputs": [
    {
     "data": {
      "text/html": [
       "<style type=\"text/css\">\n",
       "</style>\n",
       "<table id=\"T_6132f\">\n",
       "  <thead>\n",
       "    <tr>\n",
       "      <th id=\"T_6132f_level0_col0\" class=\"col_heading level0 col0\" >Product type</th>\n",
       "      <th id=\"T_6132f_level0_col1\" class=\"col_heading level0 col1\" >Description</th>\n",
       "    </tr>\n",
       "  </thead>\n",
       "  <tbody>\n",
       "    <tr>\n",
       "      <td id=\"T_6132f_row0_col0\" class=\"data row0 col0\" >Spec-z Catalog</td>\n",
       "      <td id=\"T_6132f_row0_col1\" class=\"data row0 col1\" >Catalog of spectroscopic redshifts and positions (usually equatorial coordinates).</td>\n",
       "    </tr>\n",
       "    <tr>\n",
       "      <td id=\"T_6132f_row1_col0\" class=\"data row1 col0\" >Training Set</td>\n",
       "      <td id=\"T_6132f_row1_col1\" class=\"data row1 col1\" >Training set for photo-z algorithms (tabular data). It usually contains magnitudes, errors, and true redshifts.</td>\n",
       "    </tr>\n",
       "    <tr>\n",
       "      <td id=\"T_6132f_row2_col0\" class=\"data row2 col0\" >Validation Results</td>\n",
       "      <td id=\"T_6132f_row2_col1\" class=\"data row2 col1\" >Results of a photo-z validation procedure (free format). Usually contains photo-z estimates (single estimates and/or pdf) of a validation set and photo-z validation metrics.</td>\n",
       "    </tr>\n",
       "    <tr>\n",
       "      <td id=\"T_6132f_row3_col0\" class=\"data row3 col0\" >Photo-z Table</td>\n",
       "      <td id=\"T_6132f_row3_col1\" class=\"data row3 col1\" >Results of a photo-z estimation procedure. If the data is larger than the file upload limit (200MB), the product entry stores only the metadata (instructions on accessing the data should be provided in the description field.</td>\n",
       "    </tr>\n",
       "  </tbody>\n",
       "</table>\n"
      ],
      "text/plain": [
       "<pandas.io.formats.style.Styler at 0x7f2f6916a500>"
      ]
     },
     "metadata": {},
     "output_type": "display_data"
    }
   ],
   "source": [
    "pz_server.display_product_types()"
   ]
  },
  {
   "attachments": {},
   "cell_type": "markdown",
   "metadata": {
    "tags": []
   },
   "source": [
    "<div style=\"text-align: right\" id=\"spec-z-catalog\">\n",
    "\n",
    "[back to the top](#notebook-contents)\n",
    "\n",
    "</div>\n",
    "\n",
    "## Spec-z Catalog "
   ]
  },
  {
   "attachments": {},
   "cell_type": "markdown",
   "metadata": {
    "tags": []
   },
   "source": [
    "In the context of the PZ Server, Spec-z Catalogs are defined as any catalog containing spherical equatorial coordinates and spectroscopic redshift measurements (or, analogously, true redshifts from simulations). A Spec-z Catalog can include data from a single spectroscopic survey or a combination of data from several sources. To be considered as a single Spec-z Catalog, the data should be provided as a single file to PZ Server's the upload tool. For multi-survey catalogs, it is recommended to add the survey name or identification as an extra column. \n",
    "\n",
    "\n",
    "Mandatory columns: \n",
    "* Right ascension [degrees] - `float`\n",
    "* Declination [degrees] - `float`\n",
    "* Spectroscopic or true redshift - `float`\n",
    "\n",
    "Recommended columns: \n",
    "* Spectroscopic redshift error - `float`\n",
    "* Quality flag - `integer`, `float`, or `string`\n",
    "* Survey name (recommended for compilations of data from different surveys)\n"
   ]
  },
  {
   "attachments": {},
   "cell_type": "markdown",
   "metadata": {},
   "source": [
    "Let's see an example of Spec-z Catalog: "
   ]
  },
  {
   "cell_type": "code",
   "execution_count": 23,
   "metadata": {},
   "outputs": [
    {
     "name": "stdout",
     "output_type": "stream",
     "text": [
      "Connecting to PZ Server...\n",
      "Done!\n"
     ]
    }
   ],
   "source": [
    "gama = pz_server.get_product(14)"
   ]
  },
  {
   "cell_type": "code",
   "execution_count": 24,
   "metadata": {},
   "outputs": [
    {
     "data": {
      "text/html": [
       "<style type=\"text/css\">\n",
       "</style>\n",
       "<table id=\"T_87f72\">\n",
       "  <thead>\n",
       "    <tr>\n",
       "      <th id=\"T_87f72_level0_col0\" class=\"col_heading level0 col0\" >key</th>\n",
       "      <th id=\"T_87f72_level0_col1\" class=\"col_heading level0 col1\" >value</th>\n",
       "    </tr>\n",
       "  </thead>\n",
       "  <tbody>\n",
       "    <tr>\n",
       "      <td id=\"T_87f72_row0_col0\" class=\"data row0 col0\" >id</td>\n",
       "      <td id=\"T_87f72_row0_col1\" class=\"data row0 col1\" >14</td>\n",
       "    </tr>\n",
       "    <tr>\n",
       "      <td id=\"T_87f72_row1_col0\" class=\"data row1 col0\" >release</td>\n",
       "      <td id=\"T_87f72_row1_col1\" class=\"data row1 col1\" >None</td>\n",
       "    </tr>\n",
       "    <tr>\n",
       "      <td id=\"T_87f72_row2_col0\" class=\"data row2 col0\" >product_type</td>\n",
       "      <td id=\"T_87f72_row2_col1\" class=\"data row2 col1\" >Spec-z Catalog</td>\n",
       "    </tr>\n",
       "    <tr>\n",
       "      <td id=\"T_87f72_row3_col0\" class=\"data row3 col0\" >uploaded_by</td>\n",
       "      <td id=\"T_87f72_row3_col1\" class=\"data row3 col1\" >gschwend</td>\n",
       "    </tr>\n",
       "    <tr>\n",
       "      <td id=\"T_87f72_row4_col0\" class=\"data row4 col0\" >internal_name</td>\n",
       "      <td id=\"T_87f72_row4_col1\" class=\"data row4 col1\" >14_gama_specz_subsample</td>\n",
       "    </tr>\n",
       "    <tr>\n",
       "      <td id=\"T_87f72_row5_col0\" class=\"data row5 col0\" >product_name</td>\n",
       "      <td id=\"T_87f72_row5_col1\" class=\"data row5 col1\" >GAMA spec-z subsample</td>\n",
       "    </tr>\n",
       "    <tr>\n",
       "      <td id=\"T_87f72_row6_col0\" class=\"data row6 col0\" >official_product</td>\n",
       "      <td id=\"T_87f72_row6_col1\" class=\"data row6 col1\" >False</td>\n",
       "    </tr>\n",
       "    <tr>\n",
       "      <td id=\"T_87f72_row7_col0\" class=\"data row7 col0\" >pz_code</td>\n",
       "      <td id=\"T_87f72_row7_col1\" class=\"data row7 col1\" ></td>\n",
       "    </tr>\n",
       "    <tr>\n",
       "      <td id=\"T_87f72_row8_col0\" class=\"data row8 col0\" >description</td>\n",
       "      <td id=\"T_87f72_row8_col1\" class=\"data row8 col1\" >A small subsample of the GAMA DR3 spec-z catalog (Baldry et al. 2018) as an example of a typical spec-z catalog from the literature.</td>\n",
       "    </tr>\n",
       "    <tr>\n",
       "      <td id=\"T_87f72_row9_col0\" class=\"data row9 col0\" >created_at</td>\n",
       "      <td id=\"T_87f72_row9_col1\" class=\"data row9 col1\" >2023-03-29T20:02:45.223568Z</td>\n",
       "    </tr>\n",
       "    <tr>\n",
       "      <td id=\"T_87f72_row10_col0\" class=\"data row10 col0\" >main_file</td>\n",
       "      <td id=\"T_87f72_row10_col1\" class=\"data row10 col1\" >specz_subsample_gama_example.csv</td>\n",
       "    </tr>\n",
       "  </tbody>\n",
       "</table>\n"
      ],
      "text/plain": [
       "<pandas.io.formats.style.Styler at 0x7f2f69169a80>"
      ]
     },
     "metadata": {},
     "output_type": "display_data"
    }
   ],
   "source": [
    "gama.display_metadata()"
   ]
  },
  {
   "attachments": {},
   "cell_type": "markdown",
   "metadata": {},
   "source": [
    "Display basic statistics"
   ]
  },
  {
   "cell_type": "code",
   "execution_count": 25,
   "metadata": {},
   "outputs": [
    {
     "data": {
      "text/html": [
       "<div>\n",
       "<style scoped>\n",
       "    .dataframe tbody tr th:only-of-type {\n",
       "        vertical-align: middle;\n",
       "    }\n",
       "\n",
       "    .dataframe tbody tr th {\n",
       "        vertical-align: top;\n",
       "    }\n",
       "\n",
       "    .dataframe thead th {\n",
       "        text-align: right;\n",
       "    }\n",
       "</style>\n",
       "<table border=\"1\" class=\"dataframe\">\n",
       "  <thead>\n",
       "    <tr style=\"text-align: right;\">\n",
       "      <th></th>\n",
       "      <th>ID</th>\n",
       "      <th>RA</th>\n",
       "      <th>DEC</th>\n",
       "      <th>Z</th>\n",
       "      <th>ERR_Z</th>\n",
       "      <th>FLAG_DES</th>\n",
       "    </tr>\n",
       "  </thead>\n",
       "  <tbody>\n",
       "    <tr>\n",
       "      <th>count</th>\n",
       "      <td>2.576000e+03</td>\n",
       "      <td>2576.000000</td>\n",
       "      <td>2576.000000</td>\n",
       "      <td>2576.000000</td>\n",
       "      <td>2576.0</td>\n",
       "      <td>2576.000000</td>\n",
       "    </tr>\n",
       "    <tr>\n",
       "      <th>mean</th>\n",
       "      <td>1.105526e+06</td>\n",
       "      <td>154.526343</td>\n",
       "      <td>-1.101865</td>\n",
       "      <td>0.224811</td>\n",
       "      <td>99.0</td>\n",
       "      <td>3.949534</td>\n",
       "    </tr>\n",
       "    <tr>\n",
       "      <th>std</th>\n",
       "      <td>4.006668e+04</td>\n",
       "      <td>70.783868</td>\n",
       "      <td>2.995036</td>\n",
       "      <td>0.102571</td>\n",
       "      <td>0.0</td>\n",
       "      <td>0.218947</td>\n",
       "    </tr>\n",
       "    <tr>\n",
       "      <th>...</th>\n",
       "      <td>...</td>\n",
       "      <td>...</td>\n",
       "      <td>...</td>\n",
       "      <td>...</td>\n",
       "      <td>...</td>\n",
       "      <td>...</td>\n",
       "    </tr>\n",
       "    <tr>\n",
       "      <th>50%</th>\n",
       "      <td>1.103558e+06</td>\n",
       "      <td>180.140145</td>\n",
       "      <td>-0.480830</td>\n",
       "      <td>0.217804</td>\n",
       "      <td>99.0</td>\n",
       "      <td>4.000000</td>\n",
       "    </tr>\n",
       "    <tr>\n",
       "      <th>75%</th>\n",
       "      <td>1.140619e+06</td>\n",
       "      <td>215.836583</td>\n",
       "      <td>1.170363</td>\n",
       "      <td>0.291810</td>\n",
       "      <td>99.0</td>\n",
       "      <td>4.000000</td>\n",
       "    </tr>\n",
       "    <tr>\n",
       "      <th>max</th>\n",
       "      <td>1.176440e+06</td>\n",
       "      <td>223.497080</td>\n",
       "      <td>2.998180</td>\n",
       "      <td>0.728717</td>\n",
       "      <td>99.0</td>\n",
       "      <td>4.000000</td>\n",
       "    </tr>\n",
       "  </tbody>\n",
       "</table>\n",
       "<p>8 rows × 6 columns</p>\n",
       "</div>"
      ],
      "text/plain": [
       "                 ID           RA          DEC            Z   ERR_Z   \n",
       "count  2.576000e+03  2576.000000  2576.000000  2576.000000  2576.0  \\\n",
       "mean   1.105526e+06   154.526343    -1.101865     0.224811    99.0   \n",
       "std    4.006668e+04    70.783868     2.995036     0.102571     0.0   \n",
       "...             ...          ...          ...          ...     ...   \n",
       "50%    1.103558e+06   180.140145    -0.480830     0.217804    99.0   \n",
       "75%    1.140619e+06   215.836583     1.170363     0.291810    99.0   \n",
       "max    1.176440e+06   223.497080     2.998180     0.728717    99.0   \n",
       "\n",
       "          FLAG_DES  \n",
       "count  2576.000000  \n",
       "mean      3.949534  \n",
       "std       0.218947  \n",
       "...            ...  \n",
       "50%       4.000000  \n",
       "75%       4.000000  \n",
       "max       4.000000  \n",
       "\n",
       "[8 rows x 6 columns]"
      ]
     },
     "execution_count": 25,
     "metadata": {},
     "output_type": "execute_result"
    }
   ],
   "source": [
    "gama.data.describe()"
   ]
  },
  {
   "attachments": {},
   "cell_type": "markdown",
   "metadata": {},
   "source": [
    "The spec-z catalog object has a very basic plot method for quick visualization of catalog properties "
   ]
  },
  {
   "cell_type": "code",
   "execution_count": 26,
   "metadata": {},
   "outputs": [
    {
     "data": {
      "image/png": "[encoded data removed]",
      "text/plain": [
       "<Figure size 800x300 with 2 Axes>"
      ]
     },
     "metadata": {},
     "output_type": "display_data"
    }
   ],
   "source": [
    "gama.plot()"
   ]
  },
  {
   "attachments": {},
   "cell_type": "markdown",
   "metadata": {},
   "source": [
    "The attribute `data`, which is a `DataFrame` preserves the `plot` method from Pandas.   "
   ]
  },
  {
   "cell_type": "code",
   "execution_count": 27,
   "metadata": {},
   "outputs": [
    {
     "data": {
      "text/plain": [
       "<Axes: xlabel='RA', ylabel='DEC'>"
      ]
     },
     "execution_count": 27,
     "metadata": {},
     "output_type": "execute_result"
    },
    {
     "data": {
      "image/png": "[encoded data removed]",
      "text/plain": [
       "<Figure size 640x480 with 1 Axes>"
      ]
     },
     "metadata": {},
     "output_type": "display_data"
    }
   ],
   "source": [
    "gama.data.plot(x=\"RA\", y=\"DEC\", kind=\"scatter\")  "
   ]
  },
  {
   "attachments": {},
   "cell_type": "markdown",
   "metadata": {},
   "source": [
    "<div style=\"text-align: right\" id=\"training-sets\">\n",
    "\n",
    "[back to the top](#notebook-contents)\n",
    "\n",
    "</div>\n",
    "\n",
    "## Training Sets \n",
    "    \n",
    "In the context of the PZ Server, Training Sets are defined as the product of matching (spatially) a given Spec-z Catalog (single survey or compilation) to the photometric data, in this case, the LSST Objects Catalog. The PZ Server API offers a tool called _Training Set Maker_ for users to build customized Training Sets based on the Spec-z Catalogs available. Please see the companion Jupyter Notebook `pz_tsm_tutorial.ipynb` for details.   \n",
    "\n",
    "\n",
    "_Note 1: Commonly the training set is split into two or more subsets for photo-z validation purposes. If the Training Set owner has previously defined which objects should belong to each subset (trainining and validation/test sets), this information must be available as an extra column in the table or as clear instructions for reproducing the subsets separation in the data product description._\n",
    "\n",
    "  \n",
    "_Note 2: The PZ Server only supports catalog-level Training Sets. Image-based Training Sets, e.g., for deep-learning algorithms, are not supported yet._\n",
    "\n",
    "\n",
    "Mandatory column: \n",
    "* Spectroscopic (or true) redshift - `float`\n",
    "\n",
    "Other expected columns\n",
    "* Object ID from LSST Objects Catalog - `integer`\n",
    "* Observables: magnitudes (and/or colors, or fluxes) from LSST Objects Catalog - `float`\n",
    "* Observable errors: magnitude errors (and/or color errors, or flux errors) from LSST Objects Catalog - `float`\n",
    "* Right ascension [degrees] - `float`\n",
    "* Declination [degrees] - `float`\n",
    "* Quality Flag - `integer`, `float`, or `string`\n",
    "* Subset Flag - `integer`, `float`, or `string`\n",
    "\n"
   ]
  },
  {
   "cell_type": "code",
   "execution_count": 28,
   "metadata": {
    "tags": []
   },
   "outputs": [
    {
     "name": "stdout",
     "output_type": "stream",
     "text": [
      "Connecting to PZ Server...\n",
      "Done!\n"
     ]
    }
   ],
   "source": [
    "train_goldenspike = pz_server.get_product(9)"
   ]
  },
  {
   "cell_type": "code",
   "execution_count": 29,
   "metadata": {
    "tags": []
   },
   "outputs": [
    {
     "data": {
      "text/html": [
       "<style type=\"text/css\">\n",
       "</style>\n",
       "<table id=\"T_e64e9\">\n",
       "  <thead>\n",
       "    <tr>\n",
       "      <th id=\"T_e64e9_level0_col0\" class=\"col_heading level0 col0\" >key</th>\n",
       "      <th id=\"T_e64e9_level0_col1\" class=\"col_heading level0 col1\" >value</th>\n",
       "    </tr>\n",
       "  </thead>\n",
       "  <tbody>\n",
       "    <tr>\n",
       "      <td id=\"T_e64e9_row0_col0\" class=\"data row0 col0\" >id</td>\n",
       "      <td id=\"T_e64e9_row0_col1\" class=\"data row0 col1\" >9</td>\n",
       "    </tr>\n",
       "    <tr>\n",
       "      <td id=\"T_e64e9_row1_col0\" class=\"data row1 col0\" >release</td>\n",
       "      <td id=\"T_e64e9_row1_col1\" class=\"data row1 col1\" >None</td>\n",
       "    </tr>\n",
       "    <tr>\n",
       "      <td id=\"T_e64e9_row2_col0\" class=\"data row2 col0\" >product_type</td>\n",
       "      <td id=\"T_e64e9_row2_col1\" class=\"data row2 col1\" >Training Set</td>\n",
       "    </tr>\n",
       "    <tr>\n",
       "      <td id=\"T_e64e9_row3_col0\" class=\"data row3 col0\" >uploaded_by</td>\n",
       "      <td id=\"T_e64e9_row3_col1\" class=\"data row3 col1\" >gschwend</td>\n",
       "    </tr>\n",
       "    <tr>\n",
       "      <td id=\"T_e64e9_row4_col0\" class=\"data row4 col0\" >internal_name</td>\n",
       "      <td id=\"T_e64e9_row4_col1\" class=\"data row4 col1\" >9_goldenspike_train_data_hdf5</td>\n",
       "    </tr>\n",
       "    <tr>\n",
       "      <td id=\"T_e64e9_row5_col0\" class=\"data row5 col0\" >product_name</td>\n",
       "      <td id=\"T_e64e9_row5_col1\" class=\"data row5 col1\" >Goldenspike train data hdf5</td>\n",
       "    </tr>\n",
       "    <tr>\n",
       "      <td id=\"T_e64e9_row6_col0\" class=\"data row6 col0\" >official_product</td>\n",
       "      <td id=\"T_e64e9_row6_col1\" class=\"data row6 col1\" >False</td>\n",
       "    </tr>\n",
       "    <tr>\n",
       "      <td id=\"T_e64e9_row7_col0\" class=\"data row7 col0\" >pz_code</td>\n",
       "      <td id=\"T_e64e9_row7_col1\" class=\"data row7 col1\" ></td>\n",
       "    </tr>\n",
       "    <tr>\n",
       "      <td id=\"T_e64e9_row8_col0\" class=\"data row8 col0\" >description</td>\n",
       "      <td id=\"T_e64e9_row8_col1\" class=\"data row8 col1\" >A mock training set created using the example notebook goldenspike.ipynb available in RAIL's repository.  \r\n",
       "Test upload of files in hdf5 format.</td>\n",
       "    </tr>\n",
       "    <tr>\n",
       "      <td id=\"T_e64e9_row9_col0\" class=\"data row9 col0\" >created_at</td>\n",
       "      <td id=\"T_e64e9_row9_col1\" class=\"data row9 col1\" >2023-03-29T19:12:59.746096Z</td>\n",
       "    </tr>\n",
       "    <tr>\n",
       "      <td id=\"T_e64e9_row10_col0\" class=\"data row10 col0\" >main_file</td>\n",
       "      <td id=\"T_e64e9_row10_col1\" class=\"data row10 col1\" >goldenspike_train_data.hdf5</td>\n",
       "    </tr>\n",
       "  </tbody>\n",
       "</table>\n"
      ],
      "text/plain": [
       "<pandas.io.formats.style.Styler at 0x7f2f68ebe230>"
      ]
     },
     "metadata": {},
     "output_type": "display_data"
    }
   ],
   "source": [
    "train_goldenspike.display_metadata()"
   ]
  },
  {
   "attachments": {},
   "cell_type": "markdown",
   "metadata": {},
   "source": [
    "Display basic statistics"
   ]
  },
  {
   "cell_type": "code",
   "execution_count": 30,
   "metadata": {},
   "outputs": [
    {
     "data": {
      "text/html": [
       "<div>\n",
       "<style scoped>\n",
       "    .dataframe tbody tr th:only-of-type {\n",
       "        vertical-align: middle;\n",
       "    }\n",
       "\n",
       "    .dataframe tbody tr th {\n",
       "        vertical-align: top;\n",
       "    }\n",
       "\n",
       "    .dataframe thead th {\n",
       "        text-align: right;\n",
       "    }\n",
       "</style>\n",
       "<table border=\"1\" class=\"dataframe\">\n",
       "  <thead>\n",
       "    <tr style=\"text-align: right;\">\n",
       "      <th></th>\n",
       "      <th>mag_err_g_lsst</th>\n",
       "      <th>mag_err_i_lsst</th>\n",
       "      <th>mag_err_r_lsst</th>\n",
       "      <th>mag_err_u_lsst</th>\n",
       "      <th>mag_err_y_lsst</th>\n",
       "      <th>mag_err_z_lsst</th>\n",
       "      <th>mag_g_lsst</th>\n",
       "      <th>mag_i_lsst</th>\n",
       "      <th>mag_r_lsst</th>\n",
       "      <th>mag_u_lsst</th>\n",
       "      <th>mag_y_lsst</th>\n",
       "      <th>mag_z_lsst</th>\n",
       "      <th>redshift</th>\n",
       "    </tr>\n",
       "  </thead>\n",
       "  <tbody>\n",
       "    <tr>\n",
       "      <th>count</th>\n",
       "      <td>62.000000</td>\n",
       "      <td>62.000000</td>\n",
       "      <td>62.000000</td>\n",
       "      <td>61.000000</td>\n",
       "      <td>61.000000</td>\n",
       "      <td>62.000000</td>\n",
       "      <td>62.000000</td>\n",
       "      <td>62.000000</td>\n",
       "      <td>62.000000</td>\n",
       "      <td>61.000000</td>\n",
       "      <td>61.000000</td>\n",
       "      <td>62.000000</td>\n",
       "      <td>62.000000</td>\n",
       "    </tr>\n",
       "    <tr>\n",
       "      <th>mean</th>\n",
       "      <td>0.038182</td>\n",
       "      <td>0.016165</td>\n",
       "      <td>0.018770</td>\n",
       "      <td>0.188050</td>\n",
       "      <td>0.054682</td>\n",
       "      <td>0.021478</td>\n",
       "      <td>24.820000</td>\n",
       "      <td>23.384804</td>\n",
       "      <td>24.003970</td>\n",
       "      <td>25.446008</td>\n",
       "      <td>22.932354</td>\n",
       "      <td>23.074481</td>\n",
       "      <td>0.780298</td>\n",
       "    </tr>\n",
       "    <tr>\n",
       "      <th>std</th>\n",
       "      <td>0.036398</td>\n",
       "      <td>0.010069</td>\n",
       "      <td>0.013750</td>\n",
       "      <td>0.193747</td>\n",
       "      <td>0.115875</td>\n",
       "      <td>0.014961</td>\n",
       "      <td>1.314112</td>\n",
       "      <td>1.381587</td>\n",
       "      <td>1.387358</td>\n",
       "      <td>1.269277</td>\n",
       "      <td>1.540284</td>\n",
       "      <td>1.400673</td>\n",
       "      <td>0.355365</td>\n",
       "    </tr>\n",
       "    <tr>\n",
       "      <th>...</th>\n",
       "      <td>...</td>\n",
       "      <td>...</td>\n",
       "      <td>...</td>\n",
       "      <td>...</td>\n",
       "      <td>...</td>\n",
       "      <td>...</td>\n",
       "      <td>...</td>\n",
       "      <td>...</td>\n",
       "      <td>...</td>\n",
       "      <td>...</td>\n",
       "      <td>...</td>\n",
       "      <td>...</td>\n",
       "      <td>...</td>\n",
       "    </tr>\n",
       "    <tr>\n",
       "      <th>50%</th>\n",
       "      <td>0.028309</td>\n",
       "      <td>0.013390</td>\n",
       "      <td>0.016660</td>\n",
       "      <td>0.133815</td>\n",
       "      <td>0.034199</td>\n",
       "      <td>0.018540</td>\n",
       "      <td>25.069970</td>\n",
       "      <td>23.748506</td>\n",
       "      <td>24.470215</td>\n",
       "      <td>25.577029</td>\n",
       "      <td>23.293384</td>\n",
       "      <td>23.514185</td>\n",
       "      <td>0.764600</td>\n",
       "    </tr>\n",
       "    <tr>\n",
       "      <th>75%</th>\n",
       "      <td>0.049576</td>\n",
       "      <td>0.024650</td>\n",
       "      <td>0.025802</td>\n",
       "      <td>0.238859</td>\n",
       "      <td>0.063585</td>\n",
       "      <td>0.032557</td>\n",
       "      <td>25.705486</td>\n",
       "      <td>24.488654</td>\n",
       "      <td>24.985225</td>\n",
       "      <td>26.263284</td>\n",
       "      <td>23.993010</td>\n",
       "      <td>24.165944</td>\n",
       "      <td>0.948494</td>\n",
       "    </tr>\n",
       "    <tr>\n",
       "      <th>max</th>\n",
       "      <td>0.198195</td>\n",
       "      <td>0.036932</td>\n",
       "      <td>0.065360</td>\n",
       "      <td>1.154073</td>\n",
       "      <td>0.909230</td>\n",
       "      <td>0.051883</td>\n",
       "      <td>27.296152</td>\n",
       "      <td>24.949645</td>\n",
       "      <td>26.036958</td>\n",
       "      <td>28.482391</td>\n",
       "      <td>27.342151</td>\n",
       "      <td>24.693132</td>\n",
       "      <td>1.755764</td>\n",
       "    </tr>\n",
       "  </tbody>\n",
       "</table>\n",
       "<p>8 rows × 13 columns</p>\n",
       "</div>"
      ],
      "text/plain": [
       "       mag_err_g_lsst  mag_err_i_lsst  mag_err_r_lsst  mag_err_u_lsst   \n",
       "count       62.000000       62.000000       62.000000       61.000000  \\\n",
       "mean         0.038182        0.016165        0.018770        0.188050   \n",
       "std          0.036398        0.010069        0.013750        0.193747   \n",
       "...               ...             ...             ...             ...   \n",
       "50%          0.028309        0.013390        0.016660        0.133815   \n",
       "75%          0.049576        0.024650        0.025802        0.238859   \n",
       "max          0.198195        0.036932        0.065360        1.154073   \n",
       "\n",
       "       mag_err_y_lsst  mag_err_z_lsst  mag_g_lsst  mag_i_lsst  mag_r_lsst   \n",
       "count       61.000000       62.000000   62.000000   62.000000   62.000000  \\\n",
       "mean         0.054682        0.021478   24.820000   23.384804   24.003970   \n",
       "std          0.115875        0.014961    1.314112    1.381587    1.387358   \n",
       "...               ...             ...         ...         ...         ...   \n",
       "50%          0.034199        0.018540   25.069970   23.748506   24.470215   \n",
       "75%          0.063585        0.032557   25.705486   24.488654   24.985225   \n",
       "max          0.909230        0.051883   27.296152   24.949645   26.036958   \n",
       "\n",
       "       mag_u_lsst  mag_y_lsst  mag_z_lsst   redshift  \n",
       "count   61.000000   61.000000   62.000000  62.000000  \n",
       "mean    25.446008   22.932354   23.074481   0.780298  \n",
       "std      1.269277    1.540284    1.400673   0.355365  \n",
       "...           ...         ...         ...        ...  \n",
       "50%     25.577029   23.293384   23.514185   0.764600  \n",
       "75%     26.263284   23.993010   24.165944   0.948494  \n",
       "max     28.482391   27.342151   24.693132   1.755764  \n",
       "\n",
       "[8 rows x 13 columns]"
      ]
     },
     "execution_count": 30,
     "metadata": {},
     "output_type": "execute_result"
    }
   ],
   "source": [
    "train_goldenspike.data.describe()"
   ]
  },
  {
   "attachments": {},
   "cell_type": "markdown",
   "metadata": {},
   "source": [
    "Quick visualization of training set properties: "
   ]
  },
  {
   "cell_type": "code",
   "execution_count": 31,
   "metadata": {},
   "outputs": [
    {
     "data": {
      "image/png": "[encoded data removed]",
      "text/plain": [
       "<Figure size 1200x400 with 3 Axes>"
      ]
     },
     "metadata": {},
     "output_type": "display_data"
    }
   ],
   "source": [
    "train_goldenspike.plot(mag_name=\"mag_i_lsst\")"
   ]
  },
  {
   "attachments": {},
   "cell_type": "markdown",
   "metadata": {},
   "source": [
    "<div style=\"text-align: right\" id=\"photo-z-validation-results\">\n",
    "\n",
    "[back to the top](#notebook-contents)\n",
    "\n",
    "</div>\n",
    "\n",
    "## Photo-z Validation Results\n",
    "    \n",
    "Validation Results are the outputs of any photo-z algorithm applied on a Validation Set. The format and number of files of this data product are strongly dependent on the algorithm used to create it, so there are no constraints on these two parameters. In the case of multiple files, for instance, if the user includes the results of training procedures (e.g., neural nets weights, decision trees files, or any machine learning by-product) or additional files (SED templates, filter transmission curves, theoretical magnitudes grid, Bayesian priors, etc.), it will be required to put all files together in a single compressed file (.zip or .tar, or .tar.gz) before uploading it to the Photo-z Server.   \n",
    "\n",
    "### List Validation Results available on PZ Server"
   ]
  },
  {
   "cell_type": "code",
   "execution_count": 32,
   "metadata": {},
   "outputs": [
    {
     "data": {
      "text/html": [
       "<style type=\"text/css\">\n",
       "</style>\n",
       "<table id=\"T_67d10\">\n",
       "  <thead>\n",
       "    <tr>\n",
       "      <th id=\"T_67d10_level0_col0\" class=\"col_heading level0 col0\" >id</th>\n",
       "      <th id=\"T_67d10_level0_col1\" class=\"col_heading level0 col1\" >internal_name</th>\n",
       "      <th id=\"T_67d10_level0_col2\" class=\"col_heading level0 col2\" >product_name</th>\n",
       "      <th id=\"T_67d10_level0_col3\" class=\"col_heading level0 col3\" >product_type</th>\n",
       "      <th id=\"T_67d10_level0_col4\" class=\"col_heading level0 col4\" >release</th>\n",
       "      <th id=\"T_67d10_level0_col5\" class=\"col_heading level0 col5\" >uploaded_by</th>\n",
       "      <th id=\"T_67d10_level0_col6\" class=\"col_heading level0 col6\" >official_product</th>\n",
       "      <th id=\"T_67d10_level0_col7\" class=\"col_heading level0 col7\" >pz_code</th>\n",
       "      <th id=\"T_67d10_level0_col8\" class=\"col_heading level0 col8\" >description</th>\n",
       "      <th id=\"T_67d10_level0_col9\" class=\"col_heading level0 col9\" >created_at</th>\n",
       "    </tr>\n",
       "  </thead>\n",
       "  <tbody>\n",
       "    <tr>\n",
       "      <td id=\"T_67d10_row0_col0\" class=\"data row0 col0\" >12</td>\n",
       "      <td id=\"T_67d10_row0_col1\" class=\"data row0 col1\" >12_goldenspike_knn</td>\n",
       "      <td id=\"T_67d10_row0_col2\" class=\"data row0 col2\" >Goldenspike KNN</td>\n",
       "      <td id=\"T_67d10_row0_col3\" class=\"data row0 col3\" >Validation Results</td>\n",
       "      <td id=\"T_67d10_row0_col4\" class=\"data row0 col4\" >None</td>\n",
       "      <td id=\"T_67d10_row0_col5\" class=\"data row0 col5\" >gschwend</td>\n",
       "      <td id=\"T_67d10_row0_col6\" class=\"data row0 col6\" >False</td>\n",
       "      <td id=\"T_67d10_row0_col7\" class=\"data row0 col7\" >KNN</td>\n",
       "      <td id=\"T_67d10_row0_col8\" class=\"data row0 col8\" >Results of photoz validation using KNN on a mock test set from the example notebook goldenspike.ipynb available in RAIL's repository.</td>\n",
       "      <td id=\"T_67d10_row0_col9\" class=\"data row0 col9\" >2023-03-29T19:49:35.652295Z</td>\n",
       "    </tr>\n",
       "    <tr>\n",
       "      <td id=\"T_67d10_row1_col0\" class=\"data row1 col0\" >11</td>\n",
       "      <td id=\"T_67d10_row1_col1\" class=\"data row1 col1\" >11_goldenspike_flexzboost</td>\n",
       "      <td id=\"T_67d10_row1_col2\" class=\"data row1 col2\" >Goldenspike FlexZBoost</td>\n",
       "      <td id=\"T_67d10_row1_col3\" class=\"data row1 col3\" >Validation Results</td>\n",
       "      <td id=\"T_67d10_row1_col4\" class=\"data row1 col4\" >None</td>\n",
       "      <td id=\"T_67d10_row1_col5\" class=\"data row1 col5\" >gschwend</td>\n",
       "      <td id=\"T_67d10_row1_col6\" class=\"data row1 col6\" >False</td>\n",
       "      <td id=\"T_67d10_row1_col7\" class=\"data row1 col7\" >FlexZBoost</td>\n",
       "      <td id=\"T_67d10_row1_col8\" class=\"data row1 col8\" >Results of photoz validation using FlexZBoost on a mock test set from the example notebook goldenspike.ipynb available in RAIL's repository.</td>\n",
       "      <td id=\"T_67d10_row1_col9\" class=\"data row1 col9\" >2023-03-29T19:48:34.864629Z</td>\n",
       "    </tr>\n",
       "    <tr>\n",
       "      <td id=\"T_67d10_row2_col0\" class=\"data row2 col0\" >10</td>\n",
       "      <td id=\"T_67d10_row2_col1\" class=\"data row2 col1\" >10_goldenspike_bpz</td>\n",
       "      <td id=\"T_67d10_row2_col2\" class=\"data row2 col2\" >Goldenspike BPZ</td>\n",
       "      <td id=\"T_67d10_row2_col3\" class=\"data row2 col3\" >Validation Results</td>\n",
       "      <td id=\"T_67d10_row2_col4\" class=\"data row2 col4\" >LSST DP0</td>\n",
       "      <td id=\"T_67d10_row2_col5\" class=\"data row2 col5\" >gschwend</td>\n",
       "      <td id=\"T_67d10_row2_col6\" class=\"data row2 col6\" >False</td>\n",
       "      <td id=\"T_67d10_row2_col7\" class=\"data row2 col7\" >BPZ</td>\n",
       "      <td id=\"T_67d10_row2_col8\" class=\"data row2 col8\" >Results of photoz validation using BPZ on a mock test set from the example notebook goldenspike.ipynb available in RAIL's repository.</td>\n",
       "      <td id=\"T_67d10_row2_col9\" class=\"data row2 col9\" >2023-03-29T19:42:04.424990Z</td>\n",
       "    </tr>\n",
       "  </tbody>\n",
       "</table>\n"
      ],
      "text/plain": [
       "<pandas.io.formats.style.Styler at 0x7f2f66287ee0>"
      ]
     },
     "metadata": {},
     "output_type": "display_data"
    }
   ],
   "source": [
    "pz_server.display_products_list(filters={\"product_type\": \"Validation Results\"})"
   ]
  },
  {
   "attachments": {},
   "cell_type": "markdown",
   "metadata": {},
   "source": [
    "### Display metadata of a given data product of Photo-z Validation Results"
   ]
  },
  {
   "cell_type": "code",
   "execution_count": 33,
   "metadata": {},
   "outputs": [
    {
     "data": {
      "text/html": [
       "<style type=\"text/css\">\n",
       "</style>\n",
       "<table id=\"T_3e49e\">\n",
       "  <thead>\n",
       "    <tr>\n",
       "      <th id=\"T_3e49e_level0_col0\" class=\"col_heading level0 col0\" >key</th>\n",
       "      <th id=\"T_3e49e_level0_col1\" class=\"col_heading level0 col1\" >value</th>\n",
       "    </tr>\n",
       "  </thead>\n",
       "  <tbody>\n",
       "    <tr>\n",
       "      <td id=\"T_3e49e_row0_col0\" class=\"data row0 col0\" >id</td>\n",
       "      <td id=\"T_3e49e_row0_col1\" class=\"data row0 col1\" >11</td>\n",
       "    </tr>\n",
       "    <tr>\n",
       "      <td id=\"T_3e49e_row1_col0\" class=\"data row1 col0\" >release</td>\n",
       "      <td id=\"T_3e49e_row1_col1\" class=\"data row1 col1\" >None</td>\n",
       "    </tr>\n",
       "    <tr>\n",
       "      <td id=\"T_3e49e_row2_col0\" class=\"data row2 col0\" >product_type</td>\n",
       "      <td id=\"T_3e49e_row2_col1\" class=\"data row2 col1\" >Validation Results</td>\n",
       "    </tr>\n",
       "    <tr>\n",
       "      <td id=\"T_3e49e_row3_col0\" class=\"data row3 col0\" >uploaded_by</td>\n",
       "      <td id=\"T_3e49e_row3_col1\" class=\"data row3 col1\" >gschwend</td>\n",
       "    </tr>\n",
       "    <tr>\n",
       "      <td id=\"T_3e49e_row4_col0\" class=\"data row4 col0\" >internal_name</td>\n",
       "      <td id=\"T_3e49e_row4_col1\" class=\"data row4 col1\" >11_goldenspike_flexzboost</td>\n",
       "    </tr>\n",
       "    <tr>\n",
       "      <td id=\"T_3e49e_row5_col0\" class=\"data row5 col0\" >product_name</td>\n",
       "      <td id=\"T_3e49e_row5_col1\" class=\"data row5 col1\" >Goldenspike FlexZBoost</td>\n",
       "    </tr>\n",
       "    <tr>\n",
       "      <td id=\"T_3e49e_row6_col0\" class=\"data row6 col0\" >official_product</td>\n",
       "      <td id=\"T_3e49e_row6_col1\" class=\"data row6 col1\" >False</td>\n",
       "    </tr>\n",
       "    <tr>\n",
       "      <td id=\"T_3e49e_row7_col0\" class=\"data row7 col0\" >pz_code</td>\n",
       "      <td id=\"T_3e49e_row7_col1\" class=\"data row7 col1\" >FlexZBoost</td>\n",
       "    </tr>\n",
       "    <tr>\n",
       "      <td id=\"T_3e49e_row8_col0\" class=\"data row8 col0\" >description</td>\n",
       "      <td id=\"T_3e49e_row8_col1\" class=\"data row8 col1\" >Results of photoz validation using FlexZBoost on a mock test set from the example notebook goldenspike.ipynb available in RAIL's repository.</td>\n",
       "    </tr>\n",
       "    <tr>\n",
       "      <td id=\"T_3e49e_row9_col0\" class=\"data row9 col0\" >created_at</td>\n",
       "      <td id=\"T_3e49e_row9_col1\" class=\"data row9 col1\" >2023-03-29T19:48:34.864629Z</td>\n",
       "    </tr>\n",
       "    <tr>\n",
       "      <td id=\"T_3e49e_row10_col0\" class=\"data row10 col0\" >main_file</td>\n",
       "      <td id=\"T_3e49e_row10_col1\" class=\"data row10 col1\" >pz_valid_fzboost.tar.gz</td>\n",
       "    </tr>\n",
       "  </tbody>\n",
       "</table>\n"
      ],
      "text/plain": [
       "<pandas.io.formats.style.Styler at 0x7f2f66287e20>"
      ]
     },
     "metadata": {},
     "output_type": "display_data"
    }
   ],
   "source": [
    "pz_server.display_product_metadata(\"11_goldenspike_flexzboost\")"
   ]
  },
  {
   "attachments": {},
   "cell_type": "markdown",
   "metadata": {},
   "source": [
    "### Retrieve a given Photo-z Validation Results: download file\n",
    "\n",
    "This product type is not necessarily (only) tabular data and can be a list of files. The methods `get_product` shown above just return the data to be used on memory and only supports single tabular files. To retrieve Photo-z Validation Results, you must download the data to open locally. "
   ]
  },
  {
   "cell_type": "code",
   "execution_count": 34,
   "metadata": {},
   "outputs": [],
   "source": [
    "# pz_server.download_product(11, save_in=\".\")"
   ]
  },
  {
   "attachments": {},
   "cell_type": "markdown",
   "metadata": {
    "tags": []
   },
   "source": [
    "<div style=\"text-align: right\" id=\"photo-z-tables\">\n",
    "\n",
    "[back to the top](#notebook-contents)\n",
    "\n",
    "</div>\n",
    "\n",
    "### Photo-z Tables "
   ]
  },
  {
   "attachments": {},
   "cell_type": "markdown",
   "metadata": {},
   "source": [
    "The Photo-z Tables are the results of photo-z estimation on photometrics samples. The data format is usually tabular, and might vary according to the phto-z estimation method used. \n",
    "\n",
    "The size limit for uploading files on the PZ Server is 200MB, therefore it does not support large Photo-z Tables such as the photo-zs of the LSST Objects catalog. The PZ Server can host small Photo-z Tables or, in case of large datasets, a data product can be registered to contain only the Photo-z Tables' metadata. For these cases, the instructions to find and access the data must be provided in the product's description.   "
   ]
  },
  {
   "cell_type": "code",
   "execution_count": 35,
   "metadata": {},
   "outputs": [],
   "source": [
    "# pz_server.download_product(<id number or internal name>)"
   ]
  },
  {
   "attachments": {},
   "cell_type": "markdown",
   "metadata": {},
   "source": [
    "--- \n",
    "\n",
    "### Users feedback \n",
    "\n",
    "Is something important missing? [Click here to open an issue in the PZ Server library repository on GitHub](https://github.com/linea-it/pz-server-lib/issues). "
   ]
  }
 ],
 "metadata": {
  "kernelspec": {
   "display_name": "Python 3 (ipykernel)",
   "language": "python",
   "name": "python3"
  },
  "language_info": {
   "codemirror_mode": {
    "name": "ipython",
    "version": 3
   },
   "file_extension": ".py",
   "mimetype": "text/x-python",
   "name": "python",
   "nbconvert_exporter": "python",
   "pygments_lexer": "ipython3",
   "version": "3.10.10"
  },
  "nbsphinx": {
   "execute": "never"
  },
  "vscode": {
   "interpreter": {
    "hash": "e9b653658693761946b8083bc5972c6593ddffeb81a0a81b81eabc816026cfc3"
   }
  }
 },
 "nbformat": 4,
 "nbformat_minor": 4
}
