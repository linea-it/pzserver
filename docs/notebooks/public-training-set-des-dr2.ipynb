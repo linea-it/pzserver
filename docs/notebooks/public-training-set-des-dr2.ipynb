{
 "cells": [
  {
   "cell_type": "markdown",
   "id": "9d42adbb-55a5-4edd-aaae-2a5c2279e279",
   "metadata": {},
   "source": [
    "<img align='left' src = https://linea.org.br/wp-content/themes/LIneA/imagens/logo-header.jpg width=150 style='padding: 20px'> \n",
    "\n",
    "## Photo-z Training Set\n",
    "\n",
    "Combination of the public collection of redshifts made available by spectroscopic surveys and fotometric data from DES DR2.\n",
    "\n",
    "\n",
    "Contact: Julia Gschwend ([julia@linea.org.br](mailto:julia@linea.org.br))\n",
    "<br>\n",
    "<br>\n",
    "\n"
   ]
  },
  {
   "cell_type": "markdown",
   "id": "6c6d0276-13b5-4a2e-974d-0b3c664914f7",
   "metadata": {},
   "source": [
    "#### Acknowledgments\n",
    "If you use this dataset to generate scientific results, please add a reference to [Gschwend et al., 2018](https://ui.adsabs.harvard.edu/abs/2018A%26C....25...58G/abstract) and acknowledge LIneA in the acknowledgments section of your publication. For instance:\n",
    "\n",
    "'_This research used computational resources from the Associação Laboratório Interinstitucional de e-Astronomia (LIneA) with the financial support of INCT do e-Universo (Process no. 465376/2014-2)._'"
   ]
  },
  {
   "cell_type": "markdown",
   "id": "dbbe57a5-fb05-4166-a2c3-dfd2b719f8ec",
   "metadata": {},
   "source": [
    "#### Notes \n",
    "\n",
    "The characterization of the spectroscopic redshifts catalog is available in a separate notebook. If you have questions, feel free to contact me ([julia@linea.org.br](mailto:julia@linea.org.br)). \n"
   ]
  },
  {
   "cell_type": "markdown",
   "id": "ce385d91-cffd-419d-b699-65e218e86d7b",
   "metadata": {
    "jp-MarkdownHeadingCollapsed": true,
    "tags": []
   },
   "source": [
    "The training set was created based on the spatial correspondence between the objects present in the reshift catalog described above and the object table (_coadd_objects_) of DES DR2, with a search radius of 1.0 _arcsec_, with the aim of including the columns of the set photometric measurements that are useful for calculating photo-z (apparent magnitudes and their respective errors). "
   ]
  },
  {
   "cell_type": "markdown",
   "id": "4e7ba2d5-4d08-460e-a1fd-c94cab0b1c50",
   "metadata": {},
   "source": [
    "\n",
    "--- \n",
    "\n",
    "## Sample characterization\n",
    "\n",
    "Check below a brief characterization of the data contained in the compiled collection of spectroscopic catalogs."
   ]
  },
  {
   "cell_type": "markdown",
   "id": "f7eeca28-7bfc-4449-9afd-b88b648d0418",
   "metadata": {},
   "source": [
    "Requirements for this notebook:\n",
    "\n",
    "* **Auxiliary file**: [des-round19-poly.txt](https://github.com/kadrlica/skymap/blob/master/skymap/data/des-round19-poly.txt) (contours of the area covered by the survey, i.e., DES _footprint_, 2019 version).\n",
    "* **View libraries**: seaborn, bokeh, holoviews\n",
    "\n",
    "_Download_ the file `des-round19-poly.txt` from the repository [kadrlica/skymap](https://github.com/kadrlica/skymap) on GitHub:"
   ]
  },
  {
   "cell_type": "code",
   "execution_count": null,
   "id": "b8c1f12b-4212-42cd-8271-fcbe881c9d7a",
   "metadata": {
    "tags": []
   },
   "outputs": [],
   "source": [
    "! wget https://raw.githubusercontent.com/kadrlica/skymap/master/skymap/data/des-round19-poly.txt  "
   ]
  },
  {
   "cell_type": "markdown",
   "id": "5608ae7e-ca24-48dd-9bd3-3aa4b7d14089",
   "metadata": {},
   "source": [
    "Imports and configs"
   ]
  },
  {
   "cell_type": "code",
   "execution_count": null,
   "id": "16cf1c89-b929-4070-8a3e-e6966fd9589d",
   "metadata": {
    "tags": []
   },
   "outputs": [],
   "source": [
    "# General\n",
    "import numpy as np\n",
    "import pandas as pd\n",
    "import matplotlib.pyplot as plt\n",
    "import seaborn as sns\n",
    "import tables_io\n",
    "import psutil\n",
    "import sys\n",
    "\n",
    "# Astropy\n",
    "from astropy import units as u\n",
    "from astropy.coordinates import SkyCoord\n",
    "from astropy.units.quantity import Quantity\n",
    "\n",
    "# Bokeh\n",
    "import bokeh\n",
    "from bokeh.io import output_notebook, show, output_file, reset_output\n",
    "from bokeh.models import ColumnDataSource, Range1d, HoverTool\n",
    "from bokeh.models import CDSView, GroupFilter\n",
    "from bokeh.plotting import figure, show, gridplot, output_notebook\n",
    "from bokeh.models import Range1d, LinearColorMapper, ColorBar\n",
    "from bokeh.transform import factor_cmap\n",
    "\n",
    "# HoloViews\n",
    "import holoviews as hv\n",
    "from holoviews import streams, opts\n",
    "from holoviews.operation.datashader import datashade, dynspread\n",
    "from holoviews.plotting.util import process_cmap\n",
    "\n",
    "\n",
    "# Config\n",
    "import warnings\n",
    "warnings.filterwarnings('ignore')\n",
    "%reload_ext autoreload \n",
    "%autoreload 2 \n",
    "%matplotlib inline \n",
    "sns.set(color_codes=True, font_scale=1.5) \n",
    "sns.set_style('whitegrid')\n",
    "plt.rcParams.update({'figure.max_open_warning': 0})\n",
    "hv.extension('bokeh')\n",
    "output_notebook()"
   ]
  },
  {
   "cell_type": "code",
   "execution_count": null,
   "id": "a38f3277-6e78-4a01-86a1-4e5545851ca9",
   "metadata": {
    "tags": []
   },
   "outputs": [],
   "source": [
    "print('Python version: ' + sys.version)\n",
    "print('Numpy version: ' + np.__version__)\n",
    "print('Bokeh version: ' + bokeh.__version__)\n",
    "print('HoloViews version: ' + hv.__version__)"
   ]
  },
  {
   "cell_type": "code",
   "execution_count": null,
   "id": "69883b2d-b313-4fe7-8dfd-ab511dc3082a",
   "metadata": {
    "tags": []
   },
   "outputs": [],
   "source": [
    "def fmt(x):\n",
    "    return '{:.1f}%'.format(x)"
   ]
  },
  {
   "cell_type": "markdown",
   "id": "cc778e08-57f9-4cff-966b-f2717c66ad6e",
   "metadata": {},
   "source": [
    "Read DES footprint file `des-round19-poly.txt`:"
   ]
  },
  {
   "cell_type": "code",
   "execution_count": null,
   "id": "2c9c00a2-2b6c-4dd9-b021-df831bb20bd7",
   "metadata": {
    "tags": []
   },
   "outputs": [],
   "source": [
    "foot_ra, foot_dec = np.loadtxt('des-round19-poly.txt', unpack=True)\n",
    "foot_coords = SkyCoord(ra=-foot_ra*u.degree, dec=foot_dec*u.degree, frame='icrs')\n",
    "foot_df = pd.DataFrame({'foot_ra': np.array(foot_coords.ra.wrap_at(180*u.degree)), \n",
    "                        'foot_dec': np.array(foot_coords.dec)})"
   ]
  },
  {
   "cell_type": "markdown",
   "id": "0de5e4d4-eed4-4d3c-8b06-f2175a5d4209",
   "metadata": {},
   "source": [
    "Read training set file "
   ]
  },
  {
   "cell_type": "code",
   "execution_count": null,
   "id": "107a8ac3-0e34-48a5-9ac5-744ab6275e88",
   "metadata": {
    "tags": []
   },
   "outputs": [],
   "source": [
    "training_set = tables_io.read('public_pz_training_set.pq')"
   ]
  },
  {
   "cell_type": "code",
   "execution_count": null,
   "id": "9b1472ed-265a-4ed2-8f4d-06fd71b57d66",
   "metadata": {
    "tags": []
   },
   "outputs": [],
   "source": [
    "type(training_set)"
   ]
  },
  {
   "cell_type": "code",
   "execution_count": null,
   "id": "ce2a47e1-7000-4d73-98ce-41a8807c6bb2",
   "metadata": {
    "tags": []
   },
   "outputs": [],
   "source": [
    "assert len(training_set) == 592493"
   ]
  },
  {
   "cell_type": "code",
   "execution_count": null,
   "id": "2a9de0db-56e2-494b-9d29-e77be17335a8",
   "metadata": {},
   "outputs": [],
   "source": [
    "training_set.info(memory_usage=\"deep\")"
   ]
  },
  {
   "cell_type": "code",
   "execution_count": null,
   "id": "e2b58a35-3f36-4d6a-8b37-8cdbd57fb208",
   "metadata": {
    "tags": []
   },
   "outputs": [],
   "source": [
    "training_set.head()"
   ]
  },
  {
   "cell_type": "markdown",
   "id": "13763228-ad08-4f3c-8dda-3f1ab77ee20d",
   "metadata": {},
   "source": [
    "Meaning of columns:\n",
    "\n",
    "| Column name | Meaning |\n",
    "|--:|:--|\n",
    "| **coadd_object_id**| Unique object identifier in the DES DR2 photometric catalog (_coadd_objects_ table). |\n",
    "| **ra** | Right Ascension (degrees) |\n",
    "| **dec** | Declination (degrees) |\n",
    "| **z** | Redshift |\n",
    "| **err_z** | Redshift error. When unavailable, replaced by 99.0 |\n",
    "| **flag_des**| Standardized quality marker (details [above](#flags))|\n",
    "| **survey** | Name of the project or survey of origin. |\n",
    "| **flag_survey** | Original quality flag given by the origin survey. |\n",
    "| **mag\\_auto\\_[g,r,i,z,y]\\_dered** | Apparent magnitude in bands [g, r, i, z, y], corrected for reddening |\n",
    "| **magerr\\_auto\\_[g,r,i,z,y]** | Apparent magnitude error in bands [g, r, i, z, y] |"
   ]
  },
  {
   "cell_type": "markdown",
   "id": "7cefbe53-79bc-40f8-ac9e-e26463974a3c",
   "metadata": {},
   "source": [
    "Compute colors $(g-r)$ e $(r-i)$ "
   ]
  },
  {
   "cell_type": "code",
   "execution_count": null,
   "id": "321187e3-b377-46fb-9a04-e112dedffaf4",
   "metadata": {
    "tags": []
   },
   "outputs": [],
   "source": [
    "training_set['gmr'] = training_set['mag_auto_g_dered'] - training_set['mag_auto_r_dered']\n",
    "training_set['rmi'] = training_set['mag_auto_r_dered'] - training_set['mag_auto_i_dered']"
   ]
  },
  {
   "cell_type": "markdown",
   "id": "d96fd0c3-fc12-4577-be0b-f7f9a11019ad",
   "metadata": {
    "tags": []
   },
   "source": [
    "Basic statistics "
   ]
  },
  {
   "cell_type": "code",
   "execution_count": null,
   "id": "e95af7c3-3724-4460-aa24-cf069ba567b3",
   "metadata": {
    "tags": []
   },
   "outputs": [],
   "source": [
    "training_set.describe()"
   ]
  },
  {
   "cell_type": "code",
   "execution_count": null,
   "id": "63bde5d3-e98c-4d10-8614-a63ce2930947",
   "metadata": {
    "tags": []
   },
   "outputs": [],
   "source": [
    "frac = 0.06\n",
    "train_sample_for_plots = training_set.sample(frac=frac, axis='index')\n",
    "assert len(train_sample_for_plots) == round(frac * len(training_set))\n",
    "print(len(train_sample_for_plots))\n",
    "train_sample_for_plots = training_set # comment this line to use a fraction of the sample "
   ]
  },
  {
   "cell_type": "markdown",
   "id": "33b6d153-7431-4065-b997-79e7d9ffedc5",
   "metadata": {},
   "source": [
    "--- \n",
    "\n",
    "#### Spatial Distribution \n"
   ]
  },
  {
   "cell_type": "code",
   "execution_count": null,
   "id": "0ffef202-3cb6-4817-bc0f-0e07cfb32d42",
   "metadata": {
    "tags": []
   },
   "outputs": [],
   "source": [
    "coords = SkyCoord(ra=-np.array(train_sample_for_plots.ra)*u.degree, \n",
    "                  dec=np.array(train_sample_for_plots.dec)*u.degree, frame='icrs')\n",
    "train_sample_for_plots.ra = np.array(coords.ra.wrap_at(180*u.degree))\n",
    "train_sample_for_plots.dec = np.array(coords.dec)"
   ]
  },
  {
   "cell_type": "code",
   "execution_count": null,
   "id": "9c06d71c-6476-47fd-a3db-a879efe2547f",
   "metadata": {},
   "outputs": [],
   "source": [
    "%%time\n",
    "fig = plt.figure(figsize=[14,6])\n",
    "ax = fig.add_subplot(111, projection='mollweide')   \n",
    "ra_rad = coords.ra.wrap_at(180 * u.deg).radian\n",
    "dec_rad = coords.dec.radian\n",
    "plt.plot(ra_rad, dec_rad, '.', alpha=0.1)\n",
    "plt.plot(-np.radians(foot_ra), np.radians(foot_dec), '-', color='darkorange')\n",
    "org=0.0\n",
    "tick_labels = np.array([150, 120, 90, 60, 30, 0, 330, 300, 270, 240, 210])\n",
    "tick_labels = np.remainder(tick_labels+360+org,360)\n",
    "ax.set_xticklabels(tick_labels)     # we add the scale on the x axis\n",
    "ax.set_xlabel('R.A.')\n",
    "ax.xaxis.label.set_fontsize(14)\n",
    "ax.set_ylabel('Dec.')\n",
    "ax.yaxis.label.set_fontsize(14)\n",
    "ax.grid(True)\n",
    "plt.tight_layout()"
   ]
  },
  {
   "cell_type": "markdown",
   "id": "0003d9dd-8758-49e5-8aa1-c2ef4284366d",
   "metadata": {},
   "source": [
    "Redshift distribution"
   ]
  },
  {
   "cell_type": "code",
   "execution_count": null,
   "id": "07201b66-43f4-46bc-bfb0-15cbd24ce423",
   "metadata": {
    "tags": []
   },
   "outputs": [],
   "source": [
    "redshift = hv.Dimension('z', label='spec-z', range=(0.0, 2.0))\n",
    "(count, z_bin) = np.histogram(train_sample_for_plots.z, bins='fd')"
   ]
  },
  {
   "cell_type": "code",
   "execution_count": null,
   "id": "7242c54f-9501-40ad-aef8-478687289b7b",
   "metadata": {
    "tags": []
   },
   "outputs": [],
   "source": [
    "z_distribution = hv.Histogram((count, z_bin), kdims=redshift).opts(\n",
    "    title='Distribuição de redshifts', xlabel='spec-z', height=400, width=800)   \n",
    "z_distribution"
   ]
  },
  {
   "cell_type": "markdown",
   "id": "3405231c-0ced-4cae-b4a6-aacc4905a947",
   "metadata": {},
   "source": [
    "#### Quality Flags"
   ]
  },
  {
   "cell_type": "code",
   "execution_count": null,
   "id": "6e4330de-11cc-4a9f-9e57-76b7968234aa",
   "metadata": {
    "tags": []
   },
   "outputs": [],
   "source": [
    "training_set.flag_des.value_counts() "
   ]
  },
  {
   "cell_type": "code",
   "execution_count": null,
   "id": "53f41d74-ac08-4dd4-a50d-175285fe6818",
   "metadata": {
    "tags": []
   },
   "outputs": [],
   "source": [
    "def fmt(x):\n",
    "    return '{:.1f}%'.format(x)\n",
    "counts = pd.DataFrame(data={'flag_des':[len(training_set.query('flag_des ==3')), \n",
    "                                        len(training_set.query('flag_des ==4'))]}, index= [3, 4])\n",
    "counts.plot.pie(y='flag_des', labels=None, autopct=fmt, colors=['darkorange', 'steelblue']) \n",
    "counts"
   ]
  },
  {
   "cell_type": "markdown",
   "id": "7ed9d86c-0c8b-411a-aba7-0e459f74985c",
   "metadata": {
    "tags": []
   },
   "source": [
    "Redshift distributions depending on the quality flag"
   ]
  },
  {
   "cell_type": "code",
   "execution_count": null,
   "id": "fb59083e-3ae3-416c-a21c-97c638fb0ec8",
   "metadata": {
    "tags": []
   },
   "outputs": [],
   "source": [
    "(count4, z_bin4) = np.histogram(train_sample_for_plots.query('flag_des == 4').z, bins='fd')\n",
    "z_distribution4 = hv.Histogram((count4, z_bin4), kdims=redshift).opts(\n",
    "    title='flag_des = 4', xlabel='spec-z', height=400, width=400, xlim=(0., 2.))\n",
    "(count3, z_bin3) = np.histogram(train_sample_for_plots.query('flag_des == 3').z, bins='fd')\n",
    "z_distribution3 = hv.Histogram((count3, z_bin3), kdims=redshift).opts(\n",
    "    title='flag_des = 3',  color='darkorange', xlabel='spec-z', height=400, width=400, xlim=(0., 2.))\n",
    "z_dist_by_flag = z_distribution4.options(height=350, width=450)  +  z_distribution3.options(height=350, width=450)             \n",
    "z_dist_by_flag"
   ]
  },
  {
   "cell_type": "markdown",
   "id": "76c63ab9-ef6f-4e54-9d7d-3b769360ba09",
   "metadata": {},
   "source": [
    "#### Characteristics of the photometric sample"
   ]
  },
  {
   "cell_type": "markdown",
   "id": "96d9810a-8d38-4cdd-a5f6-a082fd3ed69f",
   "metadata": {},
   "source": [
    "##### Magnitude distributions and their respective errors"
   ]
  },
  {
   "cell_type": "code",
   "execution_count": null,
   "id": "284c51ed-a53a-4578-ba8d-76ef4bee56d8",
   "metadata": {},
   "outputs": [],
   "source": [
    "bands = ['g', 'r', 'i', 'z', 'y']"
   ]
  },
  {
   "cell_type": "code",
   "execution_count": null,
   "id": "7db8e426-6aef-4d2b-bca0-13a26678dfe6",
   "metadata": {},
   "outputs": [],
   "source": [
    "fig = plt.figure(figsize=[12,4])\n",
    "plt.subplot(1,2,1)\n",
    "for band in bands:\n",
    "    plt.hist(train_sample_for_plots.query(f'mag_auto_{band}_dered != 99.')[f'mag_auto_{band}_dered'], \n",
    "             bins=30, histtype='step', lw=2, log=True)\n",
    "plt.xlabel('magnitude')\n",
    "plt.ylabel('counts')\n",
    "plt.xlim(12,28)\n",
    "plt.ylim(10,)\n",
    "plt.subplot(1,2,2)\n",
    "for band in bands:\n",
    "    plt.hist(train_sample_for_plots.query(f'mag_auto_{band}_dered != 99. & magerr_auto_{band} < 1.')[f'magerr_auto_{band}'], \n",
    "             bins=30, label=band, histtype='step', lw=2, log=True)\n",
    "plt.xlabel('magnitude error')\n",
    "plt.ylabel('counts')\n",
    "plt.xlim(0,1)\n",
    "plt.ylim(10,)\n",
    "plt.legend(loc='upper right')\n",
    "plt.tight_layout()"
   ]
  },
  {
   "cell_type": "markdown",
   "id": "822b9633-bb65-4dba-84d7-d55d9475561e",
   "metadata": {},
   "source": [
    "##### Magnitude errors"
   ]
  },
  {
   "cell_type": "code",
   "execution_count": null,
   "id": "4bad2a30-0036-4de9-9acc-34352bfb0fe7",
   "metadata": {},
   "outputs": [],
   "source": [
    "plt.figure(figsize=[18,4])\n",
    "for i, band in enumerate(bands): \n",
    "    plt.subplot(int(f'15{str(i+1)}'))\n",
    "    query = f'mag_auto_{band}_dered != 99. & magerr_auto_{band} < 2.'\n",
    "    plt.plot(train_sample_for_plots.query(query)[f'mag_auto_{band}_dered'],\n",
    "             train_sample_for_plots.query(query)[f'magerr_auto_{band}'], \n",
    "             '.', alpha=0.3, color='steelblue')\n",
    "    plt.xlabel(f'mag {band}')\n",
    "    if i == 0: \n",
    "        plt.ylabel('error')\n",
    "    plt.xlim(16, 28)    \n",
    "    plt.ylim(0, 2)\n",
    "    plt.tight_layout()"
   ]
  },
  {
   "cell_type": "markdown",
   "id": "ad56274d-2781-4694-bf41-b8a12ff57781",
   "metadata": {
    "tags": []
   },
   "source": [
    "##### Magnitude X redshift"
   ]
  },
  {
   "cell_type": "code",
   "execution_count": null,
   "id": "e58f6ccb-30ce-485d-81fa-ec431a510c00",
   "metadata": {},
   "outputs": [],
   "source": [
    "clean = 'magerr_auto_i < 0.1 & mag_auto_g_dered != 99. & mag_auto_r_dered != 99. & mag_auto_i_dered != 99.'\n",
    "train_sample_for_plots.query(clean, inplace=True)"
   ]
  },
  {
   "cell_type": "code",
   "execution_count": null,
   "id": "323c0c49-eabe-4b21-b426-533ad3e461da",
   "metadata": {},
   "outputs": [],
   "source": [
    "mag_vs_z = hv.Scatter(train_sample_for_plots[['z', 'mag_auto_i_dered']]).opts(\n",
    "        toolbar='above', tools=['hover'], height=400, width=800, alpha=0.5, \n",
    "        size=2, xlim=(0,2), ylim=(14,24), xlabel='spec-z', ylabel='mag i')\n",
    "mag_vs_z"
   ]
  },
  {
   "cell_type": "markdown",
   "id": "09773eb5-cfd7-4803-9388-61d9fb8378eb",
   "metadata": {},
   "source": [
    "##### CMD and color-color plots"
   ]
  },
  {
   "cell_type": "code",
   "execution_count": null,
   "id": "04a8567d-9c67-4d1b-a0f8-914c3f3b8981",
   "metadata": {},
   "outputs": [],
   "source": [
    "plot_style_bkh = dict(alpha=0.2,# color='steelblue',\n",
    "                      marker='triangle', size=3,\n",
    "                      xticks=5, yticks=5,\n",
    "                      height=400, width=400,\n",
    "                      toolbar='above')\n",
    "plot_style = plot_style_bkh"
   ]
  },
  {
   "cell_type": "code",
   "execution_count": null,
   "id": "4f4e1c33-c530-41c3-9c18-7ded6d2ee582",
   "metadata": {
    "tags": []
   },
   "outputs": [],
   "source": [
    "points = train_sample_for_plots"
   ]
  },
  {
   "cell_type": "code",
   "execution_count": null,
   "id": "e300a251-3019-4db1-84aa-24af9c10d122",
   "metadata": {
    "tags": []
   },
   "outputs": [],
   "source": [
    "imag = hv.Dimension('mag_auto_i_dered', label='mag i', range=(12, 24))\n",
    "gmr = hv.Dimension('gmr', label='(g-r)', range=(-0.8, 3.0))\n",
    "col_mag = hv.Scatter(points, kdims=imag, vdims=gmr).opts(**plot_style)\n",
    "col_mag = col_mag.hist(dimension=[imag, gmr], num_bins=100, adjoin=True)"
   ]
  },
  {
   "cell_type": "code",
   "execution_count": null,
   "id": "d65492be-b04a-4e5f-8434-bdc295800fa3",
   "metadata": {},
   "outputs": [],
   "source": [
    "rmi = hv.Dimension('rmi', label='(r-i)', range=(-0.8, 2.5))\n",
    "gmr = hv.Dimension('gmr', label='(g-r)', range=(-0.8, 3.5))\n",
    "col_col = hv.Scatter(points, kdims=rmi, vdims=gmr).opts(**plot_style)\n",
    "col_col = col_col.hist(dimension=[rmi, gmr], num_bins=100, adjoin=True)"
   ]
  },
  {
   "cell_type": "code",
   "execution_count": null,
   "id": "cf8ff47c-5381-455d-93d8-782e5370e75b",
   "metadata": {
    "tags": []
   },
   "outputs": [],
   "source": [
    "col_mag + col_col"
   ]
  }
 ],
 "metadata": {
  "kernelspec": {
   "display_name": "specz",
   "language": "python",
   "name": "specz"
  },
  "language_info": {
   "codemirror_mode": {
    "name": "ipython",
    "version": 3
   },
   "file_extension": ".py",
   "mimetype": "text/x-python",
   "name": "python",
   "nbconvert_exporter": "python",
   "pygments_lexer": "ipython3",
   "version": "3.10.12"
  }
 },
 "nbformat": 4,
 "nbformat_minor": 5
}
